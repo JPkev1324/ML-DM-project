{
  "cells": [
    {
      "cell_type": "code",
      "execution_count": null,
      "id": "12425150-f178-4aa2-8cd6-a1013613e02f",
      "metadata": {
        "id": "12425150-f178-4aa2-8cd6-a1013613e02f",
        "colab": {
          "base_uri": "https://localhost:8080/"
        },
        "outputId": "eb4bd57b-c7a7-49c4-c6b9-e52ea830e976"
      },
      "outputs": [
        {
          "output_type": "stream",
          "name": "stdout",
          "text": [
            "\u001b[K     |████████████████████████████████| 1.1 MB 4.7 MB/s \n",
            "\u001b[K     |████████████████████████████████| 16.6 MB 58.2 MB/s \n",
            "\u001b[K     |████████████████████████████████| 7.8 MB 49.5 MB/s \n",
            "\u001b[K     |████████████████████████████████| 2.4 MB 5.0 MB/s \n",
            "\u001b[?25hDownloading...\n",
            "From: https://drive.google.com/uc?id=1iDEUTmZubD6eqY6at-NVACaJYIHshwU4\n",
            "To: /content/crash_data_2009.csv\n",
            "100% 186M/186M [00:01<00:00, 176MB/s]\n",
            "Downloading...\n",
            "From: https://drive.google.com/uc?id=1vlx53MUzIFdXXDXZT76oD2-IMTbTk0l0\n",
            "To: /content/annual_miles_traveled_2009.csv\n",
            "100% 14.6k/14.6k [00:00<00:00, 18.5MB/s]\n",
            "Downloading...\n",
            "From: https://drive.google.com/uc?id=1kRiFuJeQrGNoIxo4HKxKxryRiUnEBWHz\n",
            "To: /content/crashes.csv\n",
            "100% 193M/193M [00:01<00:00, 193MB/s]\n"
          ]
        }
      ],
      "source": [
        "!pip install -q geopandas \n",
        "!pip install -q -U libpysal\n",
        "!pip install -q -U mapclassify\n",
        "!pip install -q -U --no-cache-dir gdown --pre\n",
        "\n",
        "import pandas as pd\n",
        "import numpy as np\n",
        "import openpyxl\n",
        "import csv\n",
        "import sqlite3\n",
        "from sklearn.linear_model import LinearRegression\n",
        "import matplotlib.pyplot as plt\n",
        "import seaborn as sns\n",
        "from sklearn.preprocessing import LabelEncoder\n",
        "from sklearn.neural_network import MLPClassifier\n",
        "from sklearn.metrics import accuracy_score\n",
        "from sklearn.model_selection import train_test_split\n",
        "from sklearn.model_selection import GridSearchCV, ParameterGrid\n",
        "from sklearn.metrics import f1_score\n",
        "from imblearn.over_sampling import SMOTE\n",
        "from imblearn.over_sampling import RandomOverSampler\n",
        "import geopandas as gpd\n",
        "\n",
        "!gdown 1iDEUTmZubD6eqY6at-NVACaJYIHshwU4\n",
        "!gdown 1vlx53MUzIFdXXDXZT76oD2-IMTbTk0l0\n",
        "!gdown 1kRiFuJeQrGNoIxo4HKxKxryRiUnEBWHz\n",
        "!gdown -q https://drive.google.com/drive/folders/1-yv1tUrb_IZtlxwW-_4ujT6IL0L6uozj --folder\n",
        "!gdown -q https://drive.google.com/drive/folders/1769hJh1Q1vffsyUxq8AVUAUFzf9KrzkO --folder"
      ]
    },
    {
      "cell_type": "markdown",
      "source": [
        "# Research Question\n",
        "# Predict whether a crash is hit-and-run based on 'road_surface', 'lighting', 'intersection', 'alcohol_involved', 'party_count', 'population'"
      ],
      "metadata": {
        "id": "IQ9esHez-T4E"
      },
      "id": "IQ9esHez-T4E"
    },
    {
      "cell_type": "markdown",
      "id": "0d0b9b91-70dc-470d-87c8-24d064f7756f",
      "metadata": {
        "id": "0d0b9b91-70dc-470d-87c8-24d064f7756f"
      },
      "source": [
        "# Crashes Dataframe"
      ]
    },
    {
      "cell_type": "code",
      "execution_count": null,
      "id": "48cfa0f8-62d2-42c0-8423-42278925fc81",
      "metadata": {
        "id": "48cfa0f8-62d2-42c0-8423-42278925fc81",
        "colab": {
          "base_uri": "https://localhost:8080/",
          "height": 644
        },
        "outputId": "1138d055-8bc8-4920-d9ea-e786428acf33"
      },
      "outputs": [
        {
          "output_type": "execute_result",
          "data": {
            "text/plain": [
              "        case_id jurisdiction officer_id reporting_district       chp_shift  \\\n",
              "0       3858022         1005       P379                 2C         not chp   \n",
              "1       3899441         9120      17248                NaN  2200 thru 0559   \n",
              "2       3899442         9530      19005                NaN  0600 thru 1359   \n",
              "3       3899445         9530      19284                NaN  1400 thru 2159   \n",
              "4       3899446         9530      19289                NaN  1400 thru 2159   \n",
              "...         ...          ...        ...                ...             ...   \n",
              "426223  5051991         3610      50717               SBPD         not chp   \n",
              "426224  5051995         3610      50640                  B         not chp   \n",
              "426225  5051996         3610      50165               3610         not chp   \n",
              "426226  5051999         3610      50705                NaN         not chp   \n",
              "426227  5052000         3610      25496               3610         not chp   \n",
              "\n",
              "              population county_city_location county_location  \\\n",
              "0                >250000                 1005          fresno   \n",
              "1          2500 to 10000                 0801       del norte   \n",
              "2                >250000                 1942     los angeles   \n",
              "3                >250000                 1942     los angeles   \n",
              "4         25000 to 50000                 1939     los angeles   \n",
              "...                  ...                  ...             ...   \n",
              "426223  100000 to 250000                 3610  san bernardino   \n",
              "426224  100000 to 250000                 3610  san bernardino   \n",
              "426225  100000 to 250000                 3610  san bernardino   \n",
              "426226  100000 to 250000                 3610  san bernardino   \n",
              "426227  100000 to 250000                 3610  san bernardino   \n",
              "\n",
              "       special_condition          beat_type  ... bicyclist_injured_count  \\\n",
              "0                      0            not chp  ...                       0   \n",
              "1                      0  chp state highway  ...                       0   \n",
              "2                      0  chp state highway  ...                       0   \n",
              "3                      0  chp state highway  ...                       0   \n",
              "4                      0  chp state highway  ...                       0   \n",
              "...                  ...                ...  ...                     ...   \n",
              "426223                 0            not chp  ...                       0   \n",
              "426224                 0            not chp  ...                       0   \n",
              "426225                 0            not chp  ...                       0   \n",
              "426226                 0            not chp  ...                       0   \n",
              "426227                 0            not chp  ...                       0   \n",
              "\n",
              "       motorcyclist_killed_count motorcyclist_injured_count primary_ramp  \\\n",
              "0                              0                          0          NaN   \n",
              "1                              0                          0          NaN   \n",
              "2                              0                          0          NaN   \n",
              "3                              0                          0          NaN   \n",
              "4                              0                          0          NaN   \n",
              "...                          ...                        ...          ...   \n",
              "426223                         0                          0          NaN   \n",
              "426224                         0                          0          NaN   \n",
              "426225                         0                          0          NaN   \n",
              "426226                         0                          0          NaN   \n",
              "426227                         0                          0          NaN   \n",
              "\n",
              "       secondary_ramp  latitude   longitude collision_date collision_time  \\\n",
              "0                 NaN       NaN         NaN     2009-02-03       17:11:00   \n",
              "1                 NaN       NaN         NaN     2009-02-28       01:45:00   \n",
              "2                 NaN  33.86465  -118.28533     2009-02-09       10:20:00   \n",
              "3                 NaN   33.7912   -118.2823     2009-02-18       15:50:00   \n",
              "4                 NaN   33.8845   -118.3526     2009-02-11       17:35:00   \n",
              "...               ...       ...         ...            ...            ...   \n",
              "426223            NaN       NaN         NaN     2009-12-21       08:26:00   \n",
              "426224            NaN       NaN         NaN     2009-12-21       16:21:00   \n",
              "426225            NaN       NaN         NaN     2009-12-24       09:04:00   \n",
              "426226            NaN       NaN         NaN     2009-12-21       19:14:00   \n",
              "426227            NaN       NaN         NaN     2009-12-24       11:52:00   \n",
              "\n",
              "       process_date  \n",
              "0        2009-04-27  \n",
              "1        2009-11-02  \n",
              "2        2010-01-14  \n",
              "3        2010-01-13  \n",
              "4        2010-01-11  \n",
              "...             ...  \n",
              "426223   2011-02-17  \n",
              "426224   2011-02-17  \n",
              "426225   2011-02-18  \n",
              "426226   2011-02-17  \n",
              "426227   2011-02-18  \n",
              "\n",
              "[426228 rows x 75 columns]"
            ],
            "text/html": [
              "\n",
              "  <div id=\"df-2ce9ef8b-2717-4b41-bbf0-2dd61831ec2d\">\n",
              "    <div class=\"colab-df-container\">\n",
              "      <div>\n",
              "<style scoped>\n",
              "    .dataframe tbody tr th:only-of-type {\n",
              "        vertical-align: middle;\n",
              "    }\n",
              "\n",
              "    .dataframe tbody tr th {\n",
              "        vertical-align: top;\n",
              "    }\n",
              "\n",
              "    .dataframe thead th {\n",
              "        text-align: right;\n",
              "    }\n",
              "</style>\n",
              "<table border=\"1\" class=\"dataframe\">\n",
              "  <thead>\n",
              "    <tr style=\"text-align: right;\">\n",
              "      <th></th>\n",
              "      <th>case_id</th>\n",
              "      <th>jurisdiction</th>\n",
              "      <th>officer_id</th>\n",
              "      <th>reporting_district</th>\n",
              "      <th>chp_shift</th>\n",
              "      <th>population</th>\n",
              "      <th>county_city_location</th>\n",
              "      <th>county_location</th>\n",
              "      <th>special_condition</th>\n",
              "      <th>beat_type</th>\n",
              "      <th>...</th>\n",
              "      <th>bicyclist_injured_count</th>\n",
              "      <th>motorcyclist_killed_count</th>\n",
              "      <th>motorcyclist_injured_count</th>\n",
              "      <th>primary_ramp</th>\n",
              "      <th>secondary_ramp</th>\n",
              "      <th>latitude</th>\n",
              "      <th>longitude</th>\n",
              "      <th>collision_date</th>\n",
              "      <th>collision_time</th>\n",
              "      <th>process_date</th>\n",
              "    </tr>\n",
              "  </thead>\n",
              "  <tbody>\n",
              "    <tr>\n",
              "      <th>0</th>\n",
              "      <td>3858022</td>\n",
              "      <td>1005</td>\n",
              "      <td>P379</td>\n",
              "      <td>2C</td>\n",
              "      <td>not chp</td>\n",
              "      <td>&gt;250000</td>\n",
              "      <td>1005</td>\n",
              "      <td>fresno</td>\n",
              "      <td>0</td>\n",
              "      <td>not chp</td>\n",
              "      <td>...</td>\n",
              "      <td>0</td>\n",
              "      <td>0</td>\n",
              "      <td>0</td>\n",
              "      <td>NaN</td>\n",
              "      <td>NaN</td>\n",
              "      <td>NaN</td>\n",
              "      <td>NaN</td>\n",
              "      <td>2009-02-03</td>\n",
              "      <td>17:11:00</td>\n",
              "      <td>2009-04-27</td>\n",
              "    </tr>\n",
              "    <tr>\n",
              "      <th>1</th>\n",
              "      <td>3899441</td>\n",
              "      <td>9120</td>\n",
              "      <td>17248</td>\n",
              "      <td>NaN</td>\n",
              "      <td>2200 thru 0559</td>\n",
              "      <td>2500 to 10000</td>\n",
              "      <td>0801</td>\n",
              "      <td>del norte</td>\n",
              "      <td>0</td>\n",
              "      <td>chp state highway</td>\n",
              "      <td>...</td>\n",
              "      <td>0</td>\n",
              "      <td>0</td>\n",
              "      <td>0</td>\n",
              "      <td>NaN</td>\n",
              "      <td>NaN</td>\n",
              "      <td>NaN</td>\n",
              "      <td>NaN</td>\n",
              "      <td>2009-02-28</td>\n",
              "      <td>01:45:00</td>\n",
              "      <td>2009-11-02</td>\n",
              "    </tr>\n",
              "    <tr>\n",
              "      <th>2</th>\n",
              "      <td>3899442</td>\n",
              "      <td>9530</td>\n",
              "      <td>19005</td>\n",
              "      <td>NaN</td>\n",
              "      <td>0600 thru 1359</td>\n",
              "      <td>&gt;250000</td>\n",
              "      <td>1942</td>\n",
              "      <td>los angeles</td>\n",
              "      <td>0</td>\n",
              "      <td>chp state highway</td>\n",
              "      <td>...</td>\n",
              "      <td>0</td>\n",
              "      <td>0</td>\n",
              "      <td>0</td>\n",
              "      <td>NaN</td>\n",
              "      <td>NaN</td>\n",
              "      <td>33.86465</td>\n",
              "      <td>-118.28533</td>\n",
              "      <td>2009-02-09</td>\n",
              "      <td>10:20:00</td>\n",
              "      <td>2010-01-14</td>\n",
              "    </tr>\n",
              "    <tr>\n",
              "      <th>3</th>\n",
              "      <td>3899445</td>\n",
              "      <td>9530</td>\n",
              "      <td>19284</td>\n",
              "      <td>NaN</td>\n",
              "      <td>1400 thru 2159</td>\n",
              "      <td>&gt;250000</td>\n",
              "      <td>1942</td>\n",
              "      <td>los angeles</td>\n",
              "      <td>0</td>\n",
              "      <td>chp state highway</td>\n",
              "      <td>...</td>\n",
              "      <td>0</td>\n",
              "      <td>0</td>\n",
              "      <td>0</td>\n",
              "      <td>NaN</td>\n",
              "      <td>NaN</td>\n",
              "      <td>33.7912</td>\n",
              "      <td>-118.2823</td>\n",
              "      <td>2009-02-18</td>\n",
              "      <td>15:50:00</td>\n",
              "      <td>2010-01-13</td>\n",
              "    </tr>\n",
              "    <tr>\n",
              "      <th>4</th>\n",
              "      <td>3899446</td>\n",
              "      <td>9530</td>\n",
              "      <td>19289</td>\n",
              "      <td>NaN</td>\n",
              "      <td>1400 thru 2159</td>\n",
              "      <td>25000 to 50000</td>\n",
              "      <td>1939</td>\n",
              "      <td>los angeles</td>\n",
              "      <td>0</td>\n",
              "      <td>chp state highway</td>\n",
              "      <td>...</td>\n",
              "      <td>0</td>\n",
              "      <td>0</td>\n",
              "      <td>0</td>\n",
              "      <td>NaN</td>\n",
              "      <td>NaN</td>\n",
              "      <td>33.8845</td>\n",
              "      <td>-118.3526</td>\n",
              "      <td>2009-02-11</td>\n",
              "      <td>17:35:00</td>\n",
              "      <td>2010-01-11</td>\n",
              "    </tr>\n",
              "    <tr>\n",
              "      <th>...</th>\n",
              "      <td>...</td>\n",
              "      <td>...</td>\n",
              "      <td>...</td>\n",
              "      <td>...</td>\n",
              "      <td>...</td>\n",
              "      <td>...</td>\n",
              "      <td>...</td>\n",
              "      <td>...</td>\n",
              "      <td>...</td>\n",
              "      <td>...</td>\n",
              "      <td>...</td>\n",
              "      <td>...</td>\n",
              "      <td>...</td>\n",
              "      <td>...</td>\n",
              "      <td>...</td>\n",
              "      <td>...</td>\n",
              "      <td>...</td>\n",
              "      <td>...</td>\n",
              "      <td>...</td>\n",
              "      <td>...</td>\n",
              "      <td>...</td>\n",
              "    </tr>\n",
              "    <tr>\n",
              "      <th>426223</th>\n",
              "      <td>5051991</td>\n",
              "      <td>3610</td>\n",
              "      <td>50717</td>\n",
              "      <td>SBPD</td>\n",
              "      <td>not chp</td>\n",
              "      <td>100000 to 250000</td>\n",
              "      <td>3610</td>\n",
              "      <td>san bernardino</td>\n",
              "      <td>0</td>\n",
              "      <td>not chp</td>\n",
              "      <td>...</td>\n",
              "      <td>0</td>\n",
              "      <td>0</td>\n",
              "      <td>0</td>\n",
              "      <td>NaN</td>\n",
              "      <td>NaN</td>\n",
              "      <td>NaN</td>\n",
              "      <td>NaN</td>\n",
              "      <td>2009-12-21</td>\n",
              "      <td>08:26:00</td>\n",
              "      <td>2011-02-17</td>\n",
              "    </tr>\n",
              "    <tr>\n",
              "      <th>426224</th>\n",
              "      <td>5051995</td>\n",
              "      <td>3610</td>\n",
              "      <td>50640</td>\n",
              "      <td>B</td>\n",
              "      <td>not chp</td>\n",
              "      <td>100000 to 250000</td>\n",
              "      <td>3610</td>\n",
              "      <td>san bernardino</td>\n",
              "      <td>0</td>\n",
              "      <td>not chp</td>\n",
              "      <td>...</td>\n",
              "      <td>0</td>\n",
              "      <td>0</td>\n",
              "      <td>0</td>\n",
              "      <td>NaN</td>\n",
              "      <td>NaN</td>\n",
              "      <td>NaN</td>\n",
              "      <td>NaN</td>\n",
              "      <td>2009-12-21</td>\n",
              "      <td>16:21:00</td>\n",
              "      <td>2011-02-17</td>\n",
              "    </tr>\n",
              "    <tr>\n",
              "      <th>426225</th>\n",
              "      <td>5051996</td>\n",
              "      <td>3610</td>\n",
              "      <td>50165</td>\n",
              "      <td>3610</td>\n",
              "      <td>not chp</td>\n",
              "      <td>100000 to 250000</td>\n",
              "      <td>3610</td>\n",
              "      <td>san bernardino</td>\n",
              "      <td>0</td>\n",
              "      <td>not chp</td>\n",
              "      <td>...</td>\n",
              "      <td>0</td>\n",
              "      <td>0</td>\n",
              "      <td>0</td>\n",
              "      <td>NaN</td>\n",
              "      <td>NaN</td>\n",
              "      <td>NaN</td>\n",
              "      <td>NaN</td>\n",
              "      <td>2009-12-24</td>\n",
              "      <td>09:04:00</td>\n",
              "      <td>2011-02-18</td>\n",
              "    </tr>\n",
              "    <tr>\n",
              "      <th>426226</th>\n",
              "      <td>5051999</td>\n",
              "      <td>3610</td>\n",
              "      <td>50705</td>\n",
              "      <td>NaN</td>\n",
              "      <td>not chp</td>\n",
              "      <td>100000 to 250000</td>\n",
              "      <td>3610</td>\n",
              "      <td>san bernardino</td>\n",
              "      <td>0</td>\n",
              "      <td>not chp</td>\n",
              "      <td>...</td>\n",
              "      <td>0</td>\n",
              "      <td>0</td>\n",
              "      <td>0</td>\n",
              "      <td>NaN</td>\n",
              "      <td>NaN</td>\n",
              "      <td>NaN</td>\n",
              "      <td>NaN</td>\n",
              "      <td>2009-12-21</td>\n",
              "      <td>19:14:00</td>\n",
              "      <td>2011-02-17</td>\n",
              "    </tr>\n",
              "    <tr>\n",
              "      <th>426227</th>\n",
              "      <td>5052000</td>\n",
              "      <td>3610</td>\n",
              "      <td>25496</td>\n",
              "      <td>3610</td>\n",
              "      <td>not chp</td>\n",
              "      <td>100000 to 250000</td>\n",
              "      <td>3610</td>\n",
              "      <td>san bernardino</td>\n",
              "      <td>0</td>\n",
              "      <td>not chp</td>\n",
              "      <td>...</td>\n",
              "      <td>0</td>\n",
              "      <td>0</td>\n",
              "      <td>0</td>\n",
              "      <td>NaN</td>\n",
              "      <td>NaN</td>\n",
              "      <td>NaN</td>\n",
              "      <td>NaN</td>\n",
              "      <td>2009-12-24</td>\n",
              "      <td>11:52:00</td>\n",
              "      <td>2011-02-18</td>\n",
              "    </tr>\n",
              "  </tbody>\n",
              "</table>\n",
              "<p>426228 rows × 75 columns</p>\n",
              "</div>\n",
              "      <button class=\"colab-df-convert\" onclick=\"convertToInteractive('df-2ce9ef8b-2717-4b41-bbf0-2dd61831ec2d')\"\n",
              "              title=\"Convert this dataframe to an interactive table.\"\n",
              "              style=\"display:none;\">\n",
              "        \n",
              "  <svg xmlns=\"http://www.w3.org/2000/svg\" height=\"24px\"viewBox=\"0 0 24 24\"\n",
              "       width=\"24px\">\n",
              "    <path d=\"M0 0h24v24H0V0z\" fill=\"none\"/>\n",
              "    <path d=\"M18.56 5.44l.94 2.06.94-2.06 2.06-.94-2.06-.94-.94-2.06-.94 2.06-2.06.94zm-11 1L8.5 8.5l.94-2.06 2.06-.94-2.06-.94L8.5 2.5l-.94 2.06-2.06.94zm10 10l.94 2.06.94-2.06 2.06-.94-2.06-.94-.94-2.06-.94 2.06-2.06.94z\"/><path d=\"M17.41 7.96l-1.37-1.37c-.4-.4-.92-.59-1.43-.59-.52 0-1.04.2-1.43.59L10.3 9.45l-7.72 7.72c-.78.78-.78 2.05 0 2.83L4 21.41c.39.39.9.59 1.41.59.51 0 1.02-.2 1.41-.59l7.78-7.78 2.81-2.81c.8-.78.8-2.07 0-2.86zM5.41 20L4 18.59l7.72-7.72 1.47 1.35L5.41 20z\"/>\n",
              "  </svg>\n",
              "      </button>\n",
              "      \n",
              "  <style>\n",
              "    .colab-df-container {\n",
              "      display:flex;\n",
              "      flex-wrap:wrap;\n",
              "      gap: 12px;\n",
              "    }\n",
              "\n",
              "    .colab-df-convert {\n",
              "      background-color: #E8F0FE;\n",
              "      border: none;\n",
              "      border-radius: 50%;\n",
              "      cursor: pointer;\n",
              "      display: none;\n",
              "      fill: #1967D2;\n",
              "      height: 32px;\n",
              "      padding: 0 0 0 0;\n",
              "      width: 32px;\n",
              "    }\n",
              "\n",
              "    .colab-df-convert:hover {\n",
              "      background-color: #E2EBFA;\n",
              "      box-shadow: 0px 1px 2px rgba(60, 64, 67, 0.3), 0px 1px 3px 1px rgba(60, 64, 67, 0.15);\n",
              "      fill: #174EA6;\n",
              "    }\n",
              "\n",
              "    [theme=dark] .colab-df-convert {\n",
              "      background-color: #3B4455;\n",
              "      fill: #D2E3FC;\n",
              "    }\n",
              "\n",
              "    [theme=dark] .colab-df-convert:hover {\n",
              "      background-color: #434B5C;\n",
              "      box-shadow: 0px 1px 3px 1px rgba(0, 0, 0, 0.15);\n",
              "      filter: drop-shadow(0px 1px 2px rgba(0, 0, 0, 0.3));\n",
              "      fill: #FFFFFF;\n",
              "    }\n",
              "  </style>\n",
              "\n",
              "      <script>\n",
              "        const buttonEl =\n",
              "          document.querySelector('#df-2ce9ef8b-2717-4b41-bbf0-2dd61831ec2d button.colab-df-convert');\n",
              "        buttonEl.style.display =\n",
              "          google.colab.kernel.accessAllowed ? 'block' : 'none';\n",
              "\n",
              "        async function convertToInteractive(key) {\n",
              "          const element = document.querySelector('#df-2ce9ef8b-2717-4b41-bbf0-2dd61831ec2d');\n",
              "          const dataTable =\n",
              "            await google.colab.kernel.invokeFunction('convertToInteractive',\n",
              "                                                     [key], {});\n",
              "          if (!dataTable) return;\n",
              "\n",
              "          const docLinkHtml = 'Like what you see? Visit the ' +\n",
              "            '<a target=\"_blank\" href=https://colab.research.google.com/notebooks/data_table.ipynb>data table notebook</a>'\n",
              "            + ' to learn more about interactive tables.';\n",
              "          element.innerHTML = '';\n",
              "          dataTable['output_type'] = 'display_data';\n",
              "          await google.colab.output.renderOutput(dataTable, element);\n",
              "          const docLink = document.createElement('div');\n",
              "          docLink.innerHTML = docLinkHtml;\n",
              "          element.appendChild(docLink);\n",
              "        }\n",
              "      </script>\n",
              "    </div>\n",
              "  </div>\n",
              "  "
            ]
          },
          "metadata": {},
          "execution_count": 2
        }
      ],
      "source": [
        "crashes = pd.read_csv(\"crash_data_2009.csv\", dtype=object)\n",
        "crashes"
      ]
    },
    {
      "cell_type": "code",
      "source": [
        "crashes['county_location'].unique()"
      ],
      "metadata": {
        "colab": {
          "base_uri": "https://localhost:8080/"
        },
        "id": "eEppzZ-BkF-t",
        "outputId": "b401675d-c17d-4106-d691-178b49d4560b"
      },
      "id": "eEppzZ-BkF-t",
      "execution_count": null,
      "outputs": [
        {
          "output_type": "execute_result",
          "data": {
            "text/plain": [
              "array(['fresno', 'del norte', 'los angeles', 'santa clara', 'butte',\n",
              "       'merced', 'orange', 'sacramento', 'sutter', 'santa cruz',\n",
              "       'san francisco', 'san bernardino', 'san diego', 'san mateo',\n",
              "       'lake', 'contra costa', 'marin', 'colusa', 'kern', 'madera',\n",
              "       'riverside', 'mendocino', 'san luis obispo', 'nevada',\n",
              "       'san joaquin', 'tulare', 'placer', 'kings', 'santa barbara',\n",
              "       'tehama', 'alameda', 'solano', 'ventura', 'napa', 'humboldt',\n",
              "       'sonoma', 'yolo', 'stanislaus', 'shasta', 'yuba', 'glenn',\n",
              "       'calaveras', 'imperial', 'el dorado', 'alpine', 'monterey',\n",
              "       'tuolumne', 'san benito', 'siskiyou', 'mono', 'plumas', 'mariposa',\n",
              "       'inyo', 'modoc', 'amador', 'sierra', 'lassen', 'trinity'],\n",
              "      dtype=object)"
            ]
          },
          "metadata": {},
          "execution_count": 3
        }
      ]
    },
    {
      "cell_type": "markdown",
      "source": [
        "# EDA"
      ],
      "metadata": {
        "id": "KtbuejDt-8no"
      },
      "id": "KtbuejDt-8no"
    },
    {
      "cell_type": "code",
      "source": [
        "for column in crashes.columns:\n",
        "  print(column)\n",
        "  print(crashes[column].values[:5])"
      ],
      "metadata": {
        "id": "0YWLjj4_-_1V",
        "colab": {
          "base_uri": "https://localhost:8080/"
        },
        "outputId": "7b4d0430-96a9-4d0b-b878-8bb241623674"
      },
      "id": "0YWLjj4_-_1V",
      "execution_count": null,
      "outputs": [
        {
          "output_type": "stream",
          "name": "stdout",
          "text": [
            "case_id\n",
            "['3858022' '3899441' '3899442' '3899445' '3899446']\n",
            "jurisdiction\n",
            "['1005' '9120' '9530' '9530' '9530']\n",
            "officer_id\n",
            "['P379' '17248' '19005' '19284' '19289']\n",
            "reporting_district\n",
            "['2C' nan nan nan nan]\n",
            "chp_shift\n",
            "['not chp' '2200 thru 0559' '0600 thru 1359' '1400 thru 2159'\n",
            " '1400 thru 2159']\n",
            "population\n",
            "['>250000' '2500 to 10000' '>250000' '>250000' '25000 to 50000']\n",
            "county_city_location\n",
            "['1005' '0801' '1942' '1942' '1939']\n",
            "county_location\n",
            "['fresno' 'del norte' 'los angeles' 'los angeles' 'los angeles']\n",
            "special_condition\n",
            "['0' '0' '0' '0' '0']\n",
            "beat_type\n",
            "['not chp' 'chp state highway' 'chp state highway' 'chp state highway'\n",
            " 'chp state highway']\n",
            "chp_beat_type\n",
            "['not chp' 'us highway' 'interstate' 'interstate' 'interstate']\n",
            "city_division_lapd\n",
            "[nan nan nan nan nan]\n",
            "chp_beat_class\n",
            "['not chp' 'chp other' 'chp other' 'chp other' 'chp other']\n",
            "beat_number\n",
            "['2257' '005' '110' '120' '400']\n",
            "primary_road\n",
            "['1ST ST' 'RT 101' 'RT 110' 'RT 110' 'RT 405']\n",
            "secondary_road\n",
            "['EAST CLINTON' 'RUDISILL RD' 'RT 91' 'PACIFIC COAST HWY' 'HAWTHORNE BL']\n",
            "distance\n",
            "['0.0' '8976.0' '2111.0' '250.0' '100.0']\n",
            "direction\n",
            "[nan 'north' 'south' 'north' 'south']\n",
            "intersection\n",
            "['1' '0' '0' '0' '0']\n",
            "weather_1\n",
            "['clear' 'clear' 'raining' 'clear' 'cloudy']\n",
            "weather_2\n",
            "[nan nan nan nan nan]\n",
            "state_highway_indicator\n",
            "['0' '1' '1' '1' '1']\n",
            "caltrans_county\n",
            "[nan 'del norte' 'los angeles' 'los angeles' 'los angeles']\n",
            "caltrans_district\n",
            "[nan '1' '7' '7' '7']\n",
            "state_route\n",
            "[nan '101' '110' '110' '405']\n",
            "route_suffix\n",
            "[nan nan nan nan nan]\n",
            "postmile_prefix\n",
            "[nan nan nan nan nan]\n",
            "postmile\n",
            "[nan '15.47' '9.31' '4.14' '17.64']\n",
            "location_type\n",
            "[nan 'highway' 'highway' 'highway' 'highway']\n",
            "ramp_intersection\n",
            "[nan nan nan nan nan]\n",
            "side_of_highway\n",
            "[nan 'southbound' 'southbound' 'northbound' 'southbound']\n",
            "tow_away\n",
            "[nan '1' '0' '1' '0']\n",
            "collision_severity\n",
            "['property damage only' 'property damage only' 'property damage only'\n",
            " 'property damage only' 'property damage only']\n",
            "killed_victims\n",
            "['0' '0' '0' '0' '0']\n",
            "injured_victims\n",
            "['0' '0' '0' '0' '0']\n",
            "party_count\n",
            "['2' '1' '2' '3' '3']\n",
            "primary_collision_factor\n",
            "['other improper driving' 'vehicle code violation'\n",
            " 'vehicle code violation' 'vehicle code violation'\n",
            " 'vehicle code violation']\n",
            "pcf_violation_code\n",
            "[nan nan nan nan nan]\n",
            "pcf_violation_category\n",
            "['other improper driving' 'improper turning' 'speeding' 'improper turning'\n",
            " 'speeding']\n",
            "pcf_violation\n",
            "[nan '22107' '22350' '22107' '22350']\n",
            "pcf_violation_subsection\n",
            "[nan nan nan nan nan]\n",
            "hit_and_run\n",
            "['not hit and run' 'not hit and run' 'not hit and run' 'not hit and run'\n",
            " 'not hit and run']\n",
            "type_of_collision\n",
            "['rear end' 'hit object' 'sideswipe' 'sideswipe' 'rear end']\n",
            "motor_vehicle_involved_with\n",
            "['other motor vehicle' 'fixed object' 'other motor vehicle'\n",
            " 'other motor vehicle' 'other motor vehicle']\n",
            "pedestrian_action\n",
            "['no pedestrian involved' 'no pedestrian involved'\n",
            " 'no pedestrian involved' 'no pedestrian involved'\n",
            " 'no pedestrian involved']\n",
            "road_surface\n",
            "['dry' 'dry' 'wet' 'dry' 'dry']\n",
            "road_condition_1\n",
            "['normal' 'normal' 'normal' 'normal' 'normal']\n",
            "road_condition_2\n",
            "[nan nan nan nan nan]\n",
            "lighting\n",
            "['daylight' 'dark with no street lights' 'daylight' 'daylight'\n",
            " 'dusk or dawn']\n",
            "control_device\n",
            "['functioning' 'none' 'none' 'none' 'none']\n",
            "chp_road_type\n",
            "['0' '0' '1' '1' '1']\n",
            "pedestrian_collision\n",
            "['0' '0' '0' '0' '0']\n",
            "bicycle_collision\n",
            "['0' '0' '0' '0' '0']\n",
            "motorcycle_collision\n",
            "['0' '0' '0' '0' '0']\n",
            "truck_collision\n",
            "['0' '0' '0' '0' '0']\n",
            "not_private_property\n",
            "['1' '1' '1' '1' '1']\n",
            "alcohol_involved\n",
            "[nan nan nan nan nan]\n",
            "statewide_vehicle_type_at_fault\n",
            "['emergency vehicle' 'passenger car' 'passenger car' 'passenger car'\n",
            " 'passenger car']\n",
            "chp_vehicle_type_at_fault\n",
            "['police car' 'passenger car, station' 'passenger car, station'\n",
            " 'passenger car, station' 'passenger car, station']\n",
            "severe_injury_count\n",
            "['0' '0' '0' '0' '0']\n",
            "other_visible_injury_count\n",
            "['0' '0' '0' '0' '0']\n",
            "complaint_of_pain_injury_count\n",
            "['0' '0' '0' '0' '0']\n",
            "pedestrian_killed_count\n",
            "['0' '0' '0' '0' '0']\n",
            "pedestrian_injured_count\n",
            "['0' '0' '0' '0' '0']\n",
            "bicyclist_killed_count\n",
            "['0' '0' '0' '0' '0']\n",
            "bicyclist_injured_count\n",
            "['0' '0' '0' '0' '0']\n",
            "motorcyclist_killed_count\n",
            "['0' '0' '0' '0' '0']\n",
            "motorcyclist_injured_count\n",
            "['0' '0' '0' '0' '0']\n",
            "primary_ramp\n",
            "[nan nan nan nan nan]\n",
            "secondary_ramp\n",
            "[nan nan nan nan nan]\n",
            "latitude\n",
            "[nan nan '33.86465' '33.7912' '33.8845']\n",
            "longitude\n",
            "[nan nan '-118.28533' '-118.2823' '-118.3526']\n",
            "collision_date\n",
            "['2009-02-03' '2009-02-28' '2009-02-09' '2009-02-18' '2009-02-11']\n",
            "collision_time\n",
            "['17:11:00' '01:45:00' '10:20:00' '15:50:00' '17:35:00']\n",
            "process_date\n",
            "['2009-04-27' '2009-11-02' '2010-01-14' '2010-01-13' '2010-01-11']\n"
          ]
        }
      ]
    },
    {
      "cell_type": "code",
      "source": [
        "# check whether there are duplicates in our data\n",
        "crashes.duplicated().sum()"
      ],
      "metadata": {
        "colab": {
          "base_uri": "https://localhost:8080/"
        },
        "id": "VvGjeWQZIrWu",
        "outputId": "669eafc2-42b5-4671-ce12-625a7037767b"
      },
      "id": "VvGjeWQZIrWu",
      "execution_count": null,
      "outputs": [
        {
          "output_type": "execute_result",
          "data": {
            "text/plain": [
              "0"
            ]
          },
          "metadata": {},
          "execution_count": 5
        }
      ]
    },
    {
      "cell_type": "code",
      "source": [
        "# check for missing values in the dataset\n",
        "crashes.isnull().sum()"
      ],
      "metadata": {
        "colab": {
          "base_uri": "https://localhost:8080/"
        },
        "id": "yXgFhpByIzin",
        "outputId": "5640348a-061a-4cda-d6dc-1962d4749048"
      },
      "id": "yXgFhpByIzin",
      "execution_count": null,
      "outputs": [
        {
          "output_type": "execute_result",
          "data": {
            "text/plain": [
              "case_id                    0\n",
              "jurisdiction             855\n",
              "officer_id              2138\n",
              "reporting_district    257894\n",
              "chp_shift                  0\n",
              "                       ...  \n",
              "latitude              307116\n",
              "longitude             307116\n",
              "collision_date             0\n",
              "collision_time          3766\n",
              "process_date               0\n",
              "Length: 75, dtype: int64"
            ]
          },
          "metadata": {},
          "execution_count": 6
        }
      ]
    },
    {
      "cell_type": "code",
      "source": [
        "# creating instance of labelencoder\n",
        "labelencoder = LabelEncoder()"
      ],
      "metadata": {
        "id": "ERhagCs5J1G9"
      },
      "id": "ERhagCs5J1G9",
      "execution_count": null,
      "outputs": []
    },
    {
      "cell_type": "markdown",
      "source": [
        "# Hit and Run"
      ],
      "metadata": {
        "id": "TTegKvDqKNDs"
      },
      "id": "TTegKvDqKNDs"
    },
    {
      "cell_type": "code",
      "source": [
        "crashes['hit_and_run'].isnull().sum()"
      ],
      "metadata": {
        "colab": {
          "base_uri": "https://localhost:8080/"
        },
        "id": "AxPAcNfsKO6E",
        "outputId": "c9090332-9a35-4698-df27-eb67bd3521d1"
      },
      "id": "AxPAcNfsKO6E",
      "execution_count": null,
      "outputs": [
        {
          "output_type": "execute_result",
          "data": {
            "text/plain": [
              "0"
            ]
          },
          "metadata": {},
          "execution_count": 8
        }
      ]
    },
    {
      "cell_type": "code",
      "source": [
        "crashes['hit_and_run'].unique()"
      ],
      "metadata": {
        "colab": {
          "base_uri": "https://localhost:8080/"
        },
        "id": "YsYjlOOzKcCo",
        "outputId": "23dcfd83-8069-436a-b0eb-73bd210402b9"
      },
      "id": "YsYjlOOzKcCo",
      "execution_count": null,
      "outputs": [
        {
          "output_type": "execute_result",
          "data": {
            "text/plain": [
              "array(['not hit and run', 'misdemeanor', 'felony'], dtype=object)"
            ]
          },
          "metadata": {},
          "execution_count": 9
        }
      ]
    },
    {
      "cell_type": "code",
      "source": [
        "crashes['hit_and_run'].value_counts()"
      ],
      "metadata": {
        "colab": {
          "base_uri": "https://localhost:8080/"
        },
        "id": "vHunkkUXKlaB",
        "outputId": "c421e5c4-96fb-412f-b2c1-533869f88cdf"
      },
      "id": "vHunkkUXKlaB",
      "execution_count": null,
      "outputs": [
        {
          "output_type": "execute_result",
          "data": {
            "text/plain": [
              "not hit and run    346061\n",
              "misdemeanor         69441\n",
              "felony              10726\n",
              "Name: hit_and_run, dtype: int64"
            ]
          },
          "metadata": {},
          "execution_count": 10
        }
      ]
    },
    {
      "cell_type": "code",
      "source": [
        "# Since I am only predicting whether a crash is a hit and run, I am going to make this a binary variable\n",
        "crashes[\"hit_and_run\"] = np.where(crashes[\"hit_and_run\"].str.contains(\"not hit and run\"), 1, 0)"
      ],
      "metadata": {
        "id": "yLSaz4yLMHUt"
      },
      "id": "yLSaz4yLMHUt",
      "execution_count": null,
      "outputs": []
    },
    {
      "cell_type": "code",
      "source": [
        "crashes['hit_and_run'].unique()"
      ],
      "metadata": {
        "colab": {
          "base_uri": "https://localhost:8080/"
        },
        "id": "KjbiU95MMV84",
        "outputId": "ce0f9535-bbab-4e17-ae3b-be398a399408"
      },
      "id": "KjbiU95MMV84",
      "execution_count": null,
      "outputs": [
        {
          "output_type": "execute_result",
          "data": {
            "text/plain": [
              "array([1, 0])"
            ]
          },
          "metadata": {},
          "execution_count": 12
        }
      ]
    },
    {
      "cell_type": "code",
      "source": [
        "crashes['hit_and_run'].value_counts()"
      ],
      "metadata": {
        "colab": {
          "base_uri": "https://localhost:8080/"
        },
        "id": "BKoNGWDokyi7",
        "outputId": "e958977a-c6e4-40cd-851d-0cb01a6847ba"
      },
      "id": "BKoNGWDokyi7",
      "execution_count": null,
      "outputs": [
        {
          "output_type": "execute_result",
          "data": {
            "text/plain": [
              "1    346061\n",
              "0     80167\n",
              "Name: hit_and_run, dtype: int64"
            ]
          },
          "metadata": {},
          "execution_count": 13
        }
      ]
    },
    {
      "cell_type": "code",
      "source": [
        "np.array(crashes['hit_and_run'].value_counts())"
      ],
      "metadata": {
        "colab": {
          "base_uri": "https://localhost:8080/"
        },
        "id": "4mYv0YMTmUmj",
        "outputId": "562c76da-8e42-4067-80ac-ea9271255a98"
      },
      "id": "4mYv0YMTmUmj",
      "execution_count": null,
      "outputs": [
        {
          "output_type": "execute_result",
          "data": {
            "text/plain": [
              "array([346061,  80167])"
            ]
          },
          "metadata": {},
          "execution_count": 14
        }
      ]
    },
    {
      "cell_type": "code",
      "source": [
        "labels = ['not hit and run', 'hit_and_run']\n",
        "counts = np.array(crashes['hit_and_run'].value_counts())\n",
        "plt.bar(labels,counts)\n",
        "plt.title('Hit and Run')\n",
        "plt.show()"
      ],
      "metadata": {
        "colab": {
          "base_uri": "https://localhost:8080/",
          "height": 282
        },
        "id": "nIgSpXh9lTfJ",
        "outputId": "2625e45b-23ce-4adb-9a1d-99f0349d5060"
      },
      "id": "nIgSpXh9lTfJ",
      "execution_count": null,
      "outputs": [
        {
          "output_type": "display_data",
          "data": {
            "text/plain": [
              "<Figure size 432x288 with 1 Axes>"
            ],
            "image/png": "[encoded data removed]"
          },
          "metadata": {
            "needs_background": "light"
          }
        }
      ]
    },
    {
      "cell_type": "markdown",
      "source": [
        "# road_surface"
      ],
      "metadata": {
        "id": "jRlyjoSy0sk0"
      },
      "id": "jRlyjoSy0sk0"
    },
    {
      "cell_type": "code",
      "source": [
        "crashes['road_surface'].isnull().sum()"
      ],
      "metadata": {
        "colab": {
          "base_uri": "https://localhost:8080/"
        },
        "id": "dp8VzSyf1s6t",
        "outputId": "c8fd31db-e596-4c16-a055-736636ac5c26"
      },
      "id": "dp8VzSyf1s6t",
      "execution_count": null,
      "outputs": [
        {
          "output_type": "execute_result",
          "data": {
            "text/plain": [
              "4196"
            ]
          },
          "metadata": {},
          "execution_count": 16
        }
      ]
    },
    {
      "cell_type": "code",
      "source": [
        "crashes.dropna(subset=['road_surface'], inplace=True)"
      ],
      "metadata": {
        "id": "4rvhBt_r14mI"
      },
      "id": "4rvhBt_r14mI",
      "execution_count": null,
      "outputs": []
    },
    {
      "cell_type": "code",
      "source": [
        "crashes['road_surface'].isnull().sum()"
      ],
      "metadata": {
        "colab": {
          "base_uri": "https://localhost:8080/"
        },
        "id": "Zt8cQtbzJ_l5",
        "outputId": "26374d43-c6b0-4fe7-99b0-6e31d6a74348"
      },
      "id": "Zt8cQtbzJ_l5",
      "execution_count": null,
      "outputs": [
        {
          "output_type": "execute_result",
          "data": {
            "text/plain": [
              "0"
            ]
          },
          "metadata": {},
          "execution_count": 18
        }
      ]
    },
    {
      "cell_type": "code",
      "source": [
        "crashes['road_surface'].unique()"
      ],
      "metadata": {
        "colab": {
          "base_uri": "https://localhost:8080/"
        },
        "id": "oXzN_AzX4Meb",
        "outputId": "cd34a635-37d8-43f3-fe24-fc6361c20a42"
      },
      "id": "oXzN_AzX4Meb",
      "execution_count": null,
      "outputs": [
        {
          "output_type": "execute_result",
          "data": {
            "text/plain": [
              "array(['dry', 'wet', 'snowy', 'slippery'], dtype=object)"
            ]
          },
          "metadata": {},
          "execution_count": 19
        }
      ]
    },
    {
      "cell_type": "code",
      "source": [
        "crashes['road_surface'].value_counts()"
      ],
      "metadata": {
        "colab": {
          "base_uri": "https://localhost:8080/"
        },
        "id": "Lr92Xj7b4QMM",
        "outputId": "18c198d5-7814-47a8-cd47-ea07632e378d"
      },
      "id": "Lr92Xj7b4QMM",
      "execution_count": null,
      "outputs": [
        {
          "output_type": "execute_result",
          "data": {
            "text/plain": [
              "dry         384472\n",
              "wet          35062\n",
              "snowy         2108\n",
              "slippery       390\n",
              "Name: road_surface, dtype: int64"
            ]
          },
          "metadata": {},
          "execution_count": 20
        }
      ]
    },
    {
      "cell_type": "code",
      "source": [
        "labels = ['dry', 'wet', 'snowy', 'slippery']\n",
        "counts = [384472, 35062, 2108, 390]\n",
        "plt.bar(labels,counts)\n",
        "plt.title('Road Surface')\n",
        "plt.show()"
      ],
      "metadata": {
        "colab": {
          "base_uri": "https://localhost:8080/",
          "height": 281
        },
        "id": "ZY_p0vHZkJtE",
        "outputId": "2e33b025-36f2-460a-92ec-34aec8657371"
      },
      "id": "ZY_p0vHZkJtE",
      "execution_count": null,
      "outputs": [
        {
          "output_type": "display_data",
          "data": {
            "text/plain": [
              "<Figure size 432x288 with 1 Axes>"
            ],
            "image/png": "[encoded data removed]"
          },
          "metadata": {
            "needs_background": "light"
          }
        }
      ]
    },
    {
      "cell_type": "code",
      "source": [
        "crashes['road_surface'] = labelencoder.fit_transform(crashes['road_surface'])"
      ],
      "metadata": {
        "id": "OknWY9Wa4VXt"
      },
      "id": "OknWY9Wa4VXt",
      "execution_count": null,
      "outputs": []
    },
    {
      "cell_type": "code",
      "source": [
        "crashes['road_surface'].unique()\n"
      ],
      "metadata": {
        "colab": {
          "base_uri": "https://localhost:8080/"
        },
        "id": "nlEkeghbnGha",
        "outputId": "3285d793-e8c3-40d9-e7a9-97da3e215f47"
      },
      "id": "nlEkeghbnGha",
      "execution_count": null,
      "outputs": [
        {
          "output_type": "execute_result",
          "data": {
            "text/plain": [
              "array([0, 3, 2, 1])"
            ]
          },
          "metadata": {},
          "execution_count": 23
        }
      ]
    },
    {
      "cell_type": "markdown",
      "source": [
        "# lighting"
      ],
      "metadata": {
        "id": "hN6IrNgM6vuH"
      },
      "id": "hN6IrNgM6vuH"
    },
    {
      "cell_type": "code",
      "source": [
        "crashes['lighting'].isnull().sum()"
      ],
      "metadata": {
        "colab": {
          "base_uri": "https://localhost:8080/"
        },
        "id": "Jybk3SGS6xPM",
        "outputId": "c39f788f-9c4e-47a2-c36a-27dabab4d457"
      },
      "id": "Jybk3SGS6xPM",
      "execution_count": null,
      "outputs": [
        {
          "output_type": "execute_result",
          "data": {
            "text/plain": [
              "1468"
            ]
          },
          "metadata": {},
          "execution_count": 24
        }
      ]
    },
    {
      "cell_type": "code",
      "source": [
        "crashes.dropna(subset=['lighting'], inplace=True)"
      ],
      "metadata": {
        "id": "fbyUnsSj6_gg"
      },
      "id": "fbyUnsSj6_gg",
      "execution_count": null,
      "outputs": []
    },
    {
      "cell_type": "code",
      "source": [
        "crashes['lighting'].isnull().sum()"
      ],
      "metadata": {
        "colab": {
          "base_uri": "https://localhost:8080/"
        },
        "id": "0dpqDLemKE9l",
        "outputId": "b5f8d991-35da-4162-8f19-601be6069178"
      },
      "id": "0dpqDLemKE9l",
      "execution_count": null,
      "outputs": [
        {
          "output_type": "execute_result",
          "data": {
            "text/plain": [
              "0"
            ]
          },
          "metadata": {},
          "execution_count": 26
        }
      ]
    },
    {
      "cell_type": "code",
      "source": [
        "crashes['lighting'].unique()"
      ],
      "metadata": {
        "colab": {
          "base_uri": "https://localhost:8080/"
        },
        "id": "8QVCtVVP7EfC",
        "outputId": "62a63da3-4af4-4699-bbc2-99e9a8513bea"
      },
      "id": "8QVCtVVP7EfC",
      "execution_count": null,
      "outputs": [
        {
          "output_type": "execute_result",
          "data": {
            "text/plain": [
              "array(['daylight', 'dark with no street lights', 'dusk or dawn',\n",
              "       'dark with street lights',\n",
              "       'dark with street lights not functioning'], dtype=object)"
            ]
          },
          "metadata": {},
          "execution_count": 27
        }
      ]
    },
    {
      "cell_type": "code",
      "source": [
        "crashes['lighting'].value_counts()"
      ],
      "metadata": {
        "colab": {
          "base_uri": "https://localhost:8080/"
        },
        "id": "wBYnnibb7H-v",
        "outputId": "306f1ce5-8410-41b5-a87f-d914d8a0da50"
      },
      "id": "wBYnnibb7H-v",
      "execution_count": null,
      "outputs": [
        {
          "output_type": "execute_result",
          "data": {
            "text/plain": [
              "daylight                                   285489\n",
              "dark with street lights                     88177\n",
              "dark with no street lights                  32000\n",
              "dusk or dawn                                14028\n",
              "dark with street lights not functioning       870\n",
              "Name: lighting, dtype: int64"
            ]
          },
          "metadata": {},
          "execution_count": 28
        }
      ]
    },
    {
      "cell_type": "code",
      "source": [
        "labels = ['daylight', 'dark with street lights', 'dark with no street lights', 'dusk or dawn', 'dark with street lights not functioning']\n",
        "counts = [285489, 88177, 32000, 14028, 870]\n",
        "plt.bar(labels,counts)\n",
        "plt.xticks(rotation=20)\n",
        "plt.title('Lighting')\n",
        "plt.show()"
      ],
      "metadata": {
        "colab": {
          "base_uri": "https://localhost:8080/",
          "height": 345
        },
        "id": "bT86EkI3kg_0",
        "outputId": "e489ee1a-122c-424c-cac6-c00464e089f3"
      },
      "id": "bT86EkI3kg_0",
      "execution_count": null,
      "outputs": [
        {
          "output_type": "display_data",
          "data": {
            "text/plain": [
              "<Figure size 432x288 with 1 Axes>"
            ],
            "image/png": "[encoded data removed]"
          },
          "metadata": {
            "needs_background": "light"
          }
        }
      ]
    },
    {
      "cell_type": "code",
      "source": [
        "crashes['lighting'] = labelencoder.fit_transform(crashes['lighting'])"
      ],
      "metadata": {
        "id": "Ht5j8ZFB7OQi"
      },
      "id": "Ht5j8ZFB7OQi",
      "execution_count": null,
      "outputs": []
    },
    {
      "cell_type": "code",
      "source": [
        "crashes['lighting'].unique()"
      ],
      "metadata": {
        "colab": {
          "base_uri": "https://localhost:8080/"
        },
        "id": "TSsuJ4_Co-d0",
        "outputId": "25edfe9f-6db5-4863-d7b4-9a3f226e34eb"
      },
      "id": "TSsuJ4_Co-d0",
      "execution_count": null,
      "outputs": [
        {
          "output_type": "execute_result",
          "data": {
            "text/plain": [
              "array([3, 0, 4, 1, 2])"
            ]
          },
          "metadata": {},
          "execution_count": 31
        }
      ]
    },
    {
      "cell_type": "markdown",
      "source": [
        "# If the crash happens at an intersection"
      ],
      "metadata": {
        "id": "eV9V4zDXMxjJ"
      },
      "id": "eV9V4zDXMxjJ"
    },
    {
      "cell_type": "code",
      "source": [
        "crashes['intersection'].isnull().sum()"
      ],
      "metadata": {
        "colab": {
          "base_uri": "https://localhost:8080/"
        },
        "id": "XRDsjTEoM4pb",
        "outputId": "d7afeaa4-8db6-402d-9e99-65b2962fb8aa"
      },
      "id": "XRDsjTEoM4pb",
      "execution_count": null,
      "outputs": [
        {
          "output_type": "execute_result",
          "data": {
            "text/plain": [
              "4640"
            ]
          },
          "metadata": {},
          "execution_count": 32
        }
      ]
    },
    {
      "cell_type": "code",
      "source": [
        "len(crashes['intersection'])"
      ],
      "metadata": {
        "colab": {
          "base_uri": "https://localhost:8080/"
        },
        "id": "-crCoBhJNDXD",
        "outputId": "0153b387-a642-4ecb-b06f-04a3445d19ef"
      },
      "id": "-crCoBhJNDXD",
      "execution_count": null,
      "outputs": [
        {
          "output_type": "execute_result",
          "data": {
            "text/plain": [
              "420564"
            ]
          },
          "metadata": {},
          "execution_count": 33
        }
      ]
    },
    {
      "cell_type": "code",
      "source": [
        "crashes.dropna(subset=['intersection'], inplace=True)"
      ],
      "metadata": {
        "id": "jdHGzchkNJM3"
      },
      "id": "jdHGzchkNJM3",
      "execution_count": null,
      "outputs": []
    },
    {
      "cell_type": "code",
      "source": [
        "crashes['intersection'].isnull().sum()"
      ],
      "metadata": {
        "colab": {
          "base_uri": "https://localhost:8080/"
        },
        "id": "XwgnuiORNOjU",
        "outputId": "82620101-13c6-48d2-8c42-c92a94aa4e0d"
      },
      "id": "XwgnuiORNOjU",
      "execution_count": null,
      "outputs": [
        {
          "output_type": "execute_result",
          "data": {
            "text/plain": [
              "0"
            ]
          },
          "metadata": {},
          "execution_count": 35
        }
      ]
    },
    {
      "cell_type": "code",
      "source": [
        "crashes['intersection'].unique()"
      ],
      "metadata": {
        "colab": {
          "base_uri": "https://localhost:8080/"
        },
        "id": "Zdp3xHNYNR8F",
        "outputId": "e1d4576b-3586-4d1f-c7c1-fa8959288dba"
      },
      "id": "Zdp3xHNYNR8F",
      "execution_count": null,
      "outputs": [
        {
          "output_type": "execute_result",
          "data": {
            "text/plain": [
              "array(['1', '0'], dtype=object)"
            ]
          },
          "metadata": {},
          "execution_count": 36
        }
      ]
    },
    {
      "cell_type": "code",
      "source": [
        "crashes['intersection'] = labelencoder.fit_transform(crashes['intersection'])\n",
        "crashes['intersection'].unique()"
      ],
      "metadata": {
        "colab": {
          "base_uri": "https://localhost:8080/"
        },
        "id": "0jcic8UTOE1P",
        "outputId": "f98f42db-f2e9-4638-d2de-edd4033dca22"
      },
      "id": "0jcic8UTOE1P",
      "execution_count": null,
      "outputs": [
        {
          "output_type": "execute_result",
          "data": {
            "text/plain": [
              "array([1, 0])"
            ]
          },
          "metadata": {},
          "execution_count": 37
        }
      ]
    },
    {
      "cell_type": "code",
      "source": [
        "crashes['intersection'].value_counts()"
      ],
      "metadata": {
        "colab": {
          "base_uri": "https://localhost:8080/"
        },
        "id": "Gpf00VFOp7is",
        "outputId": "6396f645-92d4-41c4-ab71-646d192e9509"
      },
      "id": "Gpf00VFOp7is",
      "execution_count": null,
      "outputs": [
        {
          "output_type": "execute_result",
          "data": {
            "text/plain": [
              "0    320367\n",
              "1     95557\n",
              "Name: intersection, dtype: int64"
            ]
          },
          "metadata": {},
          "execution_count": 38
        }
      ]
    },
    {
      "cell_type": "code",
      "source": [
        "labels = ['not intersection', 'intersection']\n",
        "counts = [320367, 95557]\n",
        "plt.bar(labels,counts)\n",
        "plt.title('Intersection')\n",
        "plt.show()"
      ],
      "metadata": {
        "colab": {
          "base_uri": "https://localhost:8080/",
          "height": 281
        },
        "id": "brgEOUrUqAbv",
        "outputId": "304bb89c-b765-4d57-cee7-4b6de2d1496d"
      },
      "id": "brgEOUrUqAbv",
      "execution_count": null,
      "outputs": [
        {
          "output_type": "display_data",
          "data": {
            "text/plain": [
              "<Figure size 432x288 with 1 Axes>"
            ],
            "image/png": "[encoded data removed]"
          },
          "metadata": {
            "needs_background": "light"
          }
        }
      ]
    },
    {
      "cell_type": "markdown",
      "source": [
        "# if there is alcohol involved"
      ],
      "metadata": {
        "id": "5shtCDLxOuaw"
      },
      "id": "5shtCDLxOuaw"
    },
    {
      "cell_type": "markdown",
      "source": [
        "### alcohol_involved indicates whether the crash involved a party that had been drinking, it's encoded as Y or blank. So blank values, or missing values should be replaced with the numeric value 0, replace the string value \"1\" with numeric value 1"
      ],
      "metadata": {
        "id": "tIviWh2ZPQYF"
      },
      "id": "tIviWh2ZPQYF"
    },
    {
      "cell_type": "code",
      "source": [
        "crashes['alcohol_involved'].isnull().sum()"
      ],
      "metadata": {
        "colab": {
          "base_uri": "https://localhost:8080/"
        },
        "id": "yuIV3SowOzJJ",
        "outputId": "59f49deb-6455-4c2d-8f9a-8ebb8b58d4c6"
      },
      "id": "yuIV3SowOzJJ",
      "execution_count": null,
      "outputs": [
        {
          "output_type": "execute_result",
          "data": {
            "text/plain": [
              "371154"
            ]
          },
          "metadata": {},
          "execution_count": 40
        }
      ]
    },
    {
      "cell_type": "code",
      "source": [
        "len(crashes['alcohol_involved'])"
      ],
      "metadata": {
        "colab": {
          "base_uri": "https://localhost:8080/"
        },
        "id": "Adl4FrVaO3Qb",
        "outputId": "21143b6d-03d8-41f0-a7ae-e93f03da6db0"
      },
      "id": "Adl4FrVaO3Qb",
      "execution_count": null,
      "outputs": [
        {
          "output_type": "execute_result",
          "data": {
            "text/plain": [
              "415924"
            ]
          },
          "metadata": {},
          "execution_count": 41
        }
      ]
    },
    {
      "cell_type": "code",
      "source": [
        "crashes['alcohol_involved'].unique()"
      ],
      "metadata": {
        "colab": {
          "base_uri": "https://localhost:8080/"
        },
        "id": "PiIpeGOKPCZ1",
        "outputId": "2e3a6663-9a36-40b8-eec7-08631cdc171a"
      },
      "id": "PiIpeGOKPCZ1",
      "execution_count": null,
      "outputs": [
        {
          "output_type": "execute_result",
          "data": {
            "text/plain": [
              "array([nan, '1'], dtype=object)"
            ]
          },
          "metadata": {},
          "execution_count": 42
        }
      ]
    },
    {
      "cell_type": "code",
      "source": [
        "crashes['alcohol_involved'].fillna(\"0\", inplace=True)"
      ],
      "metadata": {
        "id": "0I48w5WoRCVJ"
      },
      "id": "0I48w5WoRCVJ",
      "execution_count": null,
      "outputs": []
    },
    {
      "cell_type": "code",
      "source": [
        "crashes['alcohol_involved'] = labelencoder.fit_transform(crashes['alcohol_involved'])\n",
        "crashes['alcohol_involved'].unique()"
      ],
      "metadata": {
        "colab": {
          "base_uri": "https://localhost:8080/"
        },
        "id": "bYE1qVWCQ05H",
        "outputId": "5aeff522-42ba-4e4b-bfd6-ce245ef16b29"
      },
      "id": "bYE1qVWCQ05H",
      "execution_count": null,
      "outputs": [
        {
          "output_type": "execute_result",
          "data": {
            "text/plain": [
              "array([0, 1])"
            ]
          },
          "metadata": {},
          "execution_count": 44
        }
      ]
    },
    {
      "cell_type": "code",
      "source": [
        "crashes['alcohol_involved'].value_counts()"
      ],
      "metadata": {
        "colab": {
          "base_uri": "https://localhost:8080/"
        },
        "id": "rdIFr7rOqSCH",
        "outputId": "8ff6fb54-ab65-4ac7-df58-04d101397703"
      },
      "id": "rdIFr7rOqSCH",
      "execution_count": null,
      "outputs": [
        {
          "output_type": "execute_result",
          "data": {
            "text/plain": [
              "0    371154\n",
              "1     44770\n",
              "Name: alcohol_involved, dtype: int64"
            ]
          },
          "metadata": {},
          "execution_count": 45
        }
      ]
    },
    {
      "cell_type": "code",
      "source": [
        "labels = ['No Alcohol Involved', 'Alcohol Involved']\n",
        "counts = [371154, 44770]\n",
        "plt.bar(labels,counts)\n",
        "plt.title(\"Alcohol Involved\")\n",
        "plt.show()"
      ],
      "metadata": {
        "colab": {
          "base_uri": "https://localhost:8080/",
          "height": 281
        },
        "id": "Nu4OJb0kqVnm",
        "outputId": "e70612cf-2db4-4351-aa14-3652c551f661"
      },
      "id": "Nu4OJb0kqVnm",
      "execution_count": null,
      "outputs": [
        {
          "output_type": "display_data",
          "data": {
            "text/plain": [
              "<Figure size 432x288 with 1 Axes>"
            ],
            "image/png": "[encoded data removed]"
          },
          "metadata": {
            "needs_background": "light"
          }
        }
      ]
    },
    {
      "cell_type": "markdown",
      "source": [
        "# total parties counts in the crash"
      ],
      "metadata": {
        "id": "yODtQSUoaZ-Z"
      },
      "id": "yODtQSUoaZ-Z"
    },
    {
      "cell_type": "code",
      "source": [
        "crashes['party_count'].isnull().sum()"
      ],
      "metadata": {
        "colab": {
          "base_uri": "https://localhost:8080/"
        },
        "id": "KqLRkcO1af4g",
        "outputId": "f1986878-7563-4d98-a190-2c4ea73f6646"
      },
      "id": "KqLRkcO1af4g",
      "execution_count": null,
      "outputs": [
        {
          "output_type": "execute_result",
          "data": {
            "text/plain": [
              "0"
            ]
          },
          "metadata": {},
          "execution_count": 47
        }
      ]
    },
    {
      "cell_type": "code",
      "source": [
        "crashes['party_count'].unique()"
      ],
      "metadata": {
        "colab": {
          "base_uri": "https://localhost:8080/"
        },
        "id": "_qjPao_iaqeV",
        "outputId": "5328d10f-8b56-41c1-9ee0-bdbb2c7e1e6f"
      },
      "id": "_qjPao_iaqeV",
      "execution_count": null,
      "outputs": [
        {
          "output_type": "execute_result",
          "data": {
            "text/plain": [
              "array(['2', '1', '3', '4', '5', '6', '7', '9', '8', '10', '20', '11',\n",
              "       '12', '13'], dtype=object)"
            ]
          },
          "metadata": {},
          "execution_count": 48
        }
      ]
    },
    {
      "cell_type": "code",
      "source": [
        "crashes['party_count'] = pd.to_numeric(crashes['party_count'], downcast=\"integer\")"
      ],
      "metadata": {
        "id": "DrqRaj1EavB0"
      },
      "id": "DrqRaj1EavB0",
      "execution_count": null,
      "outputs": []
    },
    {
      "cell_type": "code",
      "source": [
        "crashes['party_count'].unique()"
      ],
      "metadata": {
        "colab": {
          "base_uri": "https://localhost:8080/"
        },
        "id": "rv38x7hgbAvA",
        "outputId": "fdd4ea81-4910-4ed7-c6ab-74909a24c3b5"
      },
      "id": "rv38x7hgbAvA",
      "execution_count": null,
      "outputs": [
        {
          "output_type": "execute_result",
          "data": {
            "text/plain": [
              "array([ 2,  1,  3,  4,  5,  6,  7,  9,  8, 10, 20, 11, 12, 13], dtype=int8)"
            ]
          },
          "metadata": {},
          "execution_count": 50
        }
      ]
    },
    {
      "cell_type": "code",
      "source": [
        "crashes['party_count'].value_counts()"
      ],
      "metadata": {
        "colab": {
          "base_uri": "https://localhost:8080/"
        },
        "id": "QAV8bBOobFsQ",
        "outputId": "964cc5d0-e178-4047-b81c-cab77c9f574a"
      },
      "id": "QAV8bBOobFsQ",
      "execution_count": null,
      "outputs": [
        {
          "output_type": "execute_result",
          "data": {
            "text/plain": [
              "2     281858\n",
              "1      81855\n",
              "3      41102\n",
              "4       8655\n",
              "5       1833\n",
              "6        425\n",
              "7        119\n",
              "8         48\n",
              "9         18\n",
              "10         5\n",
              "11         3\n",
              "20         1\n",
              "12         1\n",
              "13         1\n",
              "Name: party_count, dtype: int64"
            ]
          },
          "metadata": {},
          "execution_count": 51
        }
      ]
    },
    {
      "cell_type": "code",
      "source": [
        "crashes['party_count'].value_counts().index"
      ],
      "metadata": {
        "colab": {
          "base_uri": "https://localhost:8080/"
        },
        "id": "46rHYsiR6yVs",
        "outputId": "e7e73037-aa2b-42cc-bd3c-ed3a9f951758"
      },
      "id": "46rHYsiR6yVs",
      "execution_count": null,
      "outputs": [
        {
          "output_type": "execute_result",
          "data": {
            "text/plain": [
              "Int64Index([2, 1, 3, 4, 5, 6, 7, 8, 9, 10, 11, 20, 12, 13], dtype='int64')"
            ]
          },
          "metadata": {},
          "execution_count": 52
        }
      ]
    },
    {
      "cell_type": "code",
      "source": [
        "crashes['party_count'].value_counts().values"
      ],
      "metadata": {
        "colab": {
          "base_uri": "https://localhost:8080/"
        },
        "id": "dgK8AywwbWym",
        "outputId": "d848e0bd-e34d-4c44-92dc-2dbe4d091166"
      },
      "id": "dgK8AywwbWym",
      "execution_count": null,
      "outputs": [
        {
          "output_type": "execute_result",
          "data": {
            "text/plain": [
              "array([281858,  81855,  41102,   8655,   1833,    425,    119,     48,\n",
              "           18,      5,      3,      1,      1,      1])"
            ]
          },
          "metadata": {},
          "execution_count": 53
        }
      ]
    },
    {
      "cell_type": "code",
      "source": [
        "labels = ['2', '1', '3', '4', '5', '6', '7', '8', '9', '10', '11', '20', '12', '13']\n",
        "counts = [281858, 81855, 41102, 8655, 1833, 425, 119, 48, 18, 5, 3, 1, 1, 1]\n",
        "plt.bar(labels,counts)\n",
        "plt.title(\"total parties counts in the crash\")\n",
        "plt.show()"
      ],
      "metadata": {
        "colab": {
          "base_uri": "https://localhost:8080/",
          "height": 281
        },
        "id": "U6Gfhv_hbL3S",
        "outputId": "206991cc-0cd5-4c10-d2ee-a39e788e028f"
      },
      "id": "U6Gfhv_hbL3S",
      "execution_count": null,
      "outputs": [
        {
          "output_type": "display_data",
          "data": {
            "text/plain": [
              "<Figure size 432x288 with 1 Axes>"
            ],
            "image/png": "[encoded data removed]"
          },
          "metadata": {
            "needs_background": "light"
          }
        }
      ]
    },
    {
      "cell_type": "markdown",
      "source": [
        "### Normalize the Party Count data - Z score"
      ],
      "metadata": {
        "id": "TG2Kpbc1bxUU"
      },
      "id": "TG2Kpbc1bxUU"
    },
    {
      "cell_type": "code",
      "source": [
        "crashes['party_count'] = (crashes['party_count'] - np.average(crashes['party_count'])) / np.std(crashes['party_count'])\n",
        "crashes['party_count']"
      ],
      "metadata": {
        "colab": {
          "base_uri": "https://localhost:8080/"
        },
        "id": "rRzcZTU5brO7",
        "outputId": "36c3fd61-8fcc-4fed-a5c0-077aeb418d44"
      },
      "id": "rRzcZTU5brO7",
      "execution_count": null,
      "outputs": [
        {
          "output_type": "execute_result",
          "data": {
            "text/plain": [
              "0         0.054245\n",
              "1        -1.437061\n",
              "2         0.054245\n",
              "3         1.545552\n",
              "4         1.545552\n",
              "            ...   \n",
              "426223    0.054245\n",
              "426224    1.545552\n",
              "426225    1.545552\n",
              "426226    0.054245\n",
              "426227    0.054245\n",
              "Name: party_count, Length: 415924, dtype: float64"
            ]
          },
          "metadata": {},
          "execution_count": 55
        }
      ]
    },
    {
      "cell_type": "markdown",
      "source": [
        "# Population"
      ],
      "metadata": {
        "id": "Tl7gged1do3l"
      },
      "id": "Tl7gged1do3l"
    },
    {
      "cell_type": "code",
      "source": [
        "crashes['population'].isnull().sum()"
      ],
      "metadata": {
        "colab": {
          "base_uri": "https://localhost:8080/"
        },
        "id": "xaFjUYFmd4AK",
        "outputId": "bd4d7b06-850a-49cd-8e41-f30ea3e6c4d7"
      },
      "id": "xaFjUYFmd4AK",
      "execution_count": null,
      "outputs": [
        {
          "output_type": "execute_result",
          "data": {
            "text/plain": [
              "0"
            ]
          },
          "metadata": {},
          "execution_count": 56
        }
      ]
    },
    {
      "cell_type": "code",
      "source": [
        "crashes['population'].unique()"
      ],
      "metadata": {
        "colab": {
          "base_uri": "https://localhost:8080/"
        },
        "id": "JHv0yQC4dq4k",
        "outputId": "ee8869f8-4cfd-48b3-c8b7-ab4895d2306d"
      },
      "id": "JHv0yQC4dq4k",
      "execution_count": null,
      "outputs": [
        {
          "output_type": "execute_result",
          "data": {
            "text/plain": [
              "array(['>250000', '2500 to 10000', '25000 to 50000', 'unincorporated',\n",
              "       '50000 to 100000', '100000 to 250000', '10000 to 25000', '<2500'],\n",
              "      dtype=object)"
            ]
          },
          "metadata": {},
          "execution_count": 57
        }
      ]
    },
    {
      "cell_type": "code",
      "source": [
        "crashes['population'].value_counts()"
      ],
      "metadata": {
        "colab": {
          "base_uri": "https://localhost:8080/"
        },
        "id": "9F-My_Czd_i-",
        "outputId": "f4a05781-7d0b-4a87-b40b-2f7d4e16056a"
      },
      "id": "9F-My_Czd_i-",
      "execution_count": null,
      "outputs": [
        {
          "output_type": "execute_result",
          "data": {
            "text/plain": [
              ">250000             103360\n",
              "unincorporated       94484\n",
              "100000 to 250000     79043\n",
              "50000 to 100000      76858\n",
              "25000 to 50000       36631\n",
              "10000 to 25000       17649\n",
              "2500 to 10000         5880\n",
              "<2500                 2019\n",
              "Name: population, dtype: int64"
            ]
          },
          "metadata": {},
          "execution_count": 58
        }
      ]
    },
    {
      "cell_type": "code",
      "source": [
        "crashes['population'].value_counts().index"
      ],
      "metadata": {
        "colab": {
          "base_uri": "https://localhost:8080/"
        },
        "id": "SO0JSo7W8CcM",
        "outputId": "e3fc94e7-0478-49c8-f7a2-589c739acf8c"
      },
      "id": "SO0JSo7W8CcM",
      "execution_count": null,
      "outputs": [
        {
          "output_type": "execute_result",
          "data": {
            "text/plain": [
              "Index(['>250000', 'unincorporated', '100000 to 250000', '50000 to 100000',\n",
              "       '25000 to 50000', '10000 to 25000', '2500 to 10000', '<2500'],\n",
              "      dtype='object')"
            ]
          },
          "metadata": {},
          "execution_count": 59
        }
      ]
    },
    {
      "cell_type": "code",
      "source": [
        "np.array(crashes['population'].value_counts())"
      ],
      "metadata": {
        "colab": {
          "base_uri": "https://localhost:8080/"
        },
        "id": "WkLc7hqpeHpQ",
        "outputId": "ac1c4f9c-c191-4dd1-c200-195875c05d3f"
      },
      "id": "WkLc7hqpeHpQ",
      "execution_count": null,
      "outputs": [
        {
          "output_type": "execute_result",
          "data": {
            "text/plain": [
              "array([103360,  94484,  79043,  76858,  36631,  17649,   5880,   2019])"
            ]
          },
          "metadata": {},
          "execution_count": 60
        }
      ]
    },
    {
      "cell_type": "code",
      "source": [
        "labels = ['>250000', 'unincorporated', '100000 to 250000', '50000 to 100000', '25000 to 50000', '10000 to 25000', '2500 to 10000', '<2500']\n",
        "counts = [103360, 94484, 79043, 76858, 36631, 17649, 5880, 2019]\n",
        "plt.bar(labels,counts)\n",
        "plt.xticks(rotation=30)\n",
        "plt.title('Population')\n",
        "plt.show()"
      ],
      "metadata": {
        "colab": {
          "base_uri": "https://localhost:8080/",
          "height": 326
        },
        "id": "rqNlRgt3eMGu",
        "outputId": "df08e75f-85ba-4e06-e8bf-659de25de792"
      },
      "id": "rqNlRgt3eMGu",
      "execution_count": null,
      "outputs": [
        {
          "output_type": "display_data",
          "data": {
            "text/plain": [
              "<Figure size 432x288 with 1 Axes>"
            ],
            "image/png": "[encoded data removed]"
          },
          "metadata": {
            "needs_background": "light"
          }
        }
      ]
    },
    {
      "cell_type": "code",
      "source": [
        "crashes['population'] = labelencoder.fit_transform(crashes['population'])\n",
        "crashes['population'].unique()"
      ],
      "metadata": {
        "colab": {
          "base_uri": "https://localhost:8080/"
        },
        "id": "AGHntBq9ggpg",
        "outputId": "234d00b2-5298-4428-f13c-d5044f2efa76"
      },
      "id": "AGHntBq9ggpg",
      "execution_count": null,
      "outputs": [
        {
          "output_type": "execute_result",
          "data": {
            "text/plain": [
              "array([6, 2, 3, 7, 4, 1, 0, 5])"
            ]
          },
          "metadata": {},
          "execution_count": 62
        }
      ]
    },
    {
      "cell_type": "markdown",
      "source": [
        "### Checking for missing values before proceeding to make prediction for each county"
      ],
      "metadata": {
        "id": "h0BnVwS0hN0w"
      },
      "id": "h0BnVwS0hN0w"
    },
    {
      "cell_type": "code",
      "source": [
        "check_missing_values = crashes[['hit_and_run', 'road_surface', 'lighting', 'intersection', 'alcohol_involved', 'party_count', 'population']]\n",
        "check_missing_values.isnull().sum()"
      ],
      "metadata": {
        "colab": {
          "base_uri": "https://localhost:8080/"
        },
        "id": "Fx1JHAhrhUkh",
        "outputId": "39f29978-214a-4300-945e-c2fcebb0db17"
      },
      "id": "Fx1JHAhrhUkh",
      "execution_count": null,
      "outputs": [
        {
          "output_type": "execute_result",
          "data": {
            "text/plain": [
              "hit_and_run         0\n",
              "road_surface        0\n",
              "lighting            0\n",
              "intersection        0\n",
              "alcohol_involved    0\n",
              "party_count         0\n",
              "population          0\n",
              "dtype: int64"
            ]
          },
          "metadata": {},
          "execution_count": 63
        }
      ]
    },
    {
      "cell_type": "code",
      "source": [
        "# # Try to use GridSearchCV to tune MLP Classifier parameters\n",
        "# parameters = {\n",
        "#     'hidden_layer_sizes': [(10,), (20,)],\n",
        "#     'activation': ['logistic'],\n",
        "#     'solver': ['sgd'],\n",
        "#     'max_iter': [900, 1300]\n",
        "# }\n",
        "\n",
        "# clf = GridSearchCV(MLPClassifier(random_state=42), parameters, n_jobs=-1)\n",
        "\n",
        "# crashes_GridSearchCV = crashes[['hit_and_run', 'road_surface', 'lighting', 'intersection', 'alcohol_involved', 'party_count', 'population']]\n",
        "# X = crashes_GridSearchCV[['road_surface', 'lighting', 'intersection', 'alcohol_involved', 'party_count', 'population']]\n",
        "# Y = crashes_GridSearchCV['hit_and_run']\n",
        "\n",
        "# X_train, X_test, Y_train, Y_test = train_test_split(X, Y, test_size=0.2, random_state=42)\n",
        "\n",
        "# clf.fit(X_train,Y_train)\n",
        "\n",
        "# # Best paramete set\n",
        "# print('Best parameters found:\\n', clf.best_params_)"
      ],
      "metadata": {
        "id": "FCC8P4EkJeou"
      },
      "id": "FCC8P4EkJeou",
      "execution_count": null,
      "outputs": []
    },
    {
      "cell_type": "markdown",
      "source": [
        "### Best parameters found:\n",
        " {'activation': 'logistic', 'hidden_layer_sizes': (10,), 'max_iter': 900, 'solver': 'sgd'}"
      ],
      "metadata": {
        "id": "uTsha3HjM_Sm"
      },
      "id": "uTsha3HjM_Sm"
    },
    {
      "cell_type": "code",
      "source": [
        "def predict_hit_and_run_for_county(county):\n",
        "  df_county = crashes[crashes['county_location'] == county]\n",
        "  df_county = df_county[['hit_and_run', 'road_surface', 'lighting', 'intersection', 'alcohol_involved', 'party_count', 'population']]\n",
        "  X = df_county[['road_surface', 'lighting', 'intersection', 'alcohol_involved', 'party_count', 'population']]\n",
        "  Y = df_county['hit_and_run']\n",
        "  X_train, X_test, Y_train, Y_test = train_test_split(X, Y, test_size=0.2, random_state=42)\n",
        "  clf = MLPClassifier(hidden_layer_sizes=(10), max_iter=900, activation = 'logistic', solver='sgd', verbose=0, random_state=42)\n",
        "  clf.fit(X_train,Y_train)\n",
        "  y_pred_train = clf.predict(X_test)\n",
        "  accuracyScore = accuracy_score(Y_test, y_pred_train)\n",
        "  f1Score = f1_score(Y_test, y_pred_train)\n",
        "  return (accuracyScore, f1Score)"
      ],
      "metadata": {
        "id": "Ztol0ctmirht"
      },
      "id": "Ztol0ctmirht",
      "execution_count": null,
      "outputs": []
    },
    {
      "cell_type": "code",
      "source": [
        "county_accuracy_score_all_counties = {}\n",
        "county_f1_score_all_counties = {}\n",
        "\n",
        "for county in crashes['county_location'].unique():\n",
        "  accuracyScore, f1Score = predict_hit_and_run_for_county(county)\n",
        "  county_accuracy_score_all_counties[county] = accuracyScore\n",
        "  county_f1_score_all_counties[county] = f1Score"
      ],
      "metadata": {
        "id": "EPI4mEAQkEAh"
      },
      "id": "EPI4mEAQkEAh",
      "execution_count": null,
      "outputs": []
    },
    {
      "cell_type": "code",
      "source": [
        "fig = plt.scatter(*zip(*county_accuracy_score_all_counties.items()))\n",
        "fig.axes.get_xaxis().set_visible(False)\n",
        "plt.title(\"Accuracy Score For All Counties In California\")\n",
        "plt.show()"
      ],
      "metadata": {
        "colab": {
          "base_uri": "https://localhost:8080/",
          "height": 268
        },
        "id": "mTKkPtzgmL4f",
        "outputId": "4b941f4d-b4a0-445a-e0e6-d859b4db298e"
      },
      "id": "mTKkPtzgmL4f",
      "execution_count": null,
      "outputs": [
        {
          "output_type": "display_data",
          "data": {
            "text/plain": [
              "<Figure size 432x288 with 1 Axes>"
            ],
            "image/png": "[encoded data removed]"
          },
          "metadata": {
            "needs_background": "light"
          }
        }
      ]
    },
    {
      "cell_type": "code",
      "source": [
        "fig = plt.scatter(*zip(*county_f1_score_all_counties.items()))\n",
        "fig.axes.get_xaxis().set_visible(False)\n",
        "plt.title(\"F1 Score For All Counties In California\")\n",
        "plt.show()"
      ],
      "metadata": {
        "colab": {
          "base_uri": "https://localhost:8080/",
          "height": 268
        },
        "id": "5ohOmwr_mHkW",
        "outputId": "d944e001-93e8-4245-90fe-831c126fe3f9"
      },
      "id": "5ohOmwr_mHkW",
      "execution_count": null,
      "outputs": [
        {
          "output_type": "display_data",
          "data": {
            "text/plain": [
              "<Figure size 432x288 with 1 Axes>"
            ],
            "image/png": "[encoded data removed]"
          },
          "metadata": {
            "needs_background": "light"
          }
        }
      ]
    },
    {
      "cell_type": "code",
      "source": [
        "def find_keys_with_max_values(dictionary):\n",
        "  keys = []\n",
        "  for key, value in dictionary.items():\n",
        "    if value == 1:\n",
        "      keys.append(key)\n",
        "  print(keys)"
      ],
      "metadata": {
        "id": "5spgfHPdcl9q"
      },
      "id": "5spgfHPdcl9q",
      "execution_count": null,
      "outputs": []
    },
    {
      "cell_type": "code",
      "source": [
        "find_keys_with_max_values(county_accuracy_score_all_counties)"
      ],
      "metadata": {
        "colab": {
          "base_uri": "https://localhost:8080/"
        },
        "id": "AdYp2sSp5I_g",
        "outputId": "5d20facb-c0d4-4bb4-ffef-6410a0bbbfc9"
      },
      "id": "AdYp2sSp5I_g",
      "execution_count": null,
      "outputs": [
        {
          "output_type": "stream",
          "name": "stdout",
          "text": [
            "['modoc', 'sierra']\n"
          ]
        }
      ]
    },
    {
      "cell_type": "code",
      "source": [
        "find_keys_with_max_values(county_f1_score_all_counties)"
      ],
      "metadata": {
        "colab": {
          "base_uri": "https://localhost:8080/"
        },
        "id": "MnqREoeT5Omg",
        "outputId": "c1cda21c-8c49-421b-c669-0a946bfb4e8d"
      },
      "id": "MnqREoeT5Omg",
      "execution_count": null,
      "outputs": [
        {
          "output_type": "stream",
          "name": "stdout",
          "text": [
            "['modoc', 'sierra']\n"
          ]
        }
      ]
    },
    {
      "cell_type": "markdown",
      "source": [
        "### The county with the highest accuracy score and F1 score is Sierra"
      ],
      "metadata": {
        "id": "i8vl2H7uceYY"
      },
      "id": "i8vl2H7uceYY"
    },
    {
      "cell_type": "code",
      "source": [
        "def visualize_feature_by_county(county, feature):\n",
        "  df_county = crashes[crashes['county_location'] == county]\n",
        "  data = dict(df_county[feature].value_counts())\n",
        "  names = list(data.keys())\n",
        "  values = list(data.values())\n",
        "  plt.bar(range(len(data)), values, tick_label=names)\n",
        "  plt.title(feature)\n",
        "  plt.show()"
      ],
      "metadata": {
        "id": "jGcLX9iac1yK"
      },
      "id": "jGcLX9iac1yK",
      "execution_count": null,
      "outputs": []
    },
    {
      "cell_type": "code",
      "source": [
        "for feature in ['road_surface', 'lighting', 'intersection', 'alcohol_involved', 'party_count', 'population']:\n",
        "  visualize_feature_by_county('sierra', feature)"
      ],
      "metadata": {
        "colab": {
          "base_uri": "https://localhost:8080/",
          "height": 1000
        },
        "id": "2bFt0pzAdD-C",
        "outputId": "d68b8815-3a3c-4100-ecb1-8135cf99f712"
      },
      "id": "2bFt0pzAdD-C",
      "execution_count": null,
      "outputs": [
        {
          "output_type": "display_data",
          "data": {
            "text/plain": [
              "<Figure size 432x288 with 1 Axes>"
            ],
            "image/png": "[encoded data removed]"
          },
          "metadata": {
            "needs_background": "light"
          }
        },
        {
          "output_type": "display_data",
          "data": {
            "text/plain": [
              "<Figure size 432x288 with 1 Axes>"
            ],
            "image/png": "[encoded data removed]"
          },
          "metadata": {
            "needs_background": "light"
          }
        },
        {
          "output_type": "display_data",
          "data": {
            "text/plain": [
              "<Figure size 432x288 with 1 Axes>"
            ],
            "image/png": "[encoded data removed]"
          },
          "metadata": {
            "needs_background": "light"
          }
        },
        {
          "output_type": "display_data",
          "data": {
            "text/plain": [
              "<Figure size 432x288 with 1 Axes>"
            ],
            "image/png": "[encoded data removed]"
          },
          "metadata": {
            "needs_background": "light"
          }
        },
        {
          "output_type": "display_data",
          "data": {
            "text/plain": [
              "<Figure size 432x288 with 1 Axes>"
            ],
            "image/png": "[encoded data removed]"
          },
          "metadata": {
            "needs_background": "light"
          }
        },
        {
          "output_type": "display_data",
          "data": {
            "text/plain": [
              "<Figure size 432x288 with 1 Axes>"
            ],
            "image/png": "[encoded data removed]"
          },
          "metadata": {
            "needs_background": "light"
          }
        }
      ]
    },
    {
      "cell_type": "markdown",
      "source": [
        "## From the graph we can see that some of the features in the Sierra county is quite imbalanced, it could be overfitting with an accuracy of 1, try the oversampling technique and see if it reduces overfitting"
      ],
      "metadata": {
        "id": "HukxSdVSdpv2"
      },
      "id": "HukxSdVSdpv2"
    },
    {
      "cell_type": "code",
      "source": [
        "def predict_hit_and_run_for_county_with_oversampling(county):\n",
        "  df_county = crashes[crashes['county_location'] == county]\n",
        "  df_county = df_county[['hit_and_run', 'road_surface', 'lighting', 'intersection', 'alcohol_involved', 'party_count', 'population']]\n",
        "  X = df_county[['road_surface', 'lighting', 'intersection', 'alcohol_involved', 'party_count', 'population']]\n",
        "  Y = df_county['hit_and_run']\n",
        "  X_train, X_test, Y_train, Y_test = train_test_split(X, Y, test_size=0.2, random_state=42)\n",
        "  clf = MLPClassifier(hidden_layer_sizes=(10), max_iter=900, activation = 'logistic', solver='sgd', verbose=0, random_state=42)\n",
        "  sm = SMOTE(k_neighbors=1, random_state=42)\n",
        "  X_train,Y_train = sm.fit_resample(X_train,Y_train)\n",
        "\n",
        "  clf.fit(X_train,Y_train)\n",
        "  y_pred_train = clf.predict(X_test)\n",
        "  accuracyScore = accuracy_score(Y_test, y_pred_train)\n",
        "  f1Score = f1_score(Y_test, y_pred_train)\n",
        "  return (accuracyScore, f1Score)"
      ],
      "metadata": {
        "id": "RlbMG98uBJ3G"
      },
      "id": "RlbMG98uBJ3G",
      "execution_count": null,
      "outputs": []
    },
    {
      "cell_type": "code",
      "source": [
        "accuracyScore, f1Score = predict_hit_and_run_for_county_with_oversampling('sierra')\n",
        "print(accuracyScore)"
      ],
      "metadata": {
        "colab": {
          "base_uri": "https://localhost:8080/"
        },
        "id": "rb7VYHNkd8rc",
        "outputId": "447b9a37-b73f-492c-fe7c-3eff0adf92bb"
      },
      "id": "rb7VYHNkd8rc",
      "execution_count": null,
      "outputs": [
        {
          "output_type": "stream",
          "name": "stdout",
          "text": [
            "0.8333333333333334\n"
          ]
        }
      ]
    },
    {
      "cell_type": "code",
      "source": [
        "print(f1Score)"
      ],
      "metadata": {
        "colab": {
          "base_uri": "https://localhost:8080/"
        },
        "id": "_OwYsfVcBfbJ",
        "outputId": "94ff26fa-ee5b-49df-f54c-d2927d2deaf2"
      },
      "id": "_OwYsfVcBfbJ",
      "execution_count": null,
      "outputs": [
        {
          "output_type": "stream",
          "name": "stdout",
          "text": [
            "0.9090909090909091\n"
          ]
        }
      ]
    },
    {
      "cell_type": "markdown",
      "source": [
        "## It seems that the Oversampling technique does help with the problem of overfitting due to class imbalance problem in the data"
      ],
      "metadata": {
        "id": "B3GW35c6qOM6"
      },
      "id": "B3GW35c6qOM6"
    },
    {
      "cell_type": "markdown",
      "source": [
        "## Now make a map for the predictions of 9 counties instead of for all counties.\n",
        "## Since some of the counties might have the class imbalance problem in those data, try to reduce overfitting\n"
      ],
      "metadata": {
        "id": "kZsVkmg4Pl6t"
      },
      "id": "kZsVkmg4Pl6t"
    },
    {
      "cell_type": "code",
      "source": [
        "county_accuracy_score = {}\n",
        "county_f1_score = {}\n",
        "bay_area_counties_list = [\"alameda\", \"contra costa\", \"marin\", \"napa\", \"san francisco\", \"san mateo\", \"santa clara\", \"solano\", \"sonoma\"]\n",
        "for county in bay_area_counties_list:\n",
        "  accuracyScore, f1Score = predict_hit_and_run_for_county(county)\n",
        "  county_accuracy_score[county] = accuracyScore\n",
        "  county_f1_score[county] = f1Score"
      ],
      "metadata": {
        "id": "e5jdYUVhPknM"
      },
      "id": "e5jdYUVhPknM",
      "execution_count": null,
      "outputs": []
    },
    {
      "cell_type": "code",
      "source": [
        "bay_area_counties = gpd.read_file(\"Bay_Area_Counties\")\n",
        "bay_area_counties"
      ],
      "metadata": {
        "colab": {
          "base_uri": "https://localhost:8080/",
          "height": 332
        },
        "id": "1uyFtLudJyaJ",
        "outputId": "01e272cd-d512-4144-fad5-aada66f2611f"
      },
      "id": "1uyFtLudJyaJ",
      "execution_count": null,
      "outputs": [
        {
          "output_type": "execute_result",
          "data": {
            "text/plain": [
              "          county fipsstco  objectid  \\\n",
              "0        Alameda    06001       1.0   \n",
              "1   Contra Costa    06013       2.0   \n",
              "2          Marin    06041       3.0   \n",
              "3           Napa    06055       4.0   \n",
              "4  San Francisco    06075       5.0   \n",
              "5      San Mateo    06081       6.0   \n",
              "6    Santa Clara    06085       7.0   \n",
              "7         Solano    06095       8.0   \n",
              "8         Sonoma    06097       9.0   \n",
              "\n",
              "                                            geometry  \n",
              "0  MULTIPOLYGON (((-122.21496 37.76113, -122.2156...  \n",
              "1  MULTIPOLYGON (((-121.95091 38.05392, -121.9505...  \n",
              "2  MULTIPOLYGON (((-122.86959 38.02140, -122.8711...  \n",
              "3  POLYGON ((-122.20246 38.68898, -122.20232 38.6...  \n",
              "4  MULTIPOLYGON (((-122.47738 37.81103, -122.4763...  \n",
              "5  MULTIPOLYGON (((-122.50248 37.70813, -122.4977...  \n",
              "6  MULTIPOLYGON (((-122.02427 37.46094, -122.0203...  \n",
              "7  MULTIPOLYGON (((-122.01053 38.09290, -122.0110...  \n",
              "8  MULTIPOLYGON (((-123.53354 38.76841, -123.5333...  "
            ],
            "text/html": [
              "\n",
              "  <div id=\"df-12718d4c-4720-48ce-b169-091d384ead25\">\n",
              "    <div class=\"colab-df-container\">\n",
              "      <div>\n",
              "<style scoped>\n",
              "    .dataframe tbody tr th:only-of-type {\n",
              "        vertical-align: middle;\n",
              "    }\n",
              "\n",
              "    .dataframe tbody tr th {\n",
              "        vertical-align: top;\n",
              "    }\n",
              "\n",
              "    .dataframe thead th {\n",
              "        text-align: right;\n",
              "    }\n",
              "</style>\n",
              "<table border=\"1\" class=\"dataframe\">\n",
              "  <thead>\n",
              "    <tr style=\"text-align: right;\">\n",
              "      <th></th>\n",
              "      <th>county</th>\n",
              "      <th>fipsstco</th>\n",
              "      <th>objectid</th>\n",
              "      <th>geometry</th>\n",
              "    </tr>\n",
              "  </thead>\n",
              "  <tbody>\n",
              "    <tr>\n",
              "      <th>0</th>\n",
              "      <td>Alameda</td>\n",
              "      <td>06001</td>\n",
              "      <td>1.0</td>\n",
              "      <td>MULTIPOLYGON (((-122.21496 37.76113, -122.2156...</td>\n",
              "    </tr>\n",
              "    <tr>\n",
              "      <th>1</th>\n",
              "      <td>Contra Costa</td>\n",
              "      <td>06013</td>\n",
              "      <td>2.0</td>\n",
              "      <td>MULTIPOLYGON (((-121.95091 38.05392, -121.9505...</td>\n",
              "    </tr>\n",
              "    <tr>\n",
              "      <th>2</th>\n",
              "      <td>Marin</td>\n",
              "      <td>06041</td>\n",
              "      <td>3.0</td>\n",
              "      <td>MULTIPOLYGON (((-122.86959 38.02140, -122.8711...</td>\n",
              "    </tr>\n",
              "    <tr>\n",
              "      <th>3</th>\n",
              "      <td>Napa</td>\n",
              "      <td>06055</td>\n",
              "      <td>4.0</td>\n",
              "      <td>POLYGON ((-122.20246 38.68898, -122.20232 38.6...</td>\n",
              "    </tr>\n",
              "    <tr>\n",
              "      <th>4</th>\n",
              "      <td>San Francisco</td>\n",
              "      <td>06075</td>\n",
              "      <td>5.0</td>\n",
              "      <td>MULTIPOLYGON (((-122.47738 37.81103, -122.4763...</td>\n",
              "    </tr>\n",
              "    <tr>\n",
              "      <th>5</th>\n",
              "      <td>San Mateo</td>\n",
              "      <td>06081</td>\n",
              "      <td>6.0</td>\n",
              "      <td>MULTIPOLYGON (((-122.50248 37.70813, -122.4977...</td>\n",
              "    </tr>\n",
              "    <tr>\n",
              "      <th>6</th>\n",
              "      <td>Santa Clara</td>\n",
              "      <td>06085</td>\n",
              "      <td>7.0</td>\n",
              "      <td>MULTIPOLYGON (((-122.02427 37.46094, -122.0203...</td>\n",
              "    </tr>\n",
              "    <tr>\n",
              "      <th>7</th>\n",
              "      <td>Solano</td>\n",
              "      <td>06095</td>\n",
              "      <td>8.0</td>\n",
              "      <td>MULTIPOLYGON (((-122.01053 38.09290, -122.0110...</td>\n",
              "    </tr>\n",
              "    <tr>\n",
              "      <th>8</th>\n",
              "      <td>Sonoma</td>\n",
              "      <td>06097</td>\n",
              "      <td>9.0</td>\n",
              "      <td>MULTIPOLYGON (((-123.53354 38.76841, -123.5333...</td>\n",
              "    </tr>\n",
              "  </tbody>\n",
              "</table>\n",
              "</div>\n",
              "      <button class=\"colab-df-convert\" onclick=\"convertToInteractive('df-12718d4c-4720-48ce-b169-091d384ead25')\"\n",
              "              title=\"Convert this dataframe to an interactive table.\"\n",
              "              style=\"display:none;\">\n",
              "        \n",
              "  <svg xmlns=\"http://www.w3.org/2000/svg\" height=\"24px\"viewBox=\"0 0 24 24\"\n",
              "       width=\"24px\">\n",
              "    <path d=\"M0 0h24v24H0V0z\" fill=\"none\"/>\n",
              "    <path d=\"M18.56 5.44l.94 2.06.94-2.06 2.06-.94-2.06-.94-.94-2.06-.94 2.06-2.06.94zm-11 1L8.5 8.5l.94-2.06 2.06-.94-2.06-.94L8.5 2.5l-.94 2.06-2.06.94zm10 10l.94 2.06.94-2.06 2.06-.94-2.06-.94-.94-2.06-.94 2.06-2.06.94z\"/><path d=\"M17.41 7.96l-1.37-1.37c-.4-.4-.92-.59-1.43-.59-.52 0-1.04.2-1.43.59L10.3 9.45l-7.72 7.72c-.78.78-.78 2.05 0 2.83L4 21.41c.39.39.9.59 1.41.59.51 0 1.02-.2 1.41-.59l7.78-7.78 2.81-2.81c.8-.78.8-2.07 0-2.86zM5.41 20L4 18.59l7.72-7.72 1.47 1.35L5.41 20z\"/>\n",
              "  </svg>\n",
              "      </button>\n",
              "      \n",
              "  <style>\n",
              "    .colab-df-container {\n",
              "      display:flex;\n",
              "      flex-wrap:wrap;\n",
              "      gap: 12px;\n",
              "    }\n",
              "\n",
              "    .colab-df-convert {\n",
              "      background-color: #E8F0FE;\n",
              "      border: none;\n",
              "      border-radius: 50%;\n",
              "      cursor: pointer;\n",
              "      display: none;\n",
              "      fill: #1967D2;\n",
              "      height: 32px;\n",
              "      padding: 0 0 0 0;\n",
              "      width: 32px;\n",
              "    }\n",
              "\n",
              "    .colab-df-convert:hover {\n",
              "      background-color: #E2EBFA;\n",
              "      box-shadow: 0px 1px 2px rgba(60, 64, 67, 0.3), 0px 1px 3px 1px rgba(60, 64, 67, 0.15);\n",
              "      fill: #174EA6;\n",
              "    }\n",
              "\n",
              "    [theme=dark] .colab-df-convert {\n",
              "      background-color: #3B4455;\n",
              "      fill: #D2E3FC;\n",
              "    }\n",
              "\n",
              "    [theme=dark] .colab-df-convert:hover {\n",
              "      background-color: #434B5C;\n",
              "      box-shadow: 0px 1px 3px 1px rgba(0, 0, 0, 0.15);\n",
              "      filter: drop-shadow(0px 1px 2px rgba(0, 0, 0, 0.3));\n",
              "      fill: #FFFFFF;\n",
              "    }\n",
              "  </style>\n",
              "\n",
              "      <script>\n",
              "        const buttonEl =\n",
              "          document.querySelector('#df-12718d4c-4720-48ce-b169-091d384ead25 button.colab-df-convert');\n",
              "        buttonEl.style.display =\n",
              "          google.colab.kernel.accessAllowed ? 'block' : 'none';\n",
              "\n",
              "        async function convertToInteractive(key) {\n",
              "          const element = document.querySelector('#df-12718d4c-4720-48ce-b169-091d384ead25');\n",
              "          const dataTable =\n",
              "            await google.colab.kernel.invokeFunction('convertToInteractive',\n",
              "                                                     [key], {});\n",
              "          if (!dataTable) return;\n",
              "\n",
              "          const docLinkHtml = 'Like what you see? Visit the ' +\n",
              "            '<a target=\"_blank\" href=https://colab.research.google.com/notebooks/data_table.ipynb>data table notebook</a>'\n",
              "            + ' to learn more about interactive tables.';\n",
              "          element.innerHTML = '';\n",
              "          dataTable['output_type'] = 'display_data';\n",
              "          await google.colab.output.renderOutput(dataTable, element);\n",
              "          const docLink = document.createElement('div');\n",
              "          docLink.innerHTML = docLinkHtml;\n",
              "          element.appendChild(docLink);\n",
              "        }\n",
              "      </script>\n",
              "    </div>\n",
              "  </div>\n",
              "  "
            ]
          },
          "metadata": {},
          "execution_count": 133
        }
      ]
    },
    {
      "cell_type": "code",
      "source": [
        "data = {\"county_location\": list(county_accuracy_score.keys()), \"model_accuracy\": list(county_accuracy_score.values())}\n",
        "county_results_df = pd.DataFrame(data=data).set_index(bay_area_counties.index.values)\n",
        "county_results_df.head(3)"
      ],
      "metadata": {
        "colab": {
          "base_uri": "https://localhost:8080/",
          "height": 143
        },
        "id": "AQF18LZoKBOX",
        "outputId": "3e69d15c-7f1a-4824-93ce-86ea0dddd95d"
      },
      "id": "AQF18LZoKBOX",
      "execution_count": null,
      "outputs": [
        {
          "output_type": "execute_result",
          "data": {
            "text/plain": [
              "  county_location  model_accuracy\n",
              "0         alameda        0.758997\n",
              "1    contra costa        0.828512\n",
              "2           marin        0.848214"
            ],
            "text/html": [
              "\n",
              "  <div id=\"df-024cb489-35ce-4306-ba1d-ed5570152ece\">\n",
              "    <div class=\"colab-df-container\">\n",
              "      <div>\n",
              "<style scoped>\n",
              "    .dataframe tbody tr th:only-of-type {\n",
              "        vertical-align: middle;\n",
              "    }\n",
              "\n",
              "    .dataframe tbody tr th {\n",
              "        vertical-align: top;\n",
              "    }\n",
              "\n",
              "    .dataframe thead th {\n",
              "        text-align: right;\n",
              "    }\n",
              "</style>\n",
              "<table border=\"1\" class=\"dataframe\">\n",
              "  <thead>\n",
              "    <tr style=\"text-align: right;\">\n",
              "      <th></th>\n",
              "      <th>county_location</th>\n",
              "      <th>model_accuracy</th>\n",
              "    </tr>\n",
              "  </thead>\n",
              "  <tbody>\n",
              "    <tr>\n",
              "      <th>0</th>\n",
              "      <td>alameda</td>\n",
              "      <td>0.758997</td>\n",
              "    </tr>\n",
              "    <tr>\n",
              "      <th>1</th>\n",
              "      <td>contra costa</td>\n",
              "      <td>0.828512</td>\n",
              "    </tr>\n",
              "    <tr>\n",
              "      <th>2</th>\n",
              "      <td>marin</td>\n",
              "      <td>0.848214</td>\n",
              "    </tr>\n",
              "  </tbody>\n",
              "</table>\n",
              "</div>\n",
              "      <button class=\"colab-df-convert\" onclick=\"convertToInteractive('df-024cb489-35ce-4306-ba1d-ed5570152ece')\"\n",
              "              title=\"Convert this dataframe to an interactive table.\"\n",
              "              style=\"display:none;\">\n",
              "        \n",
              "  <svg xmlns=\"http://www.w3.org/2000/svg\" height=\"24px\"viewBox=\"0 0 24 24\"\n",
              "       width=\"24px\">\n",
              "    <path d=\"M0 0h24v24H0V0z\" fill=\"none\"/>\n",
              "    <path d=\"M18.56 5.44l.94 2.06.94-2.06 2.06-.94-2.06-.94-.94-2.06-.94 2.06-2.06.94zm-11 1L8.5 8.5l.94-2.06 2.06-.94-2.06-.94L8.5 2.5l-.94 2.06-2.06.94zm10 10l.94 2.06.94-2.06 2.06-.94-2.06-.94-.94-2.06-.94 2.06-2.06.94z\"/><path d=\"M17.41 7.96l-1.37-1.37c-.4-.4-.92-.59-1.43-.59-.52 0-1.04.2-1.43.59L10.3 9.45l-7.72 7.72c-.78.78-.78 2.05 0 2.83L4 21.41c.39.39.9.59 1.41.59.51 0 1.02-.2 1.41-.59l7.78-7.78 2.81-2.81c.8-.78.8-2.07 0-2.86zM5.41 20L4 18.59l7.72-7.72 1.47 1.35L5.41 20z\"/>\n",
              "  </svg>\n",
              "      </button>\n",
              "      \n",
              "  <style>\n",
              "    .colab-df-container {\n",
              "      display:flex;\n",
              "      flex-wrap:wrap;\n",
              "      gap: 12px;\n",
              "    }\n",
              "\n",
              "    .colab-df-convert {\n",
              "      background-color: #E8F0FE;\n",
              "      border: none;\n",
              "      border-radius: 50%;\n",
              "      cursor: pointer;\n",
              "      display: none;\n",
              "      fill: #1967D2;\n",
              "      height: 32px;\n",
              "      padding: 0 0 0 0;\n",
              "      width: 32px;\n",
              "    }\n",
              "\n",
              "    .colab-df-convert:hover {\n",
              "      background-color: #E2EBFA;\n",
              "      box-shadow: 0px 1px 2px rgba(60, 64, 67, 0.3), 0px 1px 3px 1px rgba(60, 64, 67, 0.15);\n",
              "      fill: #174EA6;\n",
              "    }\n",
              "\n",
              "    [theme=dark] .colab-df-convert {\n",
              "      background-color: #3B4455;\n",
              "      fill: #D2E3FC;\n",
              "    }\n",
              "\n",
              "    [theme=dark] .colab-df-convert:hover {\n",
              "      background-color: #434B5C;\n",
              "      box-shadow: 0px 1px 3px 1px rgba(0, 0, 0, 0.15);\n",
              "      filter: drop-shadow(0px 1px 2px rgba(0, 0, 0, 0.3));\n",
              "      fill: #FFFFFF;\n",
              "    }\n",
              "  </style>\n",
              "\n",
              "      <script>\n",
              "        const buttonEl =\n",
              "          document.querySelector('#df-024cb489-35ce-4306-ba1d-ed5570152ece button.colab-df-convert');\n",
              "        buttonEl.style.display =\n",
              "          google.colab.kernel.accessAllowed ? 'block' : 'none';\n",
              "\n",
              "        async function convertToInteractive(key) {\n",
              "          const element = document.querySelector('#df-024cb489-35ce-4306-ba1d-ed5570152ece');\n",
              "          const dataTable =\n",
              "            await google.colab.kernel.invokeFunction('convertToInteractive',\n",
              "                                                     [key], {});\n",
              "          if (!dataTable) return;\n",
              "\n",
              "          const docLinkHtml = 'Like what you see? Visit the ' +\n",
              "            '<a target=\"_blank\" href=https://colab.research.google.com/notebooks/data_table.ipynb>data table notebook</a>'\n",
              "            + ' to learn more about interactive tables.';\n",
              "          element.innerHTML = '';\n",
              "          dataTable['output_type'] = 'display_data';\n",
              "          await google.colab.output.renderOutput(dataTable, element);\n",
              "          const docLink = document.createElement('div');\n",
              "          docLink.innerHTML = docLinkHtml;\n",
              "          element.appendChild(docLink);\n",
              "        }\n",
              "      </script>\n",
              "    </div>\n",
              "  </div>\n",
              "  "
            ]
          },
          "metadata": {},
          "execution_count": 134
        }
      ]
    },
    {
      "cell_type": "code",
      "source": [
        "results = county_results_df[\"model_accuracy\"].values"
      ],
      "metadata": {
        "id": "tv5ypTojKeoz"
      },
      "id": "tv5ypTojKeoz",
      "execution_count": null,
      "outputs": []
    },
    {
      "cell_type": "code",
      "source": [
        "bay_area_counties[\"model_accuracy\"] = results\n",
        "bay_area_counties.head(3)"
      ],
      "metadata": {
        "colab": {
          "base_uri": "https://localhost:8080/",
          "height": 143
        },
        "id": "RtpQ1veBLJV8",
        "outputId": "276290bd-d19e-4f39-da15-dea3bf92d72e"
      },
      "id": "RtpQ1veBLJV8",
      "execution_count": null,
      "outputs": [
        {
          "output_type": "execute_result",
          "data": {
            "text/plain": [
              "         county fipsstco  objectid  \\\n",
              "0       Alameda    06001       1.0   \n",
              "1  Contra Costa    06013       2.0   \n",
              "2         Marin    06041       3.0   \n",
              "\n",
              "                                            geometry  model_accuracy  \n",
              "0  MULTIPOLYGON (((-122.21496 37.76113, -122.2156...        0.758997  \n",
              "1  MULTIPOLYGON (((-121.95091 38.05392, -121.9505...        0.828512  \n",
              "2  MULTIPOLYGON (((-122.86959 38.02140, -122.8711...        0.848214  "
            ],
            "text/html": [
              "\n",
              "  <div id=\"df-94afb464-965c-438e-ba54-77b85fc7497d\">\n",
              "    <div class=\"colab-df-container\">\n",
              "      <div>\n",
              "<style scoped>\n",
              "    .dataframe tbody tr th:only-of-type {\n",
              "        vertical-align: middle;\n",
              "    }\n",
              "\n",
              "    .dataframe tbody tr th {\n",
              "        vertical-align: top;\n",
              "    }\n",
              "\n",
              "    .dataframe thead th {\n",
              "        text-align: right;\n",
              "    }\n",
              "</style>\n",
              "<table border=\"1\" class=\"dataframe\">\n",
              "  <thead>\n",
              "    <tr style=\"text-align: right;\">\n",
              "      <th></th>\n",
              "      <th>county</th>\n",
              "      <th>fipsstco</th>\n",
              "      <th>objectid</th>\n",
              "      <th>geometry</th>\n",
              "      <th>model_accuracy</th>\n",
              "    </tr>\n",
              "  </thead>\n",
              "  <tbody>\n",
              "    <tr>\n",
              "      <th>0</th>\n",
              "      <td>Alameda</td>\n",
              "      <td>06001</td>\n",
              "      <td>1.0</td>\n",
              "      <td>MULTIPOLYGON (((-122.21496 37.76113, -122.2156...</td>\n",
              "      <td>0.758997</td>\n",
              "    </tr>\n",
              "    <tr>\n",
              "      <th>1</th>\n",
              "      <td>Contra Costa</td>\n",
              "      <td>06013</td>\n",
              "      <td>2.0</td>\n",
              "      <td>MULTIPOLYGON (((-121.95091 38.05392, -121.9505...</td>\n",
              "      <td>0.828512</td>\n",
              "    </tr>\n",
              "    <tr>\n",
              "      <th>2</th>\n",
              "      <td>Marin</td>\n",
              "      <td>06041</td>\n",
              "      <td>3.0</td>\n",
              "      <td>MULTIPOLYGON (((-122.86959 38.02140, -122.8711...</td>\n",
              "      <td>0.848214</td>\n",
              "    </tr>\n",
              "  </tbody>\n",
              "</table>\n",
              "</div>\n",
              "      <button class=\"colab-df-convert\" onclick=\"convertToInteractive('df-94afb464-965c-438e-ba54-77b85fc7497d')\"\n",
              "              title=\"Convert this dataframe to an interactive table.\"\n",
              "              style=\"display:none;\">\n",
              "        \n",
              "  <svg xmlns=\"http://www.w3.org/2000/svg\" height=\"24px\"viewBox=\"0 0 24 24\"\n",
              "       width=\"24px\">\n",
              "    <path d=\"M0 0h24v24H0V0z\" fill=\"none\"/>\n",
              "    <path d=\"M18.56 5.44l.94 2.06.94-2.06 2.06-.94-2.06-.94-.94-2.06-.94 2.06-2.06.94zm-11 1L8.5 8.5l.94-2.06 2.06-.94-2.06-.94L8.5 2.5l-.94 2.06-2.06.94zm10 10l.94 2.06.94-2.06 2.06-.94-2.06-.94-.94-2.06-.94 2.06-2.06.94z\"/><path d=\"M17.41 7.96l-1.37-1.37c-.4-.4-.92-.59-1.43-.59-.52 0-1.04.2-1.43.59L10.3 9.45l-7.72 7.72c-.78.78-.78 2.05 0 2.83L4 21.41c.39.39.9.59 1.41.59.51 0 1.02-.2 1.41-.59l7.78-7.78 2.81-2.81c.8-.78.8-2.07 0-2.86zM5.41 20L4 18.59l7.72-7.72 1.47 1.35L5.41 20z\"/>\n",
              "  </svg>\n",
              "      </button>\n",
              "      \n",
              "  <style>\n",
              "    .colab-df-container {\n",
              "      display:flex;\n",
              "      flex-wrap:wrap;\n",
              "      gap: 12px;\n",
              "    }\n",
              "\n",
              "    .colab-df-convert {\n",
              "      background-color: #E8F0FE;\n",
              "      border: none;\n",
              "      border-radius: 50%;\n",
              "      cursor: pointer;\n",
              "      display: none;\n",
              "      fill: #1967D2;\n",
              "      height: 32px;\n",
              "      padding: 0 0 0 0;\n",
              "      width: 32px;\n",
              "    }\n",
              "\n",
              "    .colab-df-convert:hover {\n",
              "      background-color: #E2EBFA;\n",
              "      box-shadow: 0px 1px 2px rgba(60, 64, 67, 0.3), 0px 1px 3px 1px rgba(60, 64, 67, 0.15);\n",
              "      fill: #174EA6;\n",
              "    }\n",
              "\n",
              "    [theme=dark] .colab-df-convert {\n",
              "      background-color: #3B4455;\n",
              "      fill: #D2E3FC;\n",
              "    }\n",
              "\n",
              "    [theme=dark] .colab-df-convert:hover {\n",
              "      background-color: #434B5C;\n",
              "      box-shadow: 0px 1px 3px 1px rgba(0, 0, 0, 0.15);\n",
              "      filter: drop-shadow(0px 1px 2px rgba(0, 0, 0, 0.3));\n",
              "      fill: #FFFFFF;\n",
              "    }\n",
              "  </style>\n",
              "\n",
              "      <script>\n",
              "        const buttonEl =\n",
              "          document.querySelector('#df-94afb464-965c-438e-ba54-77b85fc7497d button.colab-df-convert');\n",
              "        buttonEl.style.display =\n",
              "          google.colab.kernel.accessAllowed ? 'block' : 'none';\n",
              "\n",
              "        async function convertToInteractive(key) {\n",
              "          const element = document.querySelector('#df-94afb464-965c-438e-ba54-77b85fc7497d');\n",
              "          const dataTable =\n",
              "            await google.colab.kernel.invokeFunction('convertToInteractive',\n",
              "                                                     [key], {});\n",
              "          if (!dataTable) return;\n",
              "\n",
              "          const docLinkHtml = 'Like what you see? Visit the ' +\n",
              "            '<a target=\"_blank\" href=https://colab.research.google.com/notebooks/data_table.ipynb>data table notebook</a>'\n",
              "            + ' to learn more about interactive tables.';\n",
              "          element.innerHTML = '';\n",
              "          dataTable['output_type'] = 'display_data';\n",
              "          await google.colab.output.renderOutput(dataTable, element);\n",
              "          const docLink = document.createElement('div');\n",
              "          docLink.innerHTML = docLinkHtml;\n",
              "          element.appendChild(docLink);\n",
              "        }\n",
              "      </script>\n",
              "    </div>\n",
              "  </div>\n",
              "  "
            ]
          },
          "metadata": {},
          "execution_count": 136
        }
      ]
    },
    {
      "cell_type": "code",
      "source": [
        "# [\"alameda\", \"contra costa\", \"marin\", \"napa\", \"san francisco\", \"san mateo\", \"santa clara\", \"solano\", \"sonoma\"]\n",
        "bay_area_counties.plot(column=\"model_accuracy\", figsize=(10,10), legend=True, cmap=\"YlOrRd\", scheme=\"quantiles\", k=6)\n",
        "plt.title(f\"Map of model_accuracy for 9 counties\");"
      ],
      "metadata": {
        "colab": {
          "base_uri": "https://localhost:8080/",
          "height": 607
        },
        "id": "adrCvAKuLKDK",
        "outputId": "4b5e28a6-c331-4edd-f40d-1f23e78c7f10"
      },
      "id": "adrCvAKuLKDK",
      "execution_count": null,
      "outputs": [
        {
          "output_type": "display_data",
          "data": {
            "text/plain": [
              "<Figure size 720x720 with 1 Axes>"
            ],
            "image/png": "[encoded data removed]"
          },
          "metadata": {
            "needs_background": "light"
          }
        }
      ]
    },
    {
      "cell_type": "markdown",
      "source": [
        "## Now a map for the F1 scores"
      ],
      "metadata": {
        "id": "i6bKImDmNN5z"
      },
      "id": "i6bKImDmNN5z"
    },
    {
      "cell_type": "code",
      "source": [
        "data = {\"county_location\": list(county_f1_score.keys()), \"model_accuracy\": list(county_f1_score.values())}\n",
        "county_results_df = pd.DataFrame(data=data).set_index(bay_area_counties.index.values)\n",
        "county_results_df.head(3)"
      ],
      "metadata": {
        "colab": {
          "base_uri": "https://localhost:8080/",
          "height": 143
        },
        "outputId": "636c787e-f6e9-416f-fe4f-71324fdb5785",
        "id": "fMetJ-CQNK_e"
      },
      "execution_count": null,
      "outputs": [
        {
          "output_type": "execute_result",
          "data": {
            "text/plain": [
              "  county_location  model_accuracy\n",
              "0         alameda        0.862989\n",
              "1    contra costa        0.906215\n",
              "2           marin        0.917874"
            ],
            "text/html": [
              "\n",
              "  <div id=\"df-7297bea0-e9c5-472a-bc33-8f2e4922c8a7\">\n",
              "    <div class=\"colab-df-container\">\n",
              "      <div>\n",
              "<style scoped>\n",
              "    .dataframe tbody tr th:only-of-type {\n",
              "        vertical-align: middle;\n",
              "    }\n",
              "\n",
              "    .dataframe tbody tr th {\n",
              "        vertical-align: top;\n",
              "    }\n",
              "\n",
              "    .dataframe thead th {\n",
              "        text-align: right;\n",
              "    }\n",
              "</style>\n",
              "<table border=\"1\" class=\"dataframe\">\n",
              "  <thead>\n",
              "    <tr style=\"text-align: right;\">\n",
              "      <th></th>\n",
              "      <th>county_location</th>\n",
              "      <th>model_accuracy</th>\n",
              "    </tr>\n",
              "  </thead>\n",
              "  <tbody>\n",
              "    <tr>\n",
              "      <th>0</th>\n",
              "      <td>alameda</td>\n",
              "      <td>0.862989</td>\n",
              "    </tr>\n",
              "    <tr>\n",
              "      <th>1</th>\n",
              "      <td>contra costa</td>\n",
              "      <td>0.906215</td>\n",
              "    </tr>\n",
              "    <tr>\n",
              "      <th>2</th>\n",
              "      <td>marin</td>\n",
              "      <td>0.917874</td>\n",
              "    </tr>\n",
              "  </tbody>\n",
              "</table>\n",
              "</div>\n",
              "      <button class=\"colab-df-convert\" onclick=\"convertToInteractive('df-7297bea0-e9c5-472a-bc33-8f2e4922c8a7')\"\n",
              "              title=\"Convert this dataframe to an interactive table.\"\n",
              "              style=\"display:none;\">\n",
              "        \n",
              "  <svg xmlns=\"http://www.w3.org/2000/svg\" height=\"24px\"viewBox=\"0 0 24 24\"\n",
              "       width=\"24px\">\n",
              "    <path d=\"M0 0h24v24H0V0z\" fill=\"none\"/>\n",
              "    <path d=\"M18.56 5.44l.94 2.06.94-2.06 2.06-.94-2.06-.94-.94-2.06-.94 2.06-2.06.94zm-11 1L8.5 8.5l.94-2.06 2.06-.94-2.06-.94L8.5 2.5l-.94 2.06-2.06.94zm10 10l.94 2.06.94-2.06 2.06-.94-2.06-.94-.94-2.06-.94 2.06-2.06.94z\"/><path d=\"M17.41 7.96l-1.37-1.37c-.4-.4-.92-.59-1.43-.59-.52 0-1.04.2-1.43.59L10.3 9.45l-7.72 7.72c-.78.78-.78 2.05 0 2.83L4 21.41c.39.39.9.59 1.41.59.51 0 1.02-.2 1.41-.59l7.78-7.78 2.81-2.81c.8-.78.8-2.07 0-2.86zM5.41 20L4 18.59l7.72-7.72 1.47 1.35L5.41 20z\"/>\n",
              "  </svg>\n",
              "      </button>\n",
              "      \n",
              "  <style>\n",
              "    .colab-df-container {\n",
              "      display:flex;\n",
              "      flex-wrap:wrap;\n",
              "      gap: 12px;\n",
              "    }\n",
              "\n",
              "    .colab-df-convert {\n",
              "      background-color: #E8F0FE;\n",
              "      border: none;\n",
              "      border-radius: 50%;\n",
              "      cursor: pointer;\n",
              "      display: none;\n",
              "      fill: #1967D2;\n",
              "      height: 32px;\n",
              "      padding: 0 0 0 0;\n",
              "      width: 32px;\n",
              "    }\n",
              "\n",
              "    .colab-df-convert:hover {\n",
              "      background-color: #E2EBFA;\n",
              "      box-shadow: 0px 1px 2px rgba(60, 64, 67, 0.3), 0px 1px 3px 1px rgba(60, 64, 67, 0.15);\n",
              "      fill: #174EA6;\n",
              "    }\n",
              "\n",
              "    [theme=dark] .colab-df-convert {\n",
              "      background-color: #3B4455;\n",
              "      fill: #D2E3FC;\n",
              "    }\n",
              "\n",
              "    [theme=dark] .colab-df-convert:hover {\n",
              "      background-color: #434B5C;\n",
              "      box-shadow: 0px 1px 3px 1px rgba(0, 0, 0, 0.15);\n",
              "      filter: drop-shadow(0px 1px 2px rgba(0, 0, 0, 0.3));\n",
              "      fill: #FFFFFF;\n",
              "    }\n",
              "  </style>\n",
              "\n",
              "      <script>\n",
              "        const buttonEl =\n",
              "          document.querySelector('#df-7297bea0-e9c5-472a-bc33-8f2e4922c8a7 button.colab-df-convert');\n",
              "        buttonEl.style.display =\n",
              "          google.colab.kernel.accessAllowed ? 'block' : 'none';\n",
              "\n",
              "        async function convertToInteractive(key) {\n",
              "          const element = document.querySelector('#df-7297bea0-e9c5-472a-bc33-8f2e4922c8a7');\n",
              "          const dataTable =\n",
              "            await google.colab.kernel.invokeFunction('convertToInteractive',\n",
              "                                                     [key], {});\n",
              "          if (!dataTable) return;\n",
              "\n",
              "          const docLinkHtml = 'Like what you see? Visit the ' +\n",
              "            '<a target=\"_blank\" href=https://colab.research.google.com/notebooks/data_table.ipynb>data table notebook</a>'\n",
              "            + ' to learn more about interactive tables.';\n",
              "          element.innerHTML = '';\n",
              "          dataTable['output_type'] = 'display_data';\n",
              "          await google.colab.output.renderOutput(dataTable, element);\n",
              "          const docLink = document.createElement('div');\n",
              "          docLink.innerHTML = docLinkHtml;\n",
              "          element.appendChild(docLink);\n",
              "        }\n",
              "      </script>\n",
              "    </div>\n",
              "  </div>\n",
              "  "
            ]
          },
          "metadata": {},
          "execution_count": 138
        }
      ],
      "id": "fMetJ-CQNK_e"
    },
    {
      "cell_type": "code",
      "source": [
        "results = county_results_df[\"model_accuracy\"].values"
      ],
      "metadata": {
        "id": "HtEF4IioNK_f"
      },
      "execution_count": null,
      "outputs": [],
      "id": "HtEF4IioNK_f"
    },
    {
      "cell_type": "code",
      "source": [
        "bay_area_counties[\"model_accuracy\"] = results\n",
        "bay_area_counties.head(3)"
      ],
      "metadata": {
        "colab": {
          "base_uri": "https://localhost:8080/",
          "height": 143
        },
        "outputId": "851cd728-d058-49cd-d107-c3a79299a370",
        "id": "BqIkGW8UNK_f"
      },
      "execution_count": null,
      "outputs": [
        {
          "output_type": "execute_result",
          "data": {
            "text/plain": [
              "         county fipsstco  objectid  \\\n",
              "0       Alameda    06001       1.0   \n",
              "1  Contra Costa    06013       2.0   \n",
              "2         Marin    06041       3.0   \n",
              "\n",
              "                                            geometry  model_accuracy  \n",
              "0  MULTIPOLYGON (((-122.21496 37.76113, -122.2156...        0.862989  \n",
              "1  MULTIPOLYGON (((-121.95091 38.05392, -121.9505...        0.906215  \n",
              "2  MULTIPOLYGON (((-122.86959 38.02140, -122.8711...        0.917874  "
            ],
            "text/html": [
              "\n",
              "  <div id=\"df-f0be02ef-b798-4a92-9319-61c77e14e961\">\n",
              "    <div class=\"colab-df-container\">\n",
              "      <div>\n",
              "<style scoped>\n",
              "    .dataframe tbody tr th:only-of-type {\n",
              "        vertical-align: middle;\n",
              "    }\n",
              "\n",
              "    .dataframe tbody tr th {\n",
              "        vertical-align: top;\n",
              "    }\n",
              "\n",
              "    .dataframe thead th {\n",
              "        text-align: right;\n",
              "    }\n",
              "</style>\n",
              "<table border=\"1\" class=\"dataframe\">\n",
              "  <thead>\n",
              "    <tr style=\"text-align: right;\">\n",
              "      <th></th>\n",
              "      <th>county</th>\n",
              "      <th>fipsstco</th>\n",
              "      <th>objectid</th>\n",
              "      <th>geometry</th>\n",
              "      <th>model_accuracy</th>\n",
              "    </tr>\n",
              "  </thead>\n",
              "  <tbody>\n",
              "    <tr>\n",
              "      <th>0</th>\n",
              "      <td>Alameda</td>\n",
              "      <td>06001</td>\n",
              "      <td>1.0</td>\n",
              "      <td>MULTIPOLYGON (((-122.21496 37.76113, -122.2156...</td>\n",
              "      <td>0.862989</td>\n",
              "    </tr>\n",
              "    <tr>\n",
              "      <th>1</th>\n",
              "      <td>Contra Costa</td>\n",
              "      <td>06013</td>\n",
              "      <td>2.0</td>\n",
              "      <td>MULTIPOLYGON (((-121.95091 38.05392, -121.9505...</td>\n",
              "      <td>0.906215</td>\n",
              "    </tr>\n",
              "    <tr>\n",
              "      <th>2</th>\n",
              "      <td>Marin</td>\n",
              "      <td>06041</td>\n",
              "      <td>3.0</td>\n",
              "      <td>MULTIPOLYGON (((-122.86959 38.02140, -122.8711...</td>\n",
              "      <td>0.917874</td>\n",
              "    </tr>\n",
              "  </tbody>\n",
              "</table>\n",
              "</div>\n",
              "      <button class=\"colab-df-convert\" onclick=\"convertToInteractive('df-f0be02ef-b798-4a92-9319-61c77e14e961')\"\n",
              "              title=\"Convert this dataframe to an interactive table.\"\n",
              "              style=\"display:none;\">\n",
              "        \n",
              "  <svg xmlns=\"http://www.w3.org/2000/svg\" height=\"24px\"viewBox=\"0 0 24 24\"\n",
              "       width=\"24px\">\n",
              "    <path d=\"M0 0h24v24H0V0z\" fill=\"none\"/>\n",
              "    <path d=\"M18.56 5.44l.94 2.06.94-2.06 2.06-.94-2.06-.94-.94-2.06-.94 2.06-2.06.94zm-11 1L8.5 8.5l.94-2.06 2.06-.94-2.06-.94L8.5 2.5l-.94 2.06-2.06.94zm10 10l.94 2.06.94-2.06 2.06-.94-2.06-.94-.94-2.06-.94 2.06-2.06.94z\"/><path d=\"M17.41 7.96l-1.37-1.37c-.4-.4-.92-.59-1.43-.59-.52 0-1.04.2-1.43.59L10.3 9.45l-7.72 7.72c-.78.78-.78 2.05 0 2.83L4 21.41c.39.39.9.59 1.41.59.51 0 1.02-.2 1.41-.59l7.78-7.78 2.81-2.81c.8-.78.8-2.07 0-2.86zM5.41 20L4 18.59l7.72-7.72 1.47 1.35L5.41 20z\"/>\n",
              "  </svg>\n",
              "      </button>\n",
              "      \n",
              "  <style>\n",
              "    .colab-df-container {\n",
              "      display:flex;\n",
              "      flex-wrap:wrap;\n",
              "      gap: 12px;\n",
              "    }\n",
              "\n",
              "    .colab-df-convert {\n",
              "      background-color: #E8F0FE;\n",
              "      border: none;\n",
              "      border-radius: 50%;\n",
              "      cursor: pointer;\n",
              "      display: none;\n",
              "      fill: #1967D2;\n",
              "      height: 32px;\n",
              "      padding: 0 0 0 0;\n",
              "      width: 32px;\n",
              "    }\n",
              "\n",
              "    .colab-df-convert:hover {\n",
              "      background-color: #E2EBFA;\n",
              "      box-shadow: 0px 1px 2px rgba(60, 64, 67, 0.3), 0px 1px 3px 1px rgba(60, 64, 67, 0.15);\n",
              "      fill: #174EA6;\n",
              "    }\n",
              "\n",
              "    [theme=dark] .colab-df-convert {\n",
              "      background-color: #3B4455;\n",
              "      fill: #D2E3FC;\n",
              "    }\n",
              "\n",
              "    [theme=dark] .colab-df-convert:hover {\n",
              "      background-color: #434B5C;\n",
              "      box-shadow: 0px 1px 3px 1px rgba(0, 0, 0, 0.15);\n",
              "      filter: drop-shadow(0px 1px 2px rgba(0, 0, 0, 0.3));\n",
              "      fill: #FFFFFF;\n",
              "    }\n",
              "  </style>\n",
              "\n",
              "      <script>\n",
              "        const buttonEl =\n",
              "          document.querySelector('#df-f0be02ef-b798-4a92-9319-61c77e14e961 button.colab-df-convert');\n",
              "        buttonEl.style.display =\n",
              "          google.colab.kernel.accessAllowed ? 'block' : 'none';\n",
              "\n",
              "        async function convertToInteractive(key) {\n",
              "          const element = document.querySelector('#df-f0be02ef-b798-4a92-9319-61c77e14e961');\n",
              "          const dataTable =\n",
              "            await google.colab.kernel.invokeFunction('convertToInteractive',\n",
              "                                                     [key], {});\n",
              "          if (!dataTable) return;\n",
              "\n",
              "          const docLinkHtml = 'Like what you see? Visit the ' +\n",
              "            '<a target=\"_blank\" href=https://colab.research.google.com/notebooks/data_table.ipynb>data table notebook</a>'\n",
              "            + ' to learn more about interactive tables.';\n",
              "          element.innerHTML = '';\n",
              "          dataTable['output_type'] = 'display_data';\n",
              "          await google.colab.output.renderOutput(dataTable, element);\n",
              "          const docLink = document.createElement('div');\n",
              "          docLink.innerHTML = docLinkHtml;\n",
              "          element.appendChild(docLink);\n",
              "        }\n",
              "      </script>\n",
              "    </div>\n",
              "  </div>\n",
              "  "
            ]
          },
          "metadata": {},
          "execution_count": 140
        }
      ],
      "id": "BqIkGW8UNK_f"
    },
    {
      "cell_type": "code",
      "source": [
        "# [\"alameda\", \"contra costa\", \"marin\", \"napa\", \"san francisco\", \"san mateo\", \"santa clara\", \"solano\", \"sonoma\"]\n",
        "bay_area_counties.plot(column=\"model_accuracy\", figsize=(10,10), legend=True, cmap=\"YlOrRd\", scheme=\"quantiles\", k=6)\n",
        "plt.title(f\"Map of model F1 Scores For 9 counties\");"
      ],
      "metadata": {
        "colab": {
          "base_uri": "https://localhost:8080/",
          "height": 607
        },
        "outputId": "80c9cd44-26e3-47c2-eae4-28a76336866f",
        "id": "OKzLIPLMNK_f"
      },
      "execution_count": null,
      "outputs": [
        {
          "output_type": "display_data",
          "data": {
            "text/plain": [
              "<Figure size 720x720 with 1 Axes>"
            ],
            "image/png": "[encoded data removed]"
          },
          "metadata": {
            "needs_background": "light"
          }
        }
      ],
      "id": "OKzLIPLMNK_f"
    }
  ],
  "metadata": {
    "kernelspec": {
      "display_name": "Python 3 (ipykernel)",
      "language": "python",
      "name": "python3"
    },
    "language_info": {
      "codemirror_mode": {
        "name": "ipython",
        "version": 3
      },
      "file_extension": ".py",
      "mimetype": "text/x-python",
      "name": "python",
      "nbconvert_exporter": "python",
      "pygments_lexer": "ipython3",
      "version": "3.8.6"
    },
    "colab": {
      "provenance": [],
      "collapsed_sections": [
        "Iu782HH0f_cl",
        "B3GW35c6qOM6"
      ]
    }
  },
  "nbformat": 4,
  "nbformat_minor": 5
}