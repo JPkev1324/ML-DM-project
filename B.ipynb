{
  "nbformat": 4,
  "nbformat_minor": 0,
  "metadata": {
    "colab": {
      "provenance": []
    },
    "kernelspec": {
      "name": "python3",
      "display_name": "Python 3"
    },
    "language_info": {
      "name": "python"
    }
  },
  "cells": [
    {
      "cell_type": "code",
      "execution_count": null,
      "metadata": {
        "id": "SDBwVoJ3KETy"
      },
      "outputs": [],
      "source": [
        "import numpy as np\n",
        "import pandas as pd\n",
        "import copy as cp"
      ]
    },
    {
      "cell_type": "code",
      "source": [
        "crashes=pd.read_csv('n_crash_data_2009.csv')\n",
        "crashes.info()"
      ],
      "metadata": {
        "colab": {
          "base_uri": "https://localhost:8080/"
        },
        "id": "ftF2jU-fKJ4m",
        "outputId": "eab7ac2c-0009-4aec-8f39-f411ef8adadf"
      },
      "execution_count": null,
      "outputs": [
        {
          "output_type": "stream",
          "name": "stdout",
          "text": [
            "<class 'pandas.core.frame.DataFrame'>\n",
            "RangeIndex: 422462 entries, 0 to 422461\n",
            "Data columns (total 55 columns):\n",
            " #   Column                           Non-Null Count   Dtype  \n",
            "---  ------                           --------------   -----  \n",
            " 0   case_id                          422462 non-null  int64  \n",
            " 1   jurisdiction                     421610 non-null  float64\n",
            " 2   officer_id                       420351 non-null  object \n",
            " 3   chp_shift                        422462 non-null  object \n",
            " 4   population                       422462 non-null  object \n",
            " 5   county_city_location             422462 non-null  int64  \n",
            " 6   county_location                  422462 non-null  object \n",
            " 7   special_condition                422462 non-null  int64  \n",
            " 8   beat_type                        422462 non-null  object \n",
            " 9   chp_beat_type                    422462 non-null  object \n",
            " 10  chp_beat_class                   422462 non-null  object \n",
            " 11  beat_number                      387133 non-null  object \n",
            " 12  primary_road                     422441 non-null  object \n",
            " 13  secondary_road                   422454 non-null  object \n",
            " 14  distance                         422462 non-null  float64\n",
            " 15  direction                        316899 non-null  object \n",
            " 16  intersection                     422462 non-null  int64  \n",
            " 17  state_highway_indicator          422462 non-null  int64  \n",
            " 18  tow_away                         422462 non-null  int64  \n",
            " 19  collision_severity               422462 non-null  object \n",
            " 20  killed_victims                   422462 non-null  int64  \n",
            " 21  injured_victims                  422462 non-null  int64  \n",
            " 22  party_count                      422462 non-null  int64  \n",
            " 23  primary_collision_factor         419659 non-null  object \n",
            " 24  pcf_violation_category           414116 non-null  object \n",
            " 25  pcf_violation                    391318 non-null  float64\n",
            " 26  hit_and_run                      422462 non-null  object \n",
            " 27  type_of_collision                418544 non-null  object \n",
            " 28  motor_vehicle_involved_with      420446 non-null  object \n",
            " 29  pedestrian_action                422261 non-null  object \n",
            " 30  road_surface                     418392 non-null  object \n",
            " 31  lighting                         419759 non-null  object \n",
            " 32  control_device                   419958 non-null  object \n",
            " 33  chp_road_type                    422462 non-null  int64  \n",
            " 34  pedestrian_collision             422462 non-null  int64  \n",
            " 35  bicycle_collision                422462 non-null  int64  \n",
            " 36  motorcycle_collision             422462 non-null  int64  \n",
            " 37  truck_collision                  422462 non-null  int64  \n",
            " 38  not_private_property             422462 non-null  int64  \n",
            " 39  statewide_vehicle_type_at_fault  327588 non-null  object \n",
            " 40  chp_vehicle_type_at_fault        320856 non-null  object \n",
            " 41  severe_injury_count              422462 non-null  int64  \n",
            " 42  other_visible_injury_count       422462 non-null  int64  \n",
            " 43  complaint_of_pain_injury_count   422462 non-null  int64  \n",
            " 44  pedestrian_killed_count          422462 non-null  int64  \n",
            " 45  pedestrian_injured_count         422462 non-null  int64  \n",
            " 46  bicyclist_killed_count           422462 non-null  int64  \n",
            " 47  bicyclist_injured_count          422462 non-null  int64  \n",
            " 48  motorcyclist_killed_count        422462 non-null  int64  \n",
            " 49  motorcyclist_injured_count       422462 non-null  int64  \n",
            " 50  collision_date                   422462 non-null  object \n",
            " 51  collision_time                   422462 non-null  object \n",
            " 52  process_date                     422462 non-null  object \n",
            " 53  weather                          420177 non-null  object \n",
            " 54  road_condition                   418705 non-null  object \n",
            "dtypes: float64(3), int64(24), object(28)\n",
            "memory usage: 177.3+ MB\n"
          ]
        }
      ]
    },
    {
      "cell_type": "code",
      "source": [
        "crashes.columns"
      ],
      "metadata": {
        "colab": {
          "base_uri": "https://localhost:8080/"
        },
        "id": "SvHIz4LpRS5C",
        "outputId": "95cee8b0-2e25-4dfb-a0ae-2b210880c44f"
      },
      "execution_count": null,
      "outputs": [
        {
          "output_type": "execute_result",
          "data": {
            "text/plain": [
              "Index(['case_id', 'jurisdiction', 'officer_id', 'chp_shift', 'population',\n",
              "       'county_city_location', 'county_location', 'special_condition',\n",
              "       'beat_type', 'chp_beat_type', 'chp_beat_class', 'beat_number',\n",
              "       'primary_road', 'secondary_road', 'distance', 'direction',\n",
              "       'intersection', 'state_highway_indicator', 'tow_away',\n",
              "       'collision_severity', 'killed_victims', 'injured_victims',\n",
              "       'party_count', 'primary_collision_factor', 'pcf_violation_category',\n",
              "       'pcf_violation', 'hit_and_run', 'type_of_collision',\n",
              "       'motor_vehicle_involved_with', 'pedestrian_action', 'road_surface',\n",
              "       'lighting', 'control_device', 'chp_road_type', 'pedestrian_collision',\n",
              "       'bicycle_collision', 'motorcycle_collision', 'truck_collision',\n",
              "       'not_private_property', 'statewide_vehicle_type_at_fault',\n",
              "       'chp_vehicle_type_at_fault', 'severe_injury_count',\n",
              "       'other_visible_injury_count', 'complaint_of_pain_injury_count',\n",
              "       'pedestrian_killed_count', 'pedestrian_injured_count',\n",
              "       'bicyclist_killed_count', 'bicyclist_injured_count',\n",
              "       'motorcyclist_killed_count', 'motorcyclist_injured_count',\n",
              "       'collision_date', 'collision_time', 'process_date', 'weather',\n",
              "       'road_condition'],\n",
              "      dtype='object')"
            ]
          },
          "metadata": {},
          "execution_count": 3
        }
      ]
    },
    {
      "cell_type": "code",
      "source": [
        "print('Total Number of Reported Crashes:', crashes['case_id'].nunique())"
      ],
      "metadata": {
        "colab": {
          "base_uri": "https://localhost:8080/"
        },
        "id": "-IzVrj9zRZ1Q",
        "outputId": "55ec71f2-cd1d-4975-bca8-fee78e00e851"
      },
      "execution_count": null,
      "outputs": [
        {
          "output_type": "stream",
          "name": "stdout",
          "text": [
            "Total Number of Reported Crashes: 422462\n"
          ]
        }
      ]
    },
    {
      "cell_type": "code",
      "source": [
        "crashes[\"date\"] = crashes['collision_date'].astype(str) +\" \"+ crashes['collision_time']\n",
        "crashes['date'] = pd.to_datetime(crashes['date'], infer_datetime_format=True)"
      ],
      "metadata": {
        "id": "cIQn2desTDI1"
      },
      "execution_count": null,
      "outputs": []
    },
    {
      "cell_type": "code",
      "source": [
        "crashes.head()"
      ],
      "metadata": {
        "colab": {
          "base_uri": "https://localhost:8080/",
          "height": 473
        },
        "id": "H0-Ap2kjTHtU",
        "outputId": "b9089a56-fc6a-4874-a594-f646d96187ff"
      },
      "execution_count": null,
      "outputs": [
        {
          "output_type": "execute_result",
          "data": {
            "text/plain": [
              "   case_id  jurisdiction officer_id       chp_shift      population  \\\n",
              "0  3858022        1005.0       P379         not chp         >250000   \n",
              "1  3899441        9120.0      17248  2200 thru 0559   2500 to 10000   \n",
              "2  3899442        9530.0      19005  0600 thru 1359         >250000   \n",
              "3  3899445        9530.0      19284  1400 thru 2159         >250000   \n",
              "4  3899446        9530.0      19289  1400 thru 2159  25000 to 50000   \n",
              "\n",
              "   county_city_location county_location  special_condition          beat_type  \\\n",
              "0                  1005          fresno                  0            not chp   \n",
              "1                   801       del norte                  0  chp state highway   \n",
              "2                  1942     los angeles                  0  chp state highway   \n",
              "3                  1942     los angeles                  0  chp state highway   \n",
              "4                  1939     los angeles                  0  chp state highway   \n",
              "\n",
              "  chp_beat_type  ... bicyclist_killed_count bicyclist_injured_count  \\\n",
              "0       not chp  ...                      0                       0   \n",
              "1    us highway  ...                      0                       0   \n",
              "2    interstate  ...                      0                       0   \n",
              "3    interstate  ...                      0                       0   \n",
              "4    interstate  ...                      0                       0   \n",
              "\n",
              "  motorcyclist_killed_count motorcyclist_injured_count  collision_date  \\\n",
              "0                         0                          0      2009-02-03   \n",
              "1                         0                          0      2009-02-28   \n",
              "2                         0                          0      2009-02-09   \n",
              "3                         0                          0      2009-02-18   \n",
              "4                         0                          0      2009-02-11   \n",
              "\n",
              "  collision_time  process_date  weather  road_condition                date  \n",
              "0       17:11:00    2009-04-27    clear          normal 2009-02-03 17:11:00  \n",
              "1       01:45:00    2009-11-02    clear          normal 2009-02-28 01:45:00  \n",
              "2       10:20:00    2010-01-14  raining          normal 2009-02-09 10:20:00  \n",
              "3       15:50:00    2010-01-13    clear          normal 2009-02-18 15:50:00  \n",
              "4       17:35:00    2010-01-11   cloudy          normal 2009-02-11 17:35:00  \n",
              "\n",
              "[5 rows x 56 columns]"
            ],
            "text/html": [
              "\n",
              "  <div id=\"df-2f72e6c3-c5fc-42e3-abc3-08044408f50a\">\n",
              "    <div class=\"colab-df-container\">\n",
              "      <div>\n",
              "<style scoped>\n",
              "    .dataframe tbody tr th:only-of-type {\n",
              "        vertical-align: middle;\n",
              "    }\n",
              "\n",
              "    .dataframe tbody tr th {\n",
              "        vertical-align: top;\n",
              "    }\n",
              "\n",
              "    .dataframe thead th {\n",
              "        text-align: right;\n",
              "    }\n",
              "</style>\n",
              "<table border=\"1\" class=\"dataframe\">\n",
              "  <thead>\n",
              "    <tr style=\"text-align: right;\">\n",
              "      <th></th>\n",
              "      <th>case_id</th>\n",
              "      <th>jurisdiction</th>\n",
              "      <th>officer_id</th>\n",
              "      <th>chp_shift</th>\n",
              "      <th>population</th>\n",
              "      <th>county_city_location</th>\n",
              "      <th>county_location</th>\n",
              "      <th>special_condition</th>\n",
              "      <th>beat_type</th>\n",
              "      <th>chp_beat_type</th>\n",
              "      <th>...</th>\n",
              "      <th>bicyclist_killed_count</th>\n",
              "      <th>bicyclist_injured_count</th>\n",
              "      <th>motorcyclist_killed_count</th>\n",
              "      <th>motorcyclist_injured_count</th>\n",
              "      <th>collision_date</th>\n",
              "      <th>collision_time</th>\n",
              "      <th>process_date</th>\n",
              "      <th>weather</th>\n",
              "      <th>road_condition</th>\n",
              "      <th>date</th>\n",
              "    </tr>\n",
              "  </thead>\n",
              "  <tbody>\n",
              "    <tr>\n",
              "      <th>0</th>\n",
              "      <td>3858022</td>\n",
              "      <td>1005.0</td>\n",
              "      <td>P379</td>\n",
              "      <td>not chp</td>\n",
              "      <td>&gt;250000</td>\n",
              "      <td>1005</td>\n",
              "      <td>fresno</td>\n",
              "      <td>0</td>\n",
              "      <td>not chp</td>\n",
              "      <td>not chp</td>\n",
              "      <td>...</td>\n",
              "      <td>0</td>\n",
              "      <td>0</td>\n",
              "      <td>0</td>\n",
              "      <td>0</td>\n",
              "      <td>2009-02-03</td>\n",
              "      <td>17:11:00</td>\n",
              "      <td>2009-04-27</td>\n",
              "      <td>clear</td>\n",
              "      <td>normal</td>\n",
              "      <td>2009-02-03 17:11:00</td>\n",
              "    </tr>\n",
              "    <tr>\n",
              "      <th>1</th>\n",
              "      <td>3899441</td>\n",
              "      <td>9120.0</td>\n",
              "      <td>17248</td>\n",
              "      <td>2200 thru 0559</td>\n",
              "      <td>2500 to 10000</td>\n",
              "      <td>801</td>\n",
              "      <td>del norte</td>\n",
              "      <td>0</td>\n",
              "      <td>chp state highway</td>\n",
              "      <td>us highway</td>\n",
              "      <td>...</td>\n",
              "      <td>0</td>\n",
              "      <td>0</td>\n",
              "      <td>0</td>\n",
              "      <td>0</td>\n",
              "      <td>2009-02-28</td>\n",
              "      <td>01:45:00</td>\n",
              "      <td>2009-11-02</td>\n",
              "      <td>clear</td>\n",
              "      <td>normal</td>\n",
              "      <td>2009-02-28 01:45:00</td>\n",
              "    </tr>\n",
              "    <tr>\n",
              "      <th>2</th>\n",
              "      <td>3899442</td>\n",
              "      <td>9530.0</td>\n",
              "      <td>19005</td>\n",
              "      <td>0600 thru 1359</td>\n",
              "      <td>&gt;250000</td>\n",
              "      <td>1942</td>\n",
              "      <td>los angeles</td>\n",
              "      <td>0</td>\n",
              "      <td>chp state highway</td>\n",
              "      <td>interstate</td>\n",
              "      <td>...</td>\n",
              "      <td>0</td>\n",
              "      <td>0</td>\n",
              "      <td>0</td>\n",
              "      <td>0</td>\n",
              "      <td>2009-02-09</td>\n",
              "      <td>10:20:00</td>\n",
              "      <td>2010-01-14</td>\n",
              "      <td>raining</td>\n",
              "      <td>normal</td>\n",
              "      <td>2009-02-09 10:20:00</td>\n",
              "    </tr>\n",
              "    <tr>\n",
              "      <th>3</th>\n",
              "      <td>3899445</td>\n",
              "      <td>9530.0</td>\n",
              "      <td>19284</td>\n",
              "      <td>1400 thru 2159</td>\n",
              "      <td>&gt;250000</td>\n",
              "      <td>1942</td>\n",
              "      <td>los angeles</td>\n",
              "      <td>0</td>\n",
              "      <td>chp state highway</td>\n",
              "      <td>interstate</td>\n",
              "      <td>...</td>\n",
              "      <td>0</td>\n",
              "      <td>0</td>\n",
              "      <td>0</td>\n",
              "      <td>0</td>\n",
              "      <td>2009-02-18</td>\n",
              "      <td>15:50:00</td>\n",
              "      <td>2010-01-13</td>\n",
              "      <td>clear</td>\n",
              "      <td>normal</td>\n",
              "      <td>2009-02-18 15:50:00</td>\n",
              "    </tr>\n",
              "    <tr>\n",
              "      <th>4</th>\n",
              "      <td>3899446</td>\n",
              "      <td>9530.0</td>\n",
              "      <td>19289</td>\n",
              "      <td>1400 thru 2159</td>\n",
              "      <td>25000 to 50000</td>\n",
              "      <td>1939</td>\n",
              "      <td>los angeles</td>\n",
              "      <td>0</td>\n",
              "      <td>chp state highway</td>\n",
              "      <td>interstate</td>\n",
              "      <td>...</td>\n",
              "      <td>0</td>\n",
              "      <td>0</td>\n",
              "      <td>0</td>\n",
              "      <td>0</td>\n",
              "      <td>2009-02-11</td>\n",
              "      <td>17:35:00</td>\n",
              "      <td>2010-01-11</td>\n",
              "      <td>cloudy</td>\n",
              "      <td>normal</td>\n",
              "      <td>2009-02-11 17:35:00</td>\n",
              "    </tr>\n",
              "  </tbody>\n",
              "</table>\n",
              "<p>5 rows × 56 columns</p>\n",
              "</div>\n",
              "      <button class=\"colab-df-convert\" onclick=\"convertToInteractive('df-2f72e6c3-c5fc-42e3-abc3-08044408f50a')\"\n",
              "              title=\"Convert this dataframe to an interactive table.\"\n",
              "              style=\"display:none;\">\n",
              "        \n",
              "  <svg xmlns=\"http://www.w3.org/2000/svg\" height=\"24px\"viewBox=\"0 0 24 24\"\n",
              "       width=\"24px\">\n",
              "    <path d=\"M0 0h24v24H0V0z\" fill=\"none\"/>\n",
              "    <path d=\"M18.56 5.44l.94 2.06.94-2.06 2.06-.94-2.06-.94-.94-2.06-.94 2.06-2.06.94zm-11 1L8.5 8.5l.94-2.06 2.06-.94-2.06-.94L8.5 2.5l-.94 2.06-2.06.94zm10 10l.94 2.06.94-2.06 2.06-.94-2.06-.94-.94-2.06-.94 2.06-2.06.94z\"/><path d=\"M17.41 7.96l-1.37-1.37c-.4-.4-.92-.59-1.43-.59-.52 0-1.04.2-1.43.59L10.3 9.45l-7.72 7.72c-.78.78-.78 2.05 0 2.83L4 21.41c.39.39.9.59 1.41.59.51 0 1.02-.2 1.41-.59l7.78-7.78 2.81-2.81c.8-.78.8-2.07 0-2.86zM5.41 20L4 18.59l7.72-7.72 1.47 1.35L5.41 20z\"/>\n",
              "  </svg>\n",
              "      </button>\n",
              "      \n",
              "  <style>\n",
              "    .colab-df-container {\n",
              "      display:flex;\n",
              "      flex-wrap:wrap;\n",
              "      gap: 12px;\n",
              "    }\n",
              "\n",
              "    .colab-df-convert {\n",
              "      background-color: #E8F0FE;\n",
              "      border: none;\n",
              "      border-radius: 50%;\n",
              "      cursor: pointer;\n",
              "      display: none;\n",
              "      fill: #1967D2;\n",
              "      height: 32px;\n",
              "      padding: 0 0 0 0;\n",
              "      width: 32px;\n",
              "    }\n",
              "\n",
              "    .colab-df-convert:hover {\n",
              "      background-color: #E2EBFA;\n",
              "      box-shadow: 0px 1px 2px rgba(60, 64, 67, 0.3), 0px 1px 3px 1px rgba(60, 64, 67, 0.15);\n",
              "      fill: #174EA6;\n",
              "    }\n",
              "\n",
              "    [theme=dark] .colab-df-convert {\n",
              "      background-color: #3B4455;\n",
              "      fill: #D2E3FC;\n",
              "    }\n",
              "\n",
              "    [theme=dark] .colab-df-convert:hover {\n",
              "      background-color: #434B5C;\n",
              "      box-shadow: 0px 1px 3px 1px rgba(0, 0, 0, 0.15);\n",
              "      filter: drop-shadow(0px 1px 2px rgba(0, 0, 0, 0.3));\n",
              "      fill: #FFFFFF;\n",
              "    }\n",
              "  </style>\n",
              "\n",
              "      <script>\n",
              "        const buttonEl =\n",
              "          document.querySelector('#df-2f72e6c3-c5fc-42e3-abc3-08044408f50a button.colab-df-convert');\n",
              "        buttonEl.style.display =\n",
              "          google.colab.kernel.accessAllowed ? 'block' : 'none';\n",
              "\n",
              "        async function convertToInteractive(key) {\n",
              "          const element = document.querySelector('#df-2f72e6c3-c5fc-42e3-abc3-08044408f50a');\n",
              "          const dataTable =\n",
              "            await google.colab.kernel.invokeFunction('convertToInteractive',\n",
              "                                                     [key], {});\n",
              "          if (!dataTable) return;\n",
              "\n",
              "          const docLinkHtml = 'Like what you see? Visit the ' +\n",
              "            '<a target=\"_blank\" href=https://colab.research.google.com/notebooks/data_table.ipynb>data table notebook</a>'\n",
              "            + ' to learn more about interactive tables.';\n",
              "          element.innerHTML = '';\n",
              "          dataTable['output_type'] = 'display_data';\n",
              "          await google.colab.output.renderOutput(dataTable, element);\n",
              "          const docLink = document.createElement('div');\n",
              "          docLink.innerHTML = docLinkHtml;\n",
              "          element.appendChild(docLink);\n",
              "        }\n",
              "      </script>\n",
              "    </div>\n",
              "  </div>\n",
              "  "
            ]
          },
          "metadata": {},
          "execution_count": 6
        }
      ]
    },
    {
      "cell_type": "code",
      "source": [
        "quarter = crashes['date'].dt.quarter\n",
        "print(quarter)\n",
        "print(\"-------------------\")\n",
        "print(quarter.unique())"
      ],
      "metadata": {
        "colab": {
          "base_uri": "https://localhost:8080/"
        },
        "id": "zNQWkIntTggs",
        "outputId": "5a27e9eb-d4dc-4b70-dcb8-4bc66a9f1cf0"
      },
      "execution_count": null,
      "outputs": [
        {
          "output_type": "stream",
          "name": "stdout",
          "text": [
            "0         1\n",
            "1         1\n",
            "2         1\n",
            "3         1\n",
            "4         1\n",
            "         ..\n",
            "422457    4\n",
            "422458    4\n",
            "422459    4\n",
            "422460    4\n",
            "422461    4\n",
            "Name: date, Length: 422462, dtype: int64\n",
            "-------------------\n",
            "[1 2 3 4]\n"
          ]
        }
      ]
    },
    {
      "cell_type": "code",
      "source": [
        "import numpy as np\n",
        "import matplotlib.pyplot as plt\n",
        "import seaborn as sns\n",
        "sns.set_theme(style='darkgrid')\n",
        "\n",
        "# Add column containing hour of day that crash occured.\n",
        "crashes['quarter'] = crashes['date'].dt.quarter\n",
        "\n",
        "# Plot number of crashes by hour of day.\n",
        "plt.figure(figsize=(16,8))\n",
        "s = sns.barplot(data=crashes.groupby('quarter')['case_id'].nunique().reset_index(), x='quarter', y='case_id', palette='muted', linewidth=0)\n",
        "s.set_title('The Quarterly Number of Reported Crashes in California 2019', y=1.02, fontsize=14)\n",
        "s.set_xlabel('The quarter', fontsize=13, labelpad=15)\n",
        "s.set_ylabel('Number of Crashes', fontsize=13, labelpad=15)\n",
        "plt.show()"
      ],
      "metadata": {
        "colab": {
          "base_uri": "https://localhost:8080/",
          "height": 539
        },
        "id": "yMLpv93q1mf8",
        "outputId": "ec8a9727-b63f-4683-b202-88209b7caa5e"
      },
      "execution_count": null,
      "outputs": [
        {
          "output_type": "display_data",
          "data": {
            "text/plain": [
              "<Figure size 1152x576 with 1 Axes>"
            ],
            "image/png": "[encoded data removed]"
          },
          "metadata": {}
        }
      ]
    },
    {
      "cell_type": "code",
      "source": [
        "month = crashes['date'].dt.month\n",
        "print(month)\n",
        "print(\"-------------------\")\n",
        "print(month.unique())"
      ],
      "metadata": {
        "colab": {
          "base_uri": "https://localhost:8080/"
        },
        "id": "BFdL4YT_ULRr",
        "outputId": "65a0e5d3-c1e0-4525-ddfe-6b31daa219c0"
      },
      "execution_count": null,
      "outputs": [
        {
          "output_type": "stream",
          "name": "stdout",
          "text": [
            "0          2\n",
            "1          2\n",
            "2          2\n",
            "3          2\n",
            "4          2\n",
            "          ..\n",
            "422457    12\n",
            "422458    12\n",
            "422459    12\n",
            "422460    12\n",
            "422461    12\n",
            "Name: date, Length: 422462, dtype: int64\n",
            "-------------------\n",
            "[ 2  3  1  4  9  7  6  5  8 11 10 12]\n"
          ]
        }
      ]
    },
    {
      "cell_type": "code",
      "source": [
        "import numpy as np\n",
        "import matplotlib.pyplot as plt\n",
        "import seaborn as sns\n",
        "sns.set_theme(style='darkgrid')\n",
        "\n",
        "# Add column containing hour of day that crashes occured.\n",
        "crashes['month'] = crashes['date'].dt.month\n",
        "\n",
        "# Plot number of crashes by hour of day.\n",
        "plt.figure(figsize=(16,8))\n",
        "s = sns.barplot(data=crashes.groupby('month')['case_id'].nunique().reset_index(), x='month', y='case_id', palette='muted', linewidth=0)\n",
        "s.set_title('The Monthly Number of Reported Crashes in California in 2019', y=1.02, fontsize=14)\n",
        "s.set_xlabel('The Month', fontsize=13, labelpad=15)\n",
        "s.set_ylabel('Number of Crashes', fontsize=13, labelpad=15)\n",
        "plt.show()"
      ],
      "metadata": {
        "colab": {
          "base_uri": "https://localhost:8080/",
          "height": 539
        },
        "id": "26LpLC1K2Ydh",
        "outputId": "3b14d2ea-1b90-4aeb-bfcd-643048805002"
      },
      "execution_count": null,
      "outputs": [
        {
          "output_type": "display_data",
          "data": {
            "text/plain": [
              "<Figure size 1152x576 with 1 Axes>"
            ],
            "image/png": "[encoded data removed]"
          },
          "metadata": {}
        }
      ]
    },
    {
      "cell_type": "code",
      "source": [
        "day = crashes['date'].dt.day\n",
        "print(day)\n",
        "print(\"-------------------\")\n",
        "print(day.unique())"
      ],
      "metadata": {
        "colab": {
          "base_uri": "https://localhost:8080/"
        },
        "id": "f2s3lbVYUZk7",
        "outputId": "306d0220-1048-468d-ec5f-5002dfbc015d"
      },
      "execution_count": null,
      "outputs": [
        {
          "output_type": "stream",
          "name": "stdout",
          "text": [
            "0          3\n",
            "1         28\n",
            "2          9\n",
            "3         18\n",
            "4         11\n",
            "          ..\n",
            "422457    21\n",
            "422458    21\n",
            "422459    24\n",
            "422460    21\n",
            "422461    24\n",
            "Name: date, Length: 422462, dtype: int64\n",
            "-------------------\n",
            "[ 3 28  9 18 11 13  8 10 17 14 12 15 16  7 25 19 23  5 27 22  4  1  6 30\n",
            " 29 26 31 21  2 20 24]\n"
          ]
        }
      ]
    },
    {
      "cell_type": "code",
      "source": [
        "import numpy as np\n",
        "import matplotlib.pyplot as plt\n",
        "import seaborn as sns\n",
        "sns.set_theme(style='darkgrid')\n",
        "\n",
        "# Add column containing hour of day that crash occured.\n",
        "crashes['day'] = crashes['date'].dt.day\n",
        "\n",
        "# Plot number of crashes by hour of day.\n",
        "plt.figure(figsize=(16,8))\n",
        "s = sns.barplot(data=crashes.groupby('day')['case_id'].nunique().reset_index(), x='day', y='case_id', palette='muted', linewidth=0)\n",
        "s.set_title('The Daily Number of Reported Crashes in California in 2019', y=1.02, fontsize=14)\n",
        "s.set_xlabel('The Day', fontsize=13, labelpad=15)\n",
        "s.set_ylabel('Number of Crashes', fontsize=13, labelpad=15)\n",
        "plt.show()"
      ],
      "metadata": {
        "colab": {
          "base_uri": "https://localhost:8080/",
          "height": 539
        },
        "id": "pYjUSQqZ2unV",
        "outputId": "e83ab053-10d9-4b0a-a341-c25082c83de5"
      },
      "execution_count": null,
      "outputs": [
        {
          "output_type": "display_data",
          "data": {
            "text/plain": [
              "<Figure size 1152x576 with 1 Axes>"
            ],
            "image/png": "[encoded data removed]"
          },
          "metadata": {}
        }
      ]
    },
    {
      "cell_type": "code",
      "source": [
        "day_name = crashes['date'].dt.day_name()\n",
        "print(day_name)\n",
        "print(\"-------------------\")\n",
        "print(day_name.unique())"
      ],
      "metadata": {
        "colab": {
          "base_uri": "https://localhost:8080/"
        },
        "id": "0FrEO8WiUeMT",
        "outputId": "a857dff5-ec96-4614-c121-849ed73ea6ec"
      },
      "execution_count": null,
      "outputs": [
        {
          "output_type": "stream",
          "name": "stdout",
          "text": [
            "0           Tuesday\n",
            "1          Saturday\n",
            "2            Monday\n",
            "3         Wednesday\n",
            "4         Wednesday\n",
            "            ...    \n",
            "422457       Monday\n",
            "422458       Monday\n",
            "422459     Thursday\n",
            "422460       Monday\n",
            "422461     Thursday\n",
            "Name: date, Length: 422462, dtype: object\n",
            "-------------------\n",
            "['Tuesday' 'Saturday' 'Monday' 'Wednesday' 'Friday' 'Sunday' 'Thursday']\n"
          ]
        }
      ]
    },
    {
      "cell_type": "code",
      "source": [
        "import numpy as np\n",
        "import matplotlib.pyplot as plt\n",
        "import seaborn as sns\n",
        "sns.set_theme(style='darkgrid')\n",
        "\n",
        "# Add column containing hour of day that crash occured.\n",
        "crashes['day_name'] = crashes['date'].dt.day_name()\n",
        "\n",
        "# Plot number of crashes by hour of day.\n",
        "plt.figure(figsize=(16,8))\n",
        "s = sns.barplot(data=crashes.groupby('day_name')['case_id'].nunique().reset_index(), x='day_name', y='case_id', palette='muted', linewidth=0)\n",
        "s.set_title('The weekly Number of Reported Crashes in California 2019', y=1.02, fontsize=14)\n",
        "s.set_xlabel('The week', fontsize=13, labelpad=15)\n",
        "s.set_ylabel('Number of Crashes', fontsize=13, labelpad=15)\n",
        "plt.show()"
      ],
      "metadata": {
        "colab": {
          "base_uri": "https://localhost:8080/",
          "height": 539
        },
        "id": "-lbObjqG28Mb",
        "outputId": "f162ac33-93d3-4288-da59-63f59a52a9d1"
      },
      "execution_count": null,
      "outputs": [
        {
          "output_type": "display_data",
          "data": {
            "text/plain": [
              "<Figure size 1152x576 with 1 Axes>"
            ],
            "image/png": "[encoded data removed]"
          },
          "metadata": {}
        }
      ]
    },
    {
      "cell_type": "code",
      "source": [
        "hour = crashes['date'].dt.hour\n",
        "print(hour)\n",
        "print(\"-------------------\")\n",
        "print(hour.unique())"
      ],
      "metadata": {
        "colab": {
          "base_uri": "https://localhost:8080/"
        },
        "id": "xLyaGn_9Uj9i",
        "outputId": "ebee60d8-bc87-42ab-dfe6-dec3308b8025"
      },
      "execution_count": null,
      "outputs": [
        {
          "output_type": "stream",
          "name": "stdout",
          "text": [
            "0         17\n",
            "1          1\n",
            "2         10\n",
            "3         15\n",
            "4         17\n",
            "          ..\n",
            "422457     8\n",
            "422458    16\n",
            "422459     9\n",
            "422460    19\n",
            "422461    11\n",
            "Name: date, Length: 422462, dtype: int64\n",
            "-------------------\n",
            "[17  1 10 15 21 20 18 13  2 16 22  7  9 23  5  8 14  6 12 19 11  3  0  4]\n"
          ]
        }
      ]
    },
    {
      "cell_type": "code",
      "source": [
        "import numpy as np\n",
        "import matplotlib.pyplot as plt\n",
        "import seaborn as sns\n",
        "sns.set_theme(style='darkgrid')\n",
        "\n",
        "# Add column containing hour of day that crashes occured.\n",
        "crashes['hour'] = crashes['date'].dt.hour\n",
        "\n",
        "# Plot number of crashes by hour of day.\n",
        "plt.figure(figsize=(16,8))\n",
        "s = sns.barplot(data=crashes.groupby('hour')['case_id'].nunique().reset_index(), x='hour', y='case_id', palette='muted', linewidth=0)\n",
        "s.set_title('The Hourly Number of Reported Crashes in California 2019', y=1.02, fontsize=14)\n",
        "s.set_xlabel('The Time', fontsize=13, labelpad=15)\n",
        "s.set_ylabel('Number of Crashes', fontsize=13, labelpad=15)\n",
        "plt.show()"
      ],
      "metadata": {
        "colab": {
          "base_uri": "https://localhost:8080/",
          "height": 539
        },
        "id": "IgEWxfK-V5Of",
        "outputId": "280af710-1f74-4dd6-b3e0-405af86b716c"
      },
      "execution_count": null,
      "outputs": [
        {
          "output_type": "display_data",
          "data": {
            "text/plain": [
              "<Figure size 1152x576 with 1 Axes>"
            ],
            "image/png": "[encoded data removed]"
          },
          "metadata": {}
        }
      ]
    },
    {
      "cell_type": "code",
      "source": [
        "crashes.columns"
      ],
      "metadata": {
        "colab": {
          "base_uri": "https://localhost:8080/"
        },
        "id": "__4P-a--WSBu",
        "outputId": "667cf65b-2eed-4f84-acad-dac01acace01"
      },
      "execution_count": null,
      "outputs": [
        {
          "output_type": "execute_result",
          "data": {
            "text/plain": [
              "Index(['case_id', 'jurisdiction', 'officer_id', 'chp_shift', 'population',\n",
              "       'county_city_location', 'county_location', 'special_condition',\n",
              "       'beat_type', 'chp_beat_type', 'chp_beat_class', 'beat_number',\n",
              "       'primary_road', 'secondary_road', 'distance', 'direction',\n",
              "       'intersection', 'state_highway_indicator', 'tow_away',\n",
              "       'collision_severity', 'killed_victims', 'injured_victims',\n",
              "       'party_count', 'primary_collision_factor', 'pcf_violation_category',\n",
              "       'pcf_violation', 'hit_and_run', 'type_of_collision',\n",
              "       'motor_vehicle_involved_with', 'pedestrian_action', 'road_surface',\n",
              "       'lighting', 'control_device', 'chp_road_type', 'pedestrian_collision',\n",
              "       'bicycle_collision', 'motorcycle_collision', 'truck_collision',\n",
              "       'not_private_property', 'statewide_vehicle_type_at_fault',\n",
              "       'chp_vehicle_type_at_fault', 'severe_injury_count',\n",
              "       'other_visible_injury_count', 'complaint_of_pain_injury_count',\n",
              "       'pedestrian_killed_count', 'pedestrian_injured_count',\n",
              "       'bicyclist_killed_count', 'bicyclist_injured_count',\n",
              "       'motorcyclist_killed_count', 'motorcyclist_injured_count',\n",
              "       'collision_date', 'collision_time', 'process_date', 'weather',\n",
              "       'road_condition', 'date', 'quarter', 'month', 'day', 'day_name',\n",
              "       'hour'],\n",
              "      dtype='object')"
            ]
          },
          "metadata": {},
          "execution_count": 17
        }
      ]
    },
    {
      "cell_type": "code",
      "source": [
        "crashes.info()"
      ],
      "metadata": {
        "colab": {
          "base_uri": "https://localhost:8080/"
        },
        "id": "vRu-JmKVj-lR",
        "outputId": "37f05c1e-6cc9-4a37-f3bb-82a0527b8c66"
      },
      "execution_count": null,
      "outputs": [
        {
          "output_type": "stream",
          "name": "stdout",
          "text": [
            "<class 'pandas.core.frame.DataFrame'>\n",
            "RangeIndex: 422462 entries, 0 to 422461\n",
            "Data columns (total 61 columns):\n",
            " #   Column                           Non-Null Count   Dtype         \n",
            "---  ------                           --------------   -----         \n",
            " 0   case_id                          422462 non-null  int64         \n",
            " 1   jurisdiction                     421610 non-null  float64       \n",
            " 2   officer_id                       420351 non-null  object        \n",
            " 3   chp_shift                        422462 non-null  object        \n",
            " 4   population                       422462 non-null  object        \n",
            " 5   county_city_location             422462 non-null  int64         \n",
            " 6   county_location                  422462 non-null  object        \n",
            " 7   special_condition                422462 non-null  int64         \n",
            " 8   beat_type                        422462 non-null  object        \n",
            " 9   chp_beat_type                    422462 non-null  object        \n",
            " 10  chp_beat_class                   422462 non-null  object        \n",
            " 11  beat_number                      387133 non-null  object        \n",
            " 12  primary_road                     422441 non-null  object        \n",
            " 13  secondary_road                   422454 non-null  object        \n",
            " 14  distance                         422462 non-null  float64       \n",
            " 15  direction                        316899 non-null  object        \n",
            " 16  intersection                     422462 non-null  int64         \n",
            " 17  state_highway_indicator          422462 non-null  int64         \n",
            " 18  tow_away                         422462 non-null  int64         \n",
            " 19  collision_severity               422462 non-null  object        \n",
            " 20  killed_victims                   422462 non-null  int64         \n",
            " 21  injured_victims                  422462 non-null  int64         \n",
            " 22  party_count                      422462 non-null  int64         \n",
            " 23  primary_collision_factor         419659 non-null  object        \n",
            " 24  pcf_violation_category           414116 non-null  object        \n",
            " 25  pcf_violation                    391318 non-null  float64       \n",
            " 26  hit_and_run                      422462 non-null  object        \n",
            " 27  type_of_collision                418544 non-null  object        \n",
            " 28  motor_vehicle_involved_with      420446 non-null  object        \n",
            " 29  pedestrian_action                422261 non-null  object        \n",
            " 30  road_surface                     418392 non-null  object        \n",
            " 31  lighting                         419759 non-null  object        \n",
            " 32  control_device                   419958 non-null  object        \n",
            " 33  chp_road_type                    422462 non-null  int64         \n",
            " 34  pedestrian_collision             422462 non-null  int64         \n",
            " 35  bicycle_collision                422462 non-null  int64         \n",
            " 36  motorcycle_collision             422462 non-null  int64         \n",
            " 37  truck_collision                  422462 non-null  int64         \n",
            " 38  not_private_property             422462 non-null  int64         \n",
            " 39  statewide_vehicle_type_at_fault  327588 non-null  object        \n",
            " 40  chp_vehicle_type_at_fault        320856 non-null  object        \n",
            " 41  severe_injury_count              422462 non-null  int64         \n",
            " 42  other_visible_injury_count       422462 non-null  int64         \n",
            " 43  complaint_of_pain_injury_count   422462 non-null  int64         \n",
            " 44  pedestrian_killed_count          422462 non-null  int64         \n",
            " 45  pedestrian_injured_count         422462 non-null  int64         \n",
            " 46  bicyclist_killed_count           422462 non-null  int64         \n",
            " 47  bicyclist_injured_count          422462 non-null  int64         \n",
            " 48  motorcyclist_killed_count        422462 non-null  int64         \n",
            " 49  motorcyclist_injured_count       422462 non-null  int64         \n",
            " 50  collision_date                   422462 non-null  object        \n",
            " 51  collision_time                   422462 non-null  object        \n",
            " 52  process_date                     422462 non-null  object        \n",
            " 53  weather                          420177 non-null  object        \n",
            " 54  road_condition                   418705 non-null  object        \n",
            " 55  date                             422462 non-null  datetime64[ns]\n",
            " 56  quarter                          422462 non-null  int64         \n",
            " 57  month                            422462 non-null  int64         \n",
            " 58  day                              422462 non-null  int64         \n",
            " 59  day_name                         422462 non-null  object        \n",
            " 60  hour                             422462 non-null  int64         \n",
            "dtypes: datetime64[ns](1), float64(3), int64(28), object(29)\n",
            "memory usage: 196.6+ MB\n"
          ]
        }
      ]
    },
    {
      "cell_type": "code",
      "source": [],
      "metadata": {
        "id": "sW3HTc9GQDDV"
      },
      "execution_count": null,
      "outputs": []
    },
    {
      "cell_type": "code",
      "source": [
        "object_columns=crashes.dtypes[crashes.dtypes == \"object\"].index.values.tolist()\n",
        "print(object_columns)\n",
        "print(len(object_columns))"
      ],
      "metadata": {
        "colab": {
          "base_uri": "https://localhost:8080/"
        },
        "id": "jFkeNuZQkeS3",
        "outputId": "80b36074-e988-4605-a270-d2bbb336cf6e"
      },
      "execution_count": null,
      "outputs": [
        {
          "output_type": "stream",
          "name": "stdout",
          "text": [
            "['officer_id', 'chp_shift', 'population', 'county_location', 'beat_type', 'chp_beat_type', 'chp_beat_class', 'beat_number', 'primary_road', 'secondary_road', 'direction', 'collision_severity', 'primary_collision_factor', 'pcf_violation_category', 'hit_and_run', 'type_of_collision', 'motor_vehicle_involved_with', 'pedestrian_action', 'road_surface', 'lighting', 'control_device', 'statewide_vehicle_type_at_fault', 'chp_vehicle_type_at_fault', 'collision_date', 'collision_time', 'process_date', 'weather', 'road_condition', 'day_name']\n",
            "29\n"
          ]
        }
      ]
    },
    {
      "cell_type": "code",
      "source": [
        "#crashes_enc = pd.get_dummies(crashes, columns = ['day_name'])\n",
        "#crashes_enc"
      ],
      "metadata": {
        "id": "jcMjaMX4KKhx"
      },
      "execution_count": null,
      "outputs": []
    },
    {
      "cell_type": "markdown",
      "source": [
        "# Features for EDA/Feature Engineering\n",
        "# For Categorical variable, onehot encode and make it binary\n"
      ],
      "metadata": {
        "id": "617VY6-duYWZ"
      }
    },
    {
      "cell_type": "code",
      "source": [
        "object_columns"
      ],
      "metadata": {
        "colab": {
          "base_uri": "https://localhost:8080/"
        },
        "id": "4_-SelVWuhgw",
        "outputId": "e72cdbb0-bd1f-4728-aed0-2b93be2568fc"
      },
      "execution_count": null,
      "outputs": [
        {
          "output_type": "execute_result",
          "data": {
            "text/plain": [
              "['officer_id',\n",
              " 'chp_shift',\n",
              " 'population',\n",
              " 'county_location',\n",
              " 'beat_type',\n",
              " 'chp_beat_type',\n",
              " 'chp_beat_class',\n",
              " 'beat_number',\n",
              " 'primary_road',\n",
              " 'secondary_road',\n",
              " 'direction',\n",
              " 'collision_severity',\n",
              " 'primary_collision_factor',\n",
              " 'pcf_violation_category',\n",
              " 'hit_and_run',\n",
              " 'type_of_collision',\n",
              " 'motor_vehicle_involved_with',\n",
              " 'pedestrian_action',\n",
              " 'road_surface',\n",
              " 'lighting',\n",
              " 'control_device',\n",
              " 'statewide_vehicle_type_at_fault',\n",
              " 'chp_vehicle_type_at_fault',\n",
              " 'collision_date',\n",
              " 'collision_time',\n",
              " 'process_date',\n",
              " 'weather',\n",
              " 'road_condition',\n",
              " 'day_name']"
            ]
          },
          "metadata": {},
          "execution_count": 21
        }
      ]
    },
    {
      "cell_type": "markdown",
      "source": [
        "### population "
      ],
      "metadata": {
        "id": "b37eA_SdvoA9"
      }
    },
    {
      "cell_type": "code",
      "source": [
        "# check population column\n",
        "crashes['population'].value_counts()"
      ],
      "metadata": {
        "colab": {
          "base_uri": "https://localhost:8080/"
        },
        "id": "gVc0Ir-0vR_5",
        "outputId": "d7eaa512-2842-4ac4-b051-15ec0bba94ea"
      },
      "execution_count": null,
      "outputs": [
        {
          "output_type": "execute_result",
          "data": {
            "text/plain": [
              ">250000             106028\n",
              "unincorporated       94299\n",
              "100000 to 250000     80242\n",
              "50000 to 100000      78291\n",
              "25000 to 50000       37207\n",
              "10000 to 25000       18206\n",
              "2500 to 10000         6147\n",
              "<2500                 2042\n",
              "Name: population, dtype: int64"
            ]
          },
          "metadata": {},
          "execution_count": 22
        }
      ]
    },
    {
      "cell_type": "code",
      "source": [
        "# OneHotEncode the population column\n",
        "from sklearn.preprocessing import LabelEncoder\n",
        "# creating instance of labelencoder\n",
        "labelencoder = LabelEncoder()\n",
        "# Assigning numerical values and storing in another column\n",
        "crashes['population'] = labelencoder.fit_transform(crashes['population'])\n",
        "crashes['population'].unique()"
      ],
      "metadata": {
        "colab": {
          "base_uri": "https://localhost:8080/"
        },
        "id": "e8YivFPGkq7N",
        "outputId": "7d1a19ad-3f51-49d3-f4b9-cf677b7e5f8d"
      },
      "execution_count": null,
      "outputs": [
        {
          "output_type": "execute_result",
          "data": {
            "text/plain": [
              "array([6, 2, 3, 7, 4, 1, 0, 5])"
            ]
          },
          "metadata": {},
          "execution_count": 23
        }
      ]
    },
    {
      "cell_type": "markdown",
      "source": [
        "### road_surface"
      ],
      "metadata": {
        "id": "UCfbP_25v6T1"
      }
    },
    {
      "cell_type": "code",
      "source": [
        "crashes['road_surface'].unique()"
      ],
      "metadata": {
        "colab": {
          "base_uri": "https://localhost:8080/"
        },
        "id": "E_Iyw4p7u0Fy",
        "outputId": "8f8325d2-2927-4085-a4a2-f977d07c7e38"
      },
      "execution_count": null,
      "outputs": [
        {
          "output_type": "execute_result",
          "data": {
            "text/plain": [
              "array(['dry', 'wet', 'snowy', nan, 'slippery'], dtype=object)"
            ]
          },
          "metadata": {},
          "execution_count": 24
        }
      ]
    },
    {
      "cell_type": "code",
      "source": [
        "crashes['road_surface'].value_counts()"
      ],
      "metadata": {
        "colab": {
          "base_uri": "https://localhost:8080/"
        },
        "id": "3G71p4tJu2k8",
        "outputId": "fa038c43-91d4-478e-add2-c41b6df9a25f"
      },
      "execution_count": null,
      "outputs": [
        {
          "output_type": "execute_result",
          "data": {
            "text/plain": [
              "dry         381156\n",
              "wet          34766\n",
              "snowy         2086\n",
              "slippery       384\n",
              "Name: road_surface, dtype: int64"
            ]
          },
          "metadata": {},
          "execution_count": 25
        }
      ]
    },
    {
      "cell_type": "code",
      "source": [
        "crashes['road_surface'] = labelencoder.fit_transform(crashes['road_surface'])\n",
        "crashes['road_surface'].unique()"
      ],
      "metadata": {
        "colab": {
          "base_uri": "https://localhost:8080/"
        },
        "id": "-b7TWgh7wFUo",
        "outputId": "b63f5fd4-321f-4503-be17-f2dd43adbc82"
      },
      "execution_count": null,
      "outputs": [
        {
          "output_type": "execute_result",
          "data": {
            "text/plain": [
              "array([0, 3, 2, 4, 1])"
            ]
          },
          "metadata": {},
          "execution_count": 26
        }
      ]
    },
    {
      "cell_type": "markdown",
      "source": [
        "### weather"
      ],
      "metadata": {
        "id": "BQe5SiSOwZY2"
      }
    },
    {
      "cell_type": "code",
      "source": [
        "crashes['weather'].unique()"
      ],
      "metadata": {
        "colab": {
          "base_uri": "https://localhost:8080/"
        },
        "id": "jj_Z5lvkwN9f",
        "outputId": "c656be1d-9b28-4909-9658-792f7675f7ea"
      },
      "execution_count": null,
      "outputs": [
        {
          "output_type": "execute_result",
          "data": {
            "text/plain": [
              "array(['clear', 'raining', 'cloudy', 'fog', nan, 'snowing', 'wind',\n",
              "       'other'], dtype=object)"
            ]
          },
          "metadata": {},
          "execution_count": 27
        }
      ]
    },
    {
      "cell_type": "code",
      "source": [
        "crashes['weather'].value_counts()"
      ],
      "metadata": {
        "colab": {
          "base_uri": "https://localhost:8080/"
        },
        "id": "3ISDzBKewexi",
        "outputId": "4fbc3380-96e0-4195-9875-0dc2f5d7c33e"
      },
      "execution_count": null,
      "outputs": [
        {
          "output_type": "execute_result",
          "data": {
            "text/plain": [
              "clear      347721\n",
              "cloudy      55480\n",
              "raining     14139\n",
              "fog          1645\n",
              "snowing       656\n",
              "other         385\n",
              "wind          151\n",
              "Name: weather, dtype: int64"
            ]
          },
          "metadata": {},
          "execution_count": 28
        }
      ]
    },
    {
      "cell_type": "code",
      "source": [
        "crashes['weather'] = labelencoder.fit_transform(crashes['weather'])\n",
        "crashes['weather'].unique()"
      ],
      "metadata": {
        "colab": {
          "base_uri": "https://localhost:8080/"
        },
        "id": "oRB8LnQXwmIT",
        "outputId": "d9f18b1e-e99a-4347-abf2-f6db15b639f9"
      },
      "execution_count": null,
      "outputs": [
        {
          "output_type": "execute_result",
          "data": {
            "text/plain": [
              "array([0, 4, 1, 2, 7, 5, 6, 3])"
            ]
          },
          "metadata": {},
          "execution_count": 29
        }
      ]
    },
    {
      "cell_type": "markdown",
      "source": [
        "### lighting"
      ],
      "metadata": {
        "id": "H1uycUOTwxyI"
      }
    },
    {
      "cell_type": "code",
      "source": [
        "crashes['lighting'].unique()"
      ],
      "metadata": {
        "colab": {
          "base_uri": "https://localhost:8080/"
        },
        "id": "7aJTUCr1wtzQ",
        "outputId": "8ca17483-991b-4553-dc57-d93d41b120f2"
      },
      "execution_count": null,
      "outputs": [
        {
          "output_type": "execute_result",
          "data": {
            "text/plain": [
              "array(['daylight', 'dark with no street lights', 'dusk or dawn',\n",
              "       'dark with street lights', nan,\n",
              "       'dark with street lights not functioning'], dtype=object)"
            ]
          },
          "metadata": {},
          "execution_count": 30
        }
      ]
    },
    {
      "cell_type": "code",
      "source": [
        "crashes['lighting'].value_counts()"
      ],
      "metadata": {
        "colab": {
          "base_uri": "https://localhost:8080/"
        },
        "id": "tMd01i2lw6ee",
        "outputId": "80db604b-0298-4655-c4ba-bd2c5799e6a9"
      },
      "execution_count": null,
      "outputs": [
        {
          "output_type": "execute_result",
          "data": {
            "text/plain": [
              "daylight                                   286152\n",
              "dark with street lights                     87368\n",
              "dark with no street lights                  31429\n",
              "dusk or dawn                                13947\n",
              "dark with street lights not functioning       863\n",
              "Name: lighting, dtype: int64"
            ]
          },
          "metadata": {},
          "execution_count": 31
        }
      ]
    },
    {
      "cell_type": "code",
      "source": [
        "crashes['lighting'] = labelencoder.fit_transform(crashes['lighting'])\n",
        "crashes['lighting'].unique()"
      ],
      "metadata": {
        "colab": {
          "base_uri": "https://localhost:8080/"
        },
        "id": "BmfxFNAsw_rn",
        "outputId": "46cb6c2f-c582-4375-e546-f4d9ad089bef"
      },
      "execution_count": null,
      "outputs": [
        {
          "output_type": "execute_result",
          "data": {
            "text/plain": [
              "array([3, 0, 4, 1, 5, 2])"
            ]
          },
          "metadata": {},
          "execution_count": 32
        }
      ]
    },
    {
      "cell_type": "code",
      "source": [
        "crashes.isna().sum()"
      ],
      "metadata": {
        "colab": {
          "base_uri": "https://localhost:8080/"
        },
        "id": "HFWmYkW5I5LJ",
        "outputId": "6121a26a-7faf-4429-f67e-19aaed18ad98"
      },
      "execution_count": null,
      "outputs": [
        {
          "output_type": "execute_result",
          "data": {
            "text/plain": [
              "case_id            0\n",
              "jurisdiction     852\n",
              "officer_id      2111\n",
              "chp_shift          0\n",
              "population         0\n",
              "                ... \n",
              "quarter            0\n",
              "month              0\n",
              "day                0\n",
              "day_name           0\n",
              "hour               0\n",
              "Length: 61, dtype: int64"
            ]
          },
          "metadata": {},
          "execution_count": 33
        }
      ]
    },
    {
      "cell_type": "code",
      "source": [
        "crashes['county_location'].value_counts()"
      ],
      "metadata": {
        "colab": {
          "base_uri": "https://localhost:8080/"
        },
        "id": "wZWAy87qdaUM",
        "outputId": "65b95301-8a44-4a80-86fe-8983fa6d81cb"
      },
      "execution_count": null,
      "outputs": [
        {
          "output_type": "execute_result",
          "data": {
            "text/plain": [
              "los angeles        127765\n",
              "orange              35773\n",
              "san bernardino      24156\n",
              "san diego           23728\n",
              "riverside           20820\n",
              "alameda             20441\n",
              "sacramento          17951\n",
              "santa clara         14952\n",
              "contra costa         9860\n",
              "ventura              9673\n",
              "san joaquin          8937\n",
              "kern                 8437\n",
              "fresno               7985\n",
              "san mateo            6997\n",
              "stanislaus           6532\n",
              "san francisco        6248\n",
              "santa barbara        5751\n",
              "tulare               5718\n",
              "monterey             5619\n",
              "sonoma               5262\n",
              "solano               4712\n",
              "placer               3900\n",
              "san luis obispo      3660\n",
              "santa cruz           3567\n",
              "merced               3530\n",
              "marin                2800\n",
              "shasta               2506\n",
              "yolo                 2088\n",
              "humboldt             1986\n",
              "el dorado            1882\n",
              "butte                1774\n",
              "madera               1665\n",
              "napa                 1603\n",
              "kings                1427\n",
              "nevada               1263\n",
              "imperial             1148\n",
              "mendocino            1106\n",
              "sutter               1078\n",
              "tuolumne              832\n",
              "tehama                808\n",
              "yuba                  665\n",
              "lake                  624\n",
              "calaveras             574\n",
              "amador                547\n",
              "san benito            538\n",
              "siskiyou              521\n",
              "lassen                470\n",
              "del norte             362\n",
              "glenn                 349\n",
              "colusa                310\n",
              "inyo                  288\n",
              "plumas                282\n",
              "mono                  269\n",
              "mariposa              242\n",
              "trinity               209\n",
              "modoc                 114\n",
              "alpine                 98\n",
              "sierra                 60\n",
              "Name: county_location, dtype: int64"
            ]
          },
          "metadata": {},
          "execution_count": 34
        }
      ]
    },
    {
      "cell_type": "code",
      "source": [
        "#crashes=crashes[crashes['county_location']=='los angeles'].reset_index(drop=True)\n",
        "#crashes.info()"
      ],
      "metadata": {
        "id": "ooQC_lCigPmd"
      },
      "execution_count": null,
      "outputs": []
    },
    {
      "cell_type": "code",
      "source": [
        "crashes=crashes[['injured_victims','killed_victims','quarter','month','hour' ]].reset_index(drop=True)\n",
        "crashes.info()"
      ],
      "metadata": {
        "colab": {
          "base_uri": "https://localhost:8080/"
        },
        "id": "wa6vi9irmpuc",
        "outputId": "a5b9e954-e1b5-4b37-f5c3-7afcb122498f"
      },
      "execution_count": null,
      "outputs": [
        {
          "output_type": "stream",
          "name": "stdout",
          "text": [
            "<class 'pandas.core.frame.DataFrame'>\n",
            "RangeIndex: 422462 entries, 0 to 422461\n",
            "Data columns (total 5 columns):\n",
            " #   Column           Non-Null Count   Dtype\n",
            "---  ------           --------------   -----\n",
            " 0   injured_victims  422462 non-null  int64\n",
            " 1   killed_victims   422462 non-null  int64\n",
            " 2   quarter          422462 non-null  int64\n",
            " 3   month            422462 non-null  int64\n",
            " 4   hour             422462 non-null  int64\n",
            "dtypes: int64(5)\n",
            "memory usage: 16.1 MB\n"
          ]
        }
      ]
    },
    {
      "cell_type": "code",
      "source": [
        "crashes"
      ],
      "metadata": {
        "colab": {
          "base_uri": "https://localhost:8080/",
          "height": 424
        },
        "id": "ScJ5lQYCzG_g",
        "outputId": "1ebad7d9-c877-4808-9620-269f9858bc10"
      },
      "execution_count": null,
      "outputs": [
        {
          "output_type": "execute_result",
          "data": {
            "text/plain": [
              "        injured_victims  killed_victims  quarter  month  hour\n",
              "0                     0               0        1      2    17\n",
              "1                     0               0        1      2     1\n",
              "2                     0               0        1      2    10\n",
              "3                     0               0        1      2    15\n",
              "4                     0               0        1      2    17\n",
              "...                 ...             ...      ...    ...   ...\n",
              "422457                1               0        4     12     8\n",
              "422458                1               0        4     12    16\n",
              "422459                2               0        4     12     9\n",
              "422460                0               0        4     12    19\n",
              "422461                0               0        4     12    11\n",
              "\n",
              "[422462 rows x 5 columns]"
            ],
            "text/html": [
              "\n",
              "  <div id=\"df-4d17d81b-aa46-413f-8017-f61e7287ed01\">\n",
              "    <div class=\"colab-df-container\">\n",
              "      <div>\n",
              "<style scoped>\n",
              "    .dataframe tbody tr th:only-of-type {\n",
              "        vertical-align: middle;\n",
              "    }\n",
              "\n",
              "    .dataframe tbody tr th {\n",
              "        vertical-align: top;\n",
              "    }\n",
              "\n",
              "    .dataframe thead th {\n",
              "        text-align: right;\n",
              "    }\n",
              "</style>\n",
              "<table border=\"1\" class=\"dataframe\">\n",
              "  <thead>\n",
              "    <tr style=\"text-align: right;\">\n",
              "      <th></th>\n",
              "      <th>injured_victims</th>\n",
              "      <th>killed_victims</th>\n",
              "      <th>quarter</th>\n",
              "      <th>month</th>\n",
              "      <th>hour</th>\n",
              "    </tr>\n",
              "  </thead>\n",
              "  <tbody>\n",
              "    <tr>\n",
              "      <th>0</th>\n",
              "      <td>0</td>\n",
              "      <td>0</td>\n",
              "      <td>1</td>\n",
              "      <td>2</td>\n",
              "      <td>17</td>\n",
              "    </tr>\n",
              "    <tr>\n",
              "      <th>1</th>\n",
              "      <td>0</td>\n",
              "      <td>0</td>\n",
              "      <td>1</td>\n",
              "      <td>2</td>\n",
              "      <td>1</td>\n",
              "    </tr>\n",
              "    <tr>\n",
              "      <th>2</th>\n",
              "      <td>0</td>\n",
              "      <td>0</td>\n",
              "      <td>1</td>\n",
              "      <td>2</td>\n",
              "      <td>10</td>\n",
              "    </tr>\n",
              "    <tr>\n",
              "      <th>3</th>\n",
              "      <td>0</td>\n",
              "      <td>0</td>\n",
              "      <td>1</td>\n",
              "      <td>2</td>\n",
              "      <td>15</td>\n",
              "    </tr>\n",
              "    <tr>\n",
              "      <th>4</th>\n",
              "      <td>0</td>\n",
              "      <td>0</td>\n",
              "      <td>1</td>\n",
              "      <td>2</td>\n",
              "      <td>17</td>\n",
              "    </tr>\n",
              "    <tr>\n",
              "      <th>...</th>\n",
              "      <td>...</td>\n",
              "      <td>...</td>\n",
              "      <td>...</td>\n",
              "      <td>...</td>\n",
              "      <td>...</td>\n",
              "    </tr>\n",
              "    <tr>\n",
              "      <th>422457</th>\n",
              "      <td>1</td>\n",
              "      <td>0</td>\n",
              "      <td>4</td>\n",
              "      <td>12</td>\n",
              "      <td>8</td>\n",
              "    </tr>\n",
              "    <tr>\n",
              "      <th>422458</th>\n",
              "      <td>1</td>\n",
              "      <td>0</td>\n",
              "      <td>4</td>\n",
              "      <td>12</td>\n",
              "      <td>16</td>\n",
              "    </tr>\n",
              "    <tr>\n",
              "      <th>422459</th>\n",
              "      <td>2</td>\n",
              "      <td>0</td>\n",
              "      <td>4</td>\n",
              "      <td>12</td>\n",
              "      <td>9</td>\n",
              "    </tr>\n",
              "    <tr>\n",
              "      <th>422460</th>\n",
              "      <td>0</td>\n",
              "      <td>0</td>\n",
              "      <td>4</td>\n",
              "      <td>12</td>\n",
              "      <td>19</td>\n",
              "    </tr>\n",
              "    <tr>\n",
              "      <th>422461</th>\n",
              "      <td>0</td>\n",
              "      <td>0</td>\n",
              "      <td>4</td>\n",
              "      <td>12</td>\n",
              "      <td>11</td>\n",
              "    </tr>\n",
              "  </tbody>\n",
              "</table>\n",
              "<p>422462 rows × 5 columns</p>\n",
              "</div>\n",
              "      <button class=\"colab-df-convert\" onclick=\"convertToInteractive('df-4d17d81b-aa46-413f-8017-f61e7287ed01')\"\n",
              "              title=\"Convert this dataframe to an interactive table.\"\n",
              "              style=\"display:none;\">\n",
              "        \n",
              "  <svg xmlns=\"http://www.w3.org/2000/svg\" height=\"24px\"viewBox=\"0 0 24 24\"\n",
              "       width=\"24px\">\n",
              "    <path d=\"M0 0h24v24H0V0z\" fill=\"none\"/>\n",
              "    <path d=\"M18.56 5.44l.94 2.06.94-2.06 2.06-.94-2.06-.94-.94-2.06-.94 2.06-2.06.94zm-11 1L8.5 8.5l.94-2.06 2.06-.94-2.06-.94L8.5 2.5l-.94 2.06-2.06.94zm10 10l.94 2.06.94-2.06 2.06-.94-2.06-.94-.94-2.06-.94 2.06-2.06.94z\"/><path d=\"M17.41 7.96l-1.37-1.37c-.4-.4-.92-.59-1.43-.59-.52 0-1.04.2-1.43.59L10.3 9.45l-7.72 7.72c-.78.78-.78 2.05 0 2.83L4 21.41c.39.39.9.59 1.41.59.51 0 1.02-.2 1.41-.59l7.78-7.78 2.81-2.81c.8-.78.8-2.07 0-2.86zM5.41 20L4 18.59l7.72-7.72 1.47 1.35L5.41 20z\"/>\n",
              "  </svg>\n",
              "      </button>\n",
              "      \n",
              "  <style>\n",
              "    .colab-df-container {\n",
              "      display:flex;\n",
              "      flex-wrap:wrap;\n",
              "      gap: 12px;\n",
              "    }\n",
              "\n",
              "    .colab-df-convert {\n",
              "      background-color: #E8F0FE;\n",
              "      border: none;\n",
              "      border-radius: 50%;\n",
              "      cursor: pointer;\n",
              "      display: none;\n",
              "      fill: #1967D2;\n",
              "      height: 32px;\n",
              "      padding: 0 0 0 0;\n",
              "      width: 32px;\n",
              "    }\n",
              "\n",
              "    .colab-df-convert:hover {\n",
              "      background-color: #E2EBFA;\n",
              "      box-shadow: 0px 1px 2px rgba(60, 64, 67, 0.3), 0px 1px 3px 1px rgba(60, 64, 67, 0.15);\n",
              "      fill: #174EA6;\n",
              "    }\n",
              "\n",
              "    [theme=dark] .colab-df-convert {\n",
              "      background-color: #3B4455;\n",
              "      fill: #D2E3FC;\n",
              "    }\n",
              "\n",
              "    [theme=dark] .colab-df-convert:hover {\n",
              "      background-color: #434B5C;\n",
              "      box-shadow: 0px 1px 3px 1px rgba(0, 0, 0, 0.15);\n",
              "      filter: drop-shadow(0px 1px 2px rgba(0, 0, 0, 0.3));\n",
              "      fill: #FFFFFF;\n",
              "    }\n",
              "  </style>\n",
              "\n",
              "      <script>\n",
              "        const buttonEl =\n",
              "          document.querySelector('#df-4d17d81b-aa46-413f-8017-f61e7287ed01 button.colab-df-convert');\n",
              "        buttonEl.style.display =\n",
              "          google.colab.kernel.accessAllowed ? 'block' : 'none';\n",
              "\n",
              "        async function convertToInteractive(key) {\n",
              "          const element = document.querySelector('#df-4d17d81b-aa46-413f-8017-f61e7287ed01');\n",
              "          const dataTable =\n",
              "            await google.colab.kernel.invokeFunction('convertToInteractive',\n",
              "                                                     [key], {});\n",
              "          if (!dataTable) return;\n",
              "\n",
              "          const docLinkHtml = 'Like what you see? Visit the ' +\n",
              "            '<a target=\"_blank\" href=https://colab.research.google.com/notebooks/data_table.ipynb>data table notebook</a>'\n",
              "            + ' to learn more about interactive tables.';\n",
              "          element.innerHTML = '';\n",
              "          dataTable['output_type'] = 'display_data';\n",
              "          await google.colab.output.renderOutput(dataTable, element);\n",
              "          const docLink = document.createElement('div');\n",
              "          docLink.innerHTML = docLinkHtml;\n",
              "          element.appendChild(docLink);\n",
              "        }\n",
              "      </script>\n",
              "    </div>\n",
              "  </div>\n",
              "  "
            ]
          },
          "metadata": {},
          "execution_count": 37
        }
      ]
    },
    {
      "cell_type": "code",
      "source": [
        "crashes[\"severe_injuries\"] = (crashes[\"killed_victims\"] + crashes[\"injured_victims\"]).apply(lambda num: 1 if num > 0 else 0)"
      ],
      "metadata": {
        "id": "FyUfM6Y0qWyn"
      },
      "execution_count": null,
      "outputs": []
    },
    {
      "cell_type": "code",
      "source": [
        "from sklearn.model_selection import train_test_split\n",
        "crashes_train,crashes_test=train_test_split(crashes,train_size=.7,random_state=42)"
      ],
      "metadata": {
        "id": "xfy8CTmoj6xz"
      },
      "execution_count": null,
      "outputs": []
    },
    {
      "cell_type": "code",
      "source": [
        "crashes_train=crashes_train.reset_index(drop=True)\n",
        "crashes_test=crashes_test.reset_index(drop=True)\n",
        "crashes_test"
      ],
      "metadata": {
        "colab": {
          "base_uri": "https://localhost:8080/",
          "height": 424
        },
        "id": "9ojegw9b310H",
        "outputId": "a08f0768-bc61-4478-c669-e9892fe41ffb"
      },
      "execution_count": null,
      "outputs": [
        {
          "output_type": "execute_result",
          "data": {
            "text/plain": [
              "        injured_victims  killed_victims  quarter  month  hour  severe_injuries\n",
              "0                     0               0        2      4    21                0\n",
              "1                     0               0        4     11    10                0\n",
              "2                     0               0        3      7    10                0\n",
              "3                     1               0        1      3    15                1\n",
              "4                     0               0        2      5    18                0\n",
              "...                 ...             ...      ...    ...   ...              ...\n",
              "126734                0               0        4     12    10                0\n",
              "126735                0               0        1      1    18                0\n",
              "126736                1               0        1      2     8                1\n",
              "126737                0               0        3      7     8                0\n",
              "126738                0               0        4     11    21                0\n",
              "\n",
              "[126739 rows x 6 columns]"
            ],
            "text/html": [
              "\n",
              "  <div id=\"df-e2829aca-f76d-46ab-a7a8-f75d36bfa69b\">\n",
              "    <div class=\"colab-df-container\">\n",
              "      <div>\n",
              "<style scoped>\n",
              "    .dataframe tbody tr th:only-of-type {\n",
              "        vertical-align: middle;\n",
              "    }\n",
              "\n",
              "    .dataframe tbody tr th {\n",
              "        vertical-align: top;\n",
              "    }\n",
              "\n",
              "    .dataframe thead th {\n",
              "        text-align: right;\n",
              "    }\n",
              "</style>\n",
              "<table border=\"1\" class=\"dataframe\">\n",
              "  <thead>\n",
              "    <tr style=\"text-align: right;\">\n",
              "      <th></th>\n",
              "      <th>injured_victims</th>\n",
              "      <th>killed_victims</th>\n",
              "      <th>quarter</th>\n",
              "      <th>month</th>\n",
              "      <th>hour</th>\n",
              "      <th>severe_injuries</th>\n",
              "    </tr>\n",
              "  </thead>\n",
              "  <tbody>\n",
              "    <tr>\n",
              "      <th>0</th>\n",
              "      <td>0</td>\n",
              "      <td>0</td>\n",
              "      <td>2</td>\n",
              "      <td>4</td>\n",
              "      <td>21</td>\n",
              "      <td>0</td>\n",
              "    </tr>\n",
              "    <tr>\n",
              "      <th>1</th>\n",
              "      <td>0</td>\n",
              "      <td>0</td>\n",
              "      <td>4</td>\n",
              "      <td>11</td>\n",
              "      <td>10</td>\n",
              "      <td>0</td>\n",
              "    </tr>\n",
              "    <tr>\n",
              "      <th>2</th>\n",
              "      <td>0</td>\n",
              "      <td>0</td>\n",
              "      <td>3</td>\n",
              "      <td>7</td>\n",
              "      <td>10</td>\n",
              "      <td>0</td>\n",
              "    </tr>\n",
              "    <tr>\n",
              "      <th>3</th>\n",
              "      <td>1</td>\n",
              "      <td>0</td>\n",
              "      <td>1</td>\n",
              "      <td>3</td>\n",
              "      <td>15</td>\n",
              "      <td>1</td>\n",
              "    </tr>\n",
              "    <tr>\n",
              "      <th>4</th>\n",
              "      <td>0</td>\n",
              "      <td>0</td>\n",
              "      <td>2</td>\n",
              "      <td>5</td>\n",
              "      <td>18</td>\n",
              "      <td>0</td>\n",
              "    </tr>\n",
              "    <tr>\n",
              "      <th>...</th>\n",
              "      <td>...</td>\n",
              "      <td>...</td>\n",
              "      <td>...</td>\n",
              "      <td>...</td>\n",
              "      <td>...</td>\n",
              "      <td>...</td>\n",
              "    </tr>\n",
              "    <tr>\n",
              "      <th>126734</th>\n",
              "      <td>0</td>\n",
              "      <td>0</td>\n",
              "      <td>4</td>\n",
              "      <td>12</td>\n",
              "      <td>10</td>\n",
              "      <td>0</td>\n",
              "    </tr>\n",
              "    <tr>\n",
              "      <th>126735</th>\n",
              "      <td>0</td>\n",
              "      <td>0</td>\n",
              "      <td>1</td>\n",
              "      <td>1</td>\n",
              "      <td>18</td>\n",
              "      <td>0</td>\n",
              "    </tr>\n",
              "    <tr>\n",
              "      <th>126736</th>\n",
              "      <td>1</td>\n",
              "      <td>0</td>\n",
              "      <td>1</td>\n",
              "      <td>2</td>\n",
              "      <td>8</td>\n",
              "      <td>1</td>\n",
              "    </tr>\n",
              "    <tr>\n",
              "      <th>126737</th>\n",
              "      <td>0</td>\n",
              "      <td>0</td>\n",
              "      <td>3</td>\n",
              "      <td>7</td>\n",
              "      <td>8</td>\n",
              "      <td>0</td>\n",
              "    </tr>\n",
              "    <tr>\n",
              "      <th>126738</th>\n",
              "      <td>0</td>\n",
              "      <td>0</td>\n",
              "      <td>4</td>\n",
              "      <td>11</td>\n",
              "      <td>21</td>\n",
              "      <td>0</td>\n",
              "    </tr>\n",
              "  </tbody>\n",
              "</table>\n",
              "<p>126739 rows × 6 columns</p>\n",
              "</div>\n",
              "      <button class=\"colab-df-convert\" onclick=\"convertToInteractive('df-e2829aca-f76d-46ab-a7a8-f75d36bfa69b')\"\n",
              "              title=\"Convert this dataframe to an interactive table.\"\n",
              "              style=\"display:none;\">\n",
              "        \n",
              "  <svg xmlns=\"http://www.w3.org/2000/svg\" height=\"24px\"viewBox=\"0 0 24 24\"\n",
              "       width=\"24px\">\n",
              "    <path d=\"M0 0h24v24H0V0z\" fill=\"none\"/>\n",
              "    <path d=\"M18.56 5.44l.94 2.06.94-2.06 2.06-.94-2.06-.94-.94-2.06-.94 2.06-2.06.94zm-11 1L8.5 8.5l.94-2.06 2.06-.94-2.06-.94L8.5 2.5l-.94 2.06-2.06.94zm10 10l.94 2.06.94-2.06 2.06-.94-2.06-.94-.94-2.06-.94 2.06-2.06.94z\"/><path d=\"M17.41 7.96l-1.37-1.37c-.4-.4-.92-.59-1.43-.59-.52 0-1.04.2-1.43.59L10.3 9.45l-7.72 7.72c-.78.78-.78 2.05 0 2.83L4 21.41c.39.39.9.59 1.41.59.51 0 1.02-.2 1.41-.59l7.78-7.78 2.81-2.81c.8-.78.8-2.07 0-2.86zM5.41 20L4 18.59l7.72-7.72 1.47 1.35L5.41 20z\"/>\n",
              "  </svg>\n",
              "      </button>\n",
              "      \n",
              "  <style>\n",
              "    .colab-df-container {\n",
              "      display:flex;\n",
              "      flex-wrap:wrap;\n",
              "      gap: 12px;\n",
              "    }\n",
              "\n",
              "    .colab-df-convert {\n",
              "      background-color: #E8F0FE;\n",
              "      border: none;\n",
              "      border-radius: 50%;\n",
              "      cursor: pointer;\n",
              "      display: none;\n",
              "      fill: #1967D2;\n",
              "      height: 32px;\n",
              "      padding: 0 0 0 0;\n",
              "      width: 32px;\n",
              "    }\n",
              "\n",
              "    .colab-df-convert:hover {\n",
              "      background-color: #E2EBFA;\n",
              "      box-shadow: 0px 1px 2px rgba(60, 64, 67, 0.3), 0px 1px 3px 1px rgba(60, 64, 67, 0.15);\n",
              "      fill: #174EA6;\n",
              "    }\n",
              "\n",
              "    [theme=dark] .colab-df-convert {\n",
              "      background-color: #3B4455;\n",
              "      fill: #D2E3FC;\n",
              "    }\n",
              "\n",
              "    [theme=dark] .colab-df-convert:hover {\n",
              "      background-color: #434B5C;\n",
              "      box-shadow: 0px 1px 3px 1px rgba(0, 0, 0, 0.15);\n",
              "      filter: drop-shadow(0px 1px 2px rgba(0, 0, 0, 0.3));\n",
              "      fill: #FFFFFF;\n",
              "    }\n",
              "  </style>\n",
              "\n",
              "      <script>\n",
              "        const buttonEl =\n",
              "          document.querySelector('#df-e2829aca-f76d-46ab-a7a8-f75d36bfa69b button.colab-df-convert');\n",
              "        buttonEl.style.display =\n",
              "          google.colab.kernel.accessAllowed ? 'block' : 'none';\n",
              "\n",
              "        async function convertToInteractive(key) {\n",
              "          const element = document.querySelector('#df-e2829aca-f76d-46ab-a7a8-f75d36bfa69b');\n",
              "          const dataTable =\n",
              "            await google.colab.kernel.invokeFunction('convertToInteractive',\n",
              "                                                     [key], {});\n",
              "          if (!dataTable) return;\n",
              "\n",
              "          const docLinkHtml = 'Like what you see? Visit the ' +\n",
              "            '<a target=\"_blank\" href=https://colab.research.google.com/notebooks/data_table.ipynb>data table notebook</a>'\n",
              "            + ' to learn more about interactive tables.';\n",
              "          element.innerHTML = '';\n",
              "          dataTable['output_type'] = 'display_data';\n",
              "          await google.colab.output.renderOutput(dataTable, element);\n",
              "          const docLink = document.createElement('div');\n",
              "          docLink.innerHTML = docLinkHtml;\n",
              "          element.appendChild(docLink);\n",
              "        }\n",
              "      </script>\n",
              "    </div>\n",
              "  </div>\n",
              "  "
            ]
          },
          "metadata": {},
          "execution_count": 40
        }
      ]
    },
    {
      "cell_type": "code",
      "source": [
        "import statsmodels.formula.api as smf\n",
        "\n",
        "ols = smf.ols(formula='severe_injuries ~ injured_victims + killed_victims + quarter + month +hour',\n",
        "                 data=crashes_train)\n",
        "model =ols.fit()\n",
        "print(model.summary())"
      ],
      "metadata": {
        "colab": {
          "base_uri": "https://localhost:8080/"
        },
        "id": "hB33W2Bw8JtR",
        "outputId": "822dd91c-f573-431d-f203-c208f61e5c38"
      },
      "execution_count": null,
      "outputs": [
        {
          "output_type": "stream",
          "name": "stdout",
          "text": [
            "                            OLS Regression Results                            \n",
            "==============================================================================\n",
            "Dep. Variable:        severe_injuries   R-squared:                       0.628\n",
            "Model:                            OLS   Adj. R-squared:                  0.628\n",
            "Method:                 Least Squares   F-statistic:                 1.000e+05\n",
            "Date:                Sat, 10 Dec 2022   Prob (F-statistic):               0.00\n",
            "Time:                        18:51:51   Log-Likelihood:                -61375.\n",
            "No. Observations:              295723   AIC:                         1.228e+05\n",
            "Df Residuals:                  295717   BIC:                         1.228e+05\n",
            "Df Model:                           5                                         \n",
            "Covariance Type:            nonrobust                                         \n",
            "===================================================================================\n",
            "                      coef    std err          t      P>|t|      [0.025      0.975]\n",
            "-----------------------------------------------------------------------------------\n",
            "Intercept           0.1353      0.002     68.001      0.000       0.131       0.139\n",
            "injured_victims     0.4442      0.001    701.570      0.000       0.443       0.445\n",
            "killed_victims      0.3272      0.006     57.154      0.000       0.316       0.338\n",
            "quarter             0.0060      0.002      2.892      0.004       0.002       0.010\n",
            "month              -0.0011      0.001     -1.572      0.116      -0.002       0.000\n",
            "hour                0.0002   9.81e-05      2.207      0.027    2.42e-05       0.000\n",
            "==============================================================================\n",
            "Omnibus:                   179786.569   Durbin-Watson:                   2.004\n",
            "Prob(Omnibus):                  0.000   Jarque-Bera (JB):         35787969.161\n",
            "Skew:                          -1.861   Prob(JB):                         0.00\n",
            "Kurtosis:                      56.764   Cond. No.                         165.\n",
            "==============================================================================\n",
            "\n",
            "Notes:\n",
            "[1] Standard Errors assume that the covariance matrix of the errors is correctly specified.\n"
          ]
        }
      ]
    },
    {
      "cell_type": "code",
      "source": [
        "# calculate Variance Inflation Factor for each explanatory variable\n",
        "from statsmodels.stats.outliers_influence import variance_inflation_factor\n",
        "# Import the library that contains all the functions/modules related to the regression model\n",
        "import statsmodels.api as sm\n",
        "# The dataframe passed to VIF must include the intercept term. We add it the same way we did before.\n",
        "def VIF(df, columns):\n",
        "    values = sm.add_constant(df[columns]).values\n",
        "    num_columns = len(columns)+1\n",
        "    vif = [variance_inflation_factor(values, i) for i in range(num_columns)]\n",
        "    return pd.Series(vif[1:], index=columns)\n",
        "\n",
        "cols = ['injured_victims','killed_victims','quarter','month','hour']\n",
        "VIF(crashes_train, cols)"
      ],
      "metadata": {
        "colab": {
          "base_uri": "https://localhost:8080/"
        },
        "id": "p67-ml888xFN",
        "outputId": "2347cfd8-687c-4e79-a350-1c4c45319dc8"
      },
      "execution_count": null,
      "outputs": [
        {
          "output_type": "stream",
          "name": "stderr",
          "text": [
            "/usr/local/lib/python3.8/dist-packages/statsmodels/tsa/tsatools.py:142: FutureWarning: In a future version of pandas all arguments of concat except for the argument 'objs' will be keyword-only\n",
            "  x = pd.concat(x[::order], 1)\n"
          ]
        },
        {
          "output_type": "execute_result",
          "data": {
            "text/plain": [
              "injured_victims     1.002749\n",
              "killed_victims      1.001597\n",
              "quarter            17.784170\n",
              "month              17.783940\n",
              "hour                1.001356\n",
              "dtype: float64"
            ]
          },
          "metadata": {},
          "execution_count": 42
        }
      ]
    },
    {
      "cell_type": "code",
      "source": [
        "# remove MilesTraveled because of its high VIF\n",
        "model1_remove_quarter = smf.ols(formula='severe_injuries ~ injured_victims + killed_victims + month +hour',\n",
        "                 data=crashes_train).fit()\n",
        "print(model1_remove_quarter.summary())\n",
        "VIF(crashes_train, ['injured_victims','killed_victims','month','hour'])"
      ],
      "metadata": {
        "colab": {
          "base_uri": "https://localhost:8080/"
        },
        "id": "ZiLTc5B5Veq-",
        "outputId": "8c0fa088-96c9-436e-9afd-e8c49b1a8bfd"
      },
      "execution_count": null,
      "outputs": [
        {
          "output_type": "stream",
          "name": "stdout",
          "text": [
            "                            OLS Regression Results                            \n",
            "==============================================================================\n",
            "Dep. Variable:        severe_injuries   R-squared:                       0.628\n",
            "Model:                            OLS   Adj. R-squared:                  0.628\n",
            "Method:                 Least Squares   F-statistic:                 1.250e+05\n",
            "Date:                Sat, 10 Dec 2022   Prob (F-statistic):               0.00\n",
            "Time:                        18:51:52   Log-Likelihood:                -61379.\n",
            "No. Observations:              295723   AIC:                         1.228e+05\n",
            "Df Residuals:                  295718   BIC:                         1.228e+05\n",
            "Df Model:                           4                                         \n",
            "Covariance Type:            nonrobust                                         \n",
            "===================================================================================\n",
            "                      coef    std err          t      P>|t|      [0.025      0.975]\n",
            "-----------------------------------------------------------------------------------\n",
            "Intercept           0.1380      0.002     78.282      0.000       0.135       0.141\n",
            "injured_victims     0.4442      0.001    701.570      0.000       0.443       0.445\n",
            "killed_victims      0.3272      0.006     57.159      0.000       0.316       0.338\n",
            "month               0.0008      0.000      5.216      0.000       0.001       0.001\n",
            "hour                0.0002   9.81e-05      2.217      0.027    2.52e-05       0.000\n",
            "==============================================================================\n",
            "Omnibus:                   179763.802   Durbin-Watson:                   2.004\n",
            "Prob(Omnibus):                  0.000   Jarque-Bera (JB):         35769240.386\n",
            "Skew:                          -1.861   Prob(JB):                         0.00\n",
            "Kurtosis:                      56.750   Cond. No.                         163.\n",
            "==============================================================================\n",
            "\n",
            "Notes:\n",
            "[1] Standard Errors assume that the covariance matrix of the errors is correctly specified.\n"
          ]
        },
        {
          "output_type": "stream",
          "name": "stderr",
          "text": [
            "/usr/local/lib/python3.8/dist-packages/statsmodels/tsa/tsatools.py:142: FutureWarning: In a future version of pandas all arguments of concat except for the argument 'objs' will be keyword-only\n",
            "  x = pd.concat(x[::order], 1)\n"
          ]
        },
        {
          "output_type": "execute_result",
          "data": {
            "text/plain": [
              "injured_victims    1.002743\n",
              "killed_victims     1.001594\n",
              "month              1.000055\n",
              "hour               1.001344\n",
              "dtype: float64"
            ]
          },
          "metadata": {},
          "execution_count": 43
        }
      ]
    },
    {
      "cell_type": "code",
      "source": [
        "# remove MilesTraveled because of its high VIF\n",
        "model1_remove_month = smf.ols(formula='severe_injuries ~ injured_victims + killed_victims + quarter + hour',\n",
        "                 data=crashes_train).fit()\n",
        "print(model1_remove_month.summary())\n",
        "VIF(crashes_train, ['injured_victims','killed_victims','quarter','hour'])"
      ],
      "metadata": {
        "colab": {
          "base_uri": "https://localhost:8080/"
        },
        "id": "B_WRsBHaWY70",
        "outputId": "7368775d-9e5a-4395-8e08-3dba99926dc0"
      },
      "execution_count": null,
      "outputs": [
        {
          "output_type": "stream",
          "name": "stdout",
          "text": [
            "                            OLS Regression Results                            \n",
            "==============================================================================\n",
            "Dep. Variable:        severe_injuries   R-squared:                       0.628\n",
            "Model:                            OLS   Adj. R-squared:                  0.628\n",
            "Method:                 Least Squares   F-statistic:                 1.250e+05\n",
            "Date:                Sat, 10 Dec 2022   Prob (F-statistic):               0.00\n",
            "Time:                        18:51:53   Log-Likelihood:                -61377.\n",
            "No. Observations:              295723   AIC:                         1.228e+05\n",
            "Df Residuals:                  295718   BIC:                         1.228e+05\n",
            "Df Model:                           4                                         \n",
            "Covariance Type:            nonrobust                                         \n",
            "===================================================================================\n",
            "                      coef    std err          t      P>|t|      [0.025      0.975]\n",
            "-----------------------------------------------------------------------------------\n",
            "Intercept           0.1363      0.002     72.543      0.000       0.133       0.140\n",
            "injured_victims     0.4442      0.001    701.570      0.000       0.443       0.445\n",
            "killed_victims      0.3272      0.006     57.156      0.000       0.316       0.338\n",
            "quarter             0.0028      0.000      5.753      0.000       0.002       0.004\n",
            "hour                0.0002   9.81e-05      2.210      0.027    2.46e-05       0.000\n",
            "==============================================================================\n",
            "Omnibus:                   179772.806   Durbin-Watson:                   2.004\n",
            "Prob(Omnibus):                  0.000   Jarque-Bera (JB):         35776103.514\n",
            "Skew:                          -1.861   Prob(JB):                         0.00\n",
            "Kurtosis:                      56.755   Cond. No.                         152.\n",
            "==============================================================================\n",
            "\n",
            "Notes:\n",
            "[1] Standard Errors assume that the covariance matrix of the errors is correctly specified.\n"
          ]
        },
        {
          "output_type": "stream",
          "name": "stderr",
          "text": [
            "/usr/local/lib/python3.8/dist-packages/statsmodels/tsa/tsatools.py:142: FutureWarning: In a future version of pandas all arguments of concat except for the argument 'objs' will be keyword-only\n",
            "  x = pd.concat(x[::order], 1)\n"
          ]
        },
        {
          "output_type": "execute_result",
          "data": {
            "text/plain": [
              "injured_victims    1.002748\n",
              "killed_victims     1.001595\n",
              "quarter            1.000068\n",
              "hour               1.001350\n",
              "dtype: float64"
            ]
          },
          "metadata": {},
          "execution_count": 44
        }
      ]
    },
    {
      "cell_type": "code",
      "source": [
        "import statsmodels.formula.api as smf\n",
        "ols=smf.ols(formula=\"severe_injuries ~ injured_victims + killed_victims + month + C(hour) \\\n",
        "\",data=crashes_train)\n",
        "model1=ols.fit()\n",
        "print(model1.summary())"
      ],
      "metadata": {
        "colab": {
          "base_uri": "https://localhost:8080/"
        },
        "id": "KH3R0aC00oxt",
        "outputId": "72d1fab8-8ce9-4b4b-f5c6-4e859e2b3197"
      },
      "execution_count": null,
      "outputs": [
        {
          "output_type": "stream",
          "name": "stdout",
          "text": [
            "                            OLS Regression Results                            \n",
            "==============================================================================\n",
            "Dep. Variable:        severe_injuries   R-squared:                       0.629\n",
            "Model:                            OLS   Adj. R-squared:                  0.629\n",
            "Method:                 Least Squares   F-statistic:                 1.927e+04\n",
            "Date:                Sat, 10 Dec 2022   Prob (F-statistic):               0.00\n",
            "Time:                        18:51:58   Log-Likelihood:                -61212.\n",
            "No. Observations:              295723   AIC:                         1.225e+05\n",
            "Df Residuals:                  295696   BIC:                         1.228e+05\n",
            "Df Model:                          26                                         \n",
            "Covariance Type:            nonrobust                                         \n",
            "===================================================================================\n",
            "                      coef    std err          t      P>|t|      [0.025      0.975]\n",
            "-----------------------------------------------------------------------------------\n",
            "Intercept           0.1178      0.004     28.764      0.000       0.110       0.126\n",
            "C(hour)[T.1]       -0.0016      0.006     -0.290      0.772      -0.013       0.009\n",
            "C(hour)[T.2]       -0.0089      0.006     -1.619      0.105      -0.020       0.002\n",
            "C(hour)[T.3]        0.0058      0.006      0.937      0.349      -0.006       0.018\n",
            "C(hour)[T.4]        0.0054      0.007      0.828      0.408      -0.007       0.018\n",
            "C(hour)[T.5]        0.0208      0.006      3.403      0.001       0.009       0.033\n",
            "C(hour)[T.6]        0.0373      0.005      6.946      0.000       0.027       0.048\n",
            "C(hour)[T.7]        0.0337      0.005      7.242      0.000       0.025       0.043\n",
            "C(hour)[T.8]        0.0265      0.005      5.739      0.000       0.017       0.036\n",
            "C(hour)[T.9]        0.0284      0.005      5.935      0.000       0.019       0.038\n",
            "C(hour)[T.10]       0.0269      0.005      5.652      0.000       0.018       0.036\n",
            "C(hour)[T.11]       0.0315      0.005      6.769      0.000       0.022       0.041\n",
            "C(hour)[T.12]       0.0262      0.005      5.748      0.000       0.017       0.035\n",
            "C(hour)[T.13]       0.0217      0.005      4.780      0.000       0.013       0.031\n",
            "C(hour)[T.14]       0.0275      0.004      6.132      0.000       0.019       0.036\n",
            "C(hour)[T.15]       0.0257      0.004      5.814      0.000       0.017       0.034\n",
            "C(hour)[T.16]       0.0291      0.004      6.550      0.000       0.020       0.038\n",
            "C(hour)[T.17]       0.0280      0.004      6.370      0.000       0.019       0.037\n",
            "C(hour)[T.18]       0.0290      0.005      6.427      0.000       0.020       0.038\n",
            "C(hour)[T.19]       0.0248      0.005      5.233      0.000       0.015       0.034\n",
            "C(hour)[T.20]       0.0221      0.005      4.503      0.000       0.012       0.032\n",
            "C(hour)[T.21]       0.0138      0.005      2.791      0.005       0.004       0.024\n",
            "C(hour)[T.22]       0.0061      0.005      1.192      0.233      -0.004       0.016\n",
            "C(hour)[T.23]      -0.0019      0.005     -0.351      0.725      -0.012       0.009\n",
            "injured_victims     0.4438      0.001    700.931      0.000       0.443       0.445\n",
            "killed_victims      0.3308      0.006     57.753      0.000       0.320       0.342\n",
            "month               0.0008      0.000      5.086      0.000       0.000       0.001\n",
            "==============================================================================\n",
            "Omnibus:                   179695.376   Durbin-Watson:                   2.004\n",
            "Prob(Omnibus):                  0.000   Jarque-Bera (JB):         35812946.430\n",
            "Skew:                          -1.859   Prob(JB):                         0.00\n",
            "Kurtosis:                      56.783   Cond. No.                         267.\n",
            "==============================================================================\n",
            "\n",
            "Notes:\n",
            "[1] Standard Errors assume that the covariance matrix of the errors is correctly specified.\n"
          ]
        }
      ]
    },
    {
      "cell_type": "code",
      "source": [
        "y_pred = model1.predict(crashes_test)\n",
        "print(y_pred)"
      ],
      "metadata": {
        "colab": {
          "base_uri": "https://localhost:8080/"
        },
        "id": "fVX2OP9m4m4F",
        "outputId": "07b05a30-67cc-4c03-a88e-3994736cb4b7"
      },
      "execution_count": null,
      "outputs": [
        {
          "output_type": "stream",
          "name": "stdout",
          "text": [
            "0         0.134849\n",
            "1         0.153527\n",
            "2         0.150301\n",
            "3         0.589783\n",
            "4         0.150880\n",
            "            ...   \n",
            "126734    0.154334\n",
            "126735    0.147654\n",
            "126736    0.589767\n",
            "126737    0.149957\n",
            "126738    0.140495\n",
            "Length: 126739, dtype: float64\n"
          ]
        }
      ]
    },
    {
      "cell_type": "code",
      "source": [],
      "metadata": {
        "id": "87xRgZoSBWHL"
      },
      "execution_count": null,
      "outputs": []
    },
    {
      "cell_type": "code",
      "source": [],
      "metadata": {
        "id": "lI6lPgl3CeJQ"
      },
      "execution_count": null,
      "outputs": []
    }
  ]
}