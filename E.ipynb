{
 "cells": [
  {
   "cell_type": "markdown",
   "metadata": {
    "tags": []
   },
   "source": [
    "# Crash Data 2009\n"
   ]
  },
  {
   "cell_type": "markdown",
   "metadata": {},
   "source": [
    "\"How accurate can a machine learning model predict the total number of crashes for a certain California county based on a given year?\""
   ]
  },
  {
   "cell_type": "code",
   "execution_count": null,
   "metadata": {},
   "outputs": [],
   "source": [
    "!pip install  geopandas"
   ]
  },
  {
   "cell_type": "code",
   "execution_count": 2,
   "metadata": {},
   "outputs": [],
   "source": [
    "import geopandas as gpd\n",
    "import pandas as pd\n",
    "import numpy as np\n",
    "#import openpyxl\n",
    "import csv\n",
    "import sqlite3\n",
    "import seaborn as sns\n",
    "from sklearn.linear_model import LinearRegression\n",
    "import matplotlib.pyplot as plt\n",
    "#import seaborn as sns\n",
    "from sklearn.preprocessing import LabelEncoder\n",
    "\n",
    "from numpy import mean\n",
    "from numpy import std\n",
    "from sklearn.datasets import make_classification\n",
    "from sklearn.model_selection import KFold\n",
    "from sklearn.model_selection import cross_val_score\n",
    "from sklearn.linear_model import LogisticRegression\n",
    "from sklearn.svm import SVC"
   ]
  },
  {
   "cell_type": "markdown",
   "metadata": {
    "tags": []
   },
   "source": [
    "## Load 2009 crash data & 2010 test data (per county report)"
   ]
  },
  {
   "cell_type": "code",
   "execution_count": 3,
   "metadata": {},
   "outputs": [
    {
     "name": "stderr",
     "output_type": "stream",
     "text": [
      "C:\\Users\\oband\\anaconda3\\lib\\site-packages\\IPython\\core\\interactiveshell.py:3063: DtypeWarning: Columns (25,26,37,47,68) have mixed types.Specify dtype option on import or set low_memory=False.\n",
      "  interactivity=interactivity, compiler=compiler, result=result)\n"
     ]
    }
   ],
   "source": [
    "df = pd.read_csv('crash_data_2009.csv')"
   ]
  },
  {
   "cell_type": "code",
   "execution_count": 4,
   "metadata": {},
   "outputs": [
    {
     "data": {
      "text/html": [
       "<div>\n",
       "<style scoped>\n",
       "    .dataframe tbody tr th:only-of-type {\n",
       "        vertical-align: middle;\n",
       "    }\n",
       "\n",
       "    .dataframe tbody tr th {\n",
       "        vertical-align: top;\n",
       "    }\n",
       "\n",
       "    .dataframe thead th {\n",
       "        text-align: right;\n",
       "    }\n",
       "</style>\n",
       "<table border=\"1\" class=\"dataframe\">\n",
       "  <thead>\n",
       "    <tr style=\"text-align: right;\">\n",
       "      <th></th>\n",
       "      <th>case_id</th>\n",
       "      <th>jurisdiction</th>\n",
       "      <th>officer_id</th>\n",
       "      <th>reporting_district</th>\n",
       "      <th>chp_shift</th>\n",
       "      <th>population</th>\n",
       "      <th>county_city_location</th>\n",
       "      <th>county_location</th>\n",
       "      <th>special_condition</th>\n",
       "      <th>beat_type</th>\n",
       "      <th>...</th>\n",
       "      <th>bicyclist_injured_count</th>\n",
       "      <th>motorcyclist_killed_count</th>\n",
       "      <th>motorcyclist_injured_count</th>\n",
       "      <th>primary_ramp</th>\n",
       "      <th>secondary_ramp</th>\n",
       "      <th>latitude</th>\n",
       "      <th>longitude</th>\n",
       "      <th>collision_date</th>\n",
       "      <th>collision_time</th>\n",
       "      <th>process_date</th>\n",
       "    </tr>\n",
       "  </thead>\n",
       "  <tbody>\n",
       "    <tr>\n",
       "      <th>0</th>\n",
       "      <td>3858022</td>\n",
       "      <td>1005.0</td>\n",
       "      <td>P379</td>\n",
       "      <td>2C</td>\n",
       "      <td>not chp</td>\n",
       "      <td>&gt;250000</td>\n",
       "      <td>1005</td>\n",
       "      <td>fresno</td>\n",
       "      <td>0</td>\n",
       "      <td>not chp</td>\n",
       "      <td>...</td>\n",
       "      <td>0</td>\n",
       "      <td>0</td>\n",
       "      <td>0</td>\n",
       "      <td>NaN</td>\n",
       "      <td>NaN</td>\n",
       "      <td>NaN</td>\n",
       "      <td>NaN</td>\n",
       "      <td>2009-02-03</td>\n",
       "      <td>17:11:00</td>\n",
       "      <td>2009-04-27</td>\n",
       "    </tr>\n",
       "    <tr>\n",
       "      <th>1</th>\n",
       "      <td>3899441</td>\n",
       "      <td>9120.0</td>\n",
       "      <td>17248</td>\n",
       "      <td>NaN</td>\n",
       "      <td>2200 thru 0559</td>\n",
       "      <td>2500 to 10000</td>\n",
       "      <td>801</td>\n",
       "      <td>del norte</td>\n",
       "      <td>0</td>\n",
       "      <td>chp state highway</td>\n",
       "      <td>...</td>\n",
       "      <td>0</td>\n",
       "      <td>0</td>\n",
       "      <td>0</td>\n",
       "      <td>NaN</td>\n",
       "      <td>NaN</td>\n",
       "      <td>NaN</td>\n",
       "      <td>NaN</td>\n",
       "      <td>2009-02-28</td>\n",
       "      <td>01:45:00</td>\n",
       "      <td>2009-11-02</td>\n",
       "    </tr>\n",
       "    <tr>\n",
       "      <th>2</th>\n",
       "      <td>3899442</td>\n",
       "      <td>9530.0</td>\n",
       "      <td>19005</td>\n",
       "      <td>NaN</td>\n",
       "      <td>0600 thru 1359</td>\n",
       "      <td>&gt;250000</td>\n",
       "      <td>1942</td>\n",
       "      <td>los angeles</td>\n",
       "      <td>0</td>\n",
       "      <td>chp state highway</td>\n",
       "      <td>...</td>\n",
       "      <td>0</td>\n",
       "      <td>0</td>\n",
       "      <td>0</td>\n",
       "      <td>NaN</td>\n",
       "      <td>NaN</td>\n",
       "      <td>33.86465</td>\n",
       "      <td>-118.28533</td>\n",
       "      <td>2009-02-09</td>\n",
       "      <td>10:20:00</td>\n",
       "      <td>2010-01-14</td>\n",
       "    </tr>\n",
       "    <tr>\n",
       "      <th>3</th>\n",
       "      <td>3899445</td>\n",
       "      <td>9530.0</td>\n",
       "      <td>19284</td>\n",
       "      <td>NaN</td>\n",
       "      <td>1400 thru 2159</td>\n",
       "      <td>&gt;250000</td>\n",
       "      <td>1942</td>\n",
       "      <td>los angeles</td>\n",
       "      <td>0</td>\n",
       "      <td>chp state highway</td>\n",
       "      <td>...</td>\n",
       "      <td>0</td>\n",
       "      <td>0</td>\n",
       "      <td>0</td>\n",
       "      <td>NaN</td>\n",
       "      <td>NaN</td>\n",
       "      <td>33.79120</td>\n",
       "      <td>-118.28230</td>\n",
       "      <td>2009-02-18</td>\n",
       "      <td>15:50:00</td>\n",
       "      <td>2010-01-13</td>\n",
       "    </tr>\n",
       "    <tr>\n",
       "      <th>4</th>\n",
       "      <td>3899446</td>\n",
       "      <td>9530.0</td>\n",
       "      <td>19289</td>\n",
       "      <td>NaN</td>\n",
       "      <td>1400 thru 2159</td>\n",
       "      <td>25000 to 50000</td>\n",
       "      <td>1939</td>\n",
       "      <td>los angeles</td>\n",
       "      <td>0</td>\n",
       "      <td>chp state highway</td>\n",
       "      <td>...</td>\n",
       "      <td>0</td>\n",
       "      <td>0</td>\n",
       "      <td>0</td>\n",
       "      <td>NaN</td>\n",
       "      <td>NaN</td>\n",
       "      <td>33.88450</td>\n",
       "      <td>-118.35260</td>\n",
       "      <td>2009-02-11</td>\n",
       "      <td>17:35:00</td>\n",
       "      <td>2010-01-11</td>\n",
       "    </tr>\n",
       "  </tbody>\n",
       "</table>\n",
       "<p>5 rows × 75 columns</p>\n",
       "</div>"
      ],
      "text/plain": [
       "   case_id  jurisdiction officer_id reporting_district       chp_shift  \\\n",
       "0  3858022        1005.0       P379                 2C         not chp   \n",
       "1  3899441        9120.0      17248                NaN  2200 thru 0559   \n",
       "2  3899442        9530.0      19005                NaN  0600 thru 1359   \n",
       "3  3899445        9530.0      19284                NaN  1400 thru 2159   \n",
       "4  3899446        9530.0      19289                NaN  1400 thru 2159   \n",
       "\n",
       "       population  county_city_location county_location  special_condition  \\\n",
       "0         >250000                  1005          fresno                  0   \n",
       "1   2500 to 10000                   801       del norte                  0   \n",
       "2         >250000                  1942     los angeles                  0   \n",
       "3         >250000                  1942     los angeles                  0   \n",
       "4  25000 to 50000                  1939     los angeles                  0   \n",
       "\n",
       "           beat_type  ... bicyclist_injured_count motorcyclist_killed_count  \\\n",
       "0            not chp  ...                       0                         0   \n",
       "1  chp state highway  ...                       0                         0   \n",
       "2  chp state highway  ...                       0                         0   \n",
       "3  chp state highway  ...                       0                         0   \n",
       "4  chp state highway  ...                       0                         0   \n",
       "\n",
       "  motorcyclist_injured_count primary_ramp secondary_ramp  latitude  longitude  \\\n",
       "0                          0          NaN            NaN       NaN        NaN   \n",
       "1                          0          NaN            NaN       NaN        NaN   \n",
       "2                          0          NaN            NaN  33.86465 -118.28533   \n",
       "3                          0          NaN            NaN  33.79120 -118.28230   \n",
       "4                          0          NaN            NaN  33.88450 -118.35260   \n",
       "\n",
       "  collision_date  collision_time process_date  \n",
       "0     2009-02-03        17:11:00   2009-04-27  \n",
       "1     2009-02-28        01:45:00   2009-11-02  \n",
       "2     2009-02-09        10:20:00   2010-01-14  \n",
       "3     2009-02-18        15:50:00   2010-01-13  \n",
       "4     2009-02-11        17:35:00   2010-01-11  \n",
       "\n",
       "[5 rows x 75 columns]"
      ]
     },
     "execution_count": 4,
     "metadata": {},
     "output_type": "execute_result"
    }
   ],
   "source": [
    "df.head()"
   ]
  },
  {
   "cell_type": "code",
   "execution_count": null,
   "metadata": {},
   "outputs": [],
   "source": [
    "for i in df.columns:\n",
    "    print(i, df[i].unique(), '\\n----------------------')"
   ]
  },
  {
   "cell_type": "code",
   "execution_count": 39,
   "metadata": {},
   "outputs": [],
   "source": [
    "#add: intersection, motor_vehicle_involved_with , side_of_highway , \n",
    "#add: location_type(contains intersection)\n",
    "crashes = df[[\"county_location\", \"collision_time\",\"population\",  'alcohol_involved',\"weather_1\", \"lighting\", \"road_surface\", \"road_condition_1\", \"state_highway_indicator\",\"type_of_collision\", \"party_count\", \"collision_severity\"]]"
   ]
  },
  {
   "cell_type": "code",
   "execution_count": 40,
   "metadata": {},
   "outputs": [
    {
     "data": {
      "text/html": [
       "<div>\n",
       "<style scoped>\n",
       "    .dataframe tbody tr th:only-of-type {\n",
       "        vertical-align: middle;\n",
       "    }\n",
       "\n",
       "    .dataframe tbody tr th {\n",
       "        vertical-align: top;\n",
       "    }\n",
       "\n",
       "    .dataframe thead th {\n",
       "        text-align: right;\n",
       "    }\n",
       "</style>\n",
       "<table border=\"1\" class=\"dataframe\">\n",
       "  <thead>\n",
       "    <tr style=\"text-align: right;\">\n",
       "      <th></th>\n",
       "      <th>county_location</th>\n",
       "      <th>collision_time</th>\n",
       "      <th>population</th>\n",
       "      <th>alcohol_involved</th>\n",
       "      <th>weather_1</th>\n",
       "      <th>lighting</th>\n",
       "      <th>road_surface</th>\n",
       "      <th>road_condition_1</th>\n",
       "      <th>state_highway_indicator</th>\n",
       "      <th>type_of_collision</th>\n",
       "      <th>party_count</th>\n",
       "      <th>collision_severity</th>\n",
       "    </tr>\n",
       "  </thead>\n",
       "  <tbody>\n",
       "    <tr>\n",
       "      <th>0</th>\n",
       "      <td>fresno</td>\n",
       "      <td>17:11:00</td>\n",
       "      <td>&gt;250000</td>\n",
       "      <td>NaN</td>\n",
       "      <td>clear</td>\n",
       "      <td>daylight</td>\n",
       "      <td>dry</td>\n",
       "      <td>normal</td>\n",
       "      <td>0.0</td>\n",
       "      <td>rear end</td>\n",
       "      <td>2</td>\n",
       "      <td>property damage only</td>\n",
       "    </tr>\n",
       "    <tr>\n",
       "      <th>1</th>\n",
       "      <td>del norte</td>\n",
       "      <td>01:45:00</td>\n",
       "      <td>2500 to 10000</td>\n",
       "      <td>NaN</td>\n",
       "      <td>clear</td>\n",
       "      <td>dark with no street lights</td>\n",
       "      <td>dry</td>\n",
       "      <td>normal</td>\n",
       "      <td>1.0</td>\n",
       "      <td>hit object</td>\n",
       "      <td>1</td>\n",
       "      <td>property damage only</td>\n",
       "    </tr>\n",
       "    <tr>\n",
       "      <th>2</th>\n",
       "      <td>los angeles</td>\n",
       "      <td>10:20:00</td>\n",
       "      <td>&gt;250000</td>\n",
       "      <td>NaN</td>\n",
       "      <td>raining</td>\n",
       "      <td>daylight</td>\n",
       "      <td>wet</td>\n",
       "      <td>normal</td>\n",
       "      <td>1.0</td>\n",
       "      <td>sideswipe</td>\n",
       "      <td>2</td>\n",
       "      <td>property damage only</td>\n",
       "    </tr>\n",
       "    <tr>\n",
       "      <th>3</th>\n",
       "      <td>los angeles</td>\n",
       "      <td>15:50:00</td>\n",
       "      <td>&gt;250000</td>\n",
       "      <td>NaN</td>\n",
       "      <td>clear</td>\n",
       "      <td>daylight</td>\n",
       "      <td>dry</td>\n",
       "      <td>normal</td>\n",
       "      <td>1.0</td>\n",
       "      <td>sideswipe</td>\n",
       "      <td>3</td>\n",
       "      <td>property damage only</td>\n",
       "    </tr>\n",
       "    <tr>\n",
       "      <th>4</th>\n",
       "      <td>los angeles</td>\n",
       "      <td>17:35:00</td>\n",
       "      <td>25000 to 50000</td>\n",
       "      <td>NaN</td>\n",
       "      <td>cloudy</td>\n",
       "      <td>dusk or dawn</td>\n",
       "      <td>dry</td>\n",
       "      <td>normal</td>\n",
       "      <td>1.0</td>\n",
       "      <td>rear end</td>\n",
       "      <td>3</td>\n",
       "      <td>property damage only</td>\n",
       "    </tr>\n",
       "  </tbody>\n",
       "</table>\n",
       "</div>"
      ],
      "text/plain": [
       "  county_location collision_time      population  alcohol_involved weather_1  \\\n",
       "0          fresno       17:11:00         >250000               NaN     clear   \n",
       "1       del norte       01:45:00   2500 to 10000               NaN     clear   \n",
       "2     los angeles       10:20:00         >250000               NaN   raining   \n",
       "3     los angeles       15:50:00         >250000               NaN     clear   \n",
       "4     los angeles       17:35:00  25000 to 50000               NaN    cloudy   \n",
       "\n",
       "                     lighting road_surface road_condition_1  \\\n",
       "0                    daylight          dry           normal   \n",
       "1  dark with no street lights          dry           normal   \n",
       "2                    daylight          wet           normal   \n",
       "3                    daylight          dry           normal   \n",
       "4                dusk or dawn          dry           normal   \n",
       "\n",
       "   state_highway_indicator type_of_collision  party_count  \\\n",
       "0                      0.0          rear end            2   \n",
       "1                      1.0        hit object            1   \n",
       "2                      1.0         sideswipe            2   \n",
       "3                      1.0         sideswipe            3   \n",
       "4                      1.0          rear end            3   \n",
       "\n",
       "     collision_severity  \n",
       "0  property damage only  \n",
       "1  property damage only  \n",
       "2  property damage only  \n",
       "3  property damage only  \n",
       "4  property damage only  "
      ]
     },
     "execution_count": 40,
     "metadata": {},
     "output_type": "execute_result"
    }
   ],
   "source": [
    "crashes.head()"
   ]
  },
  {
   "cell_type": "code",
   "execution_count": 41,
   "metadata": {},
   "outputs": [
    {
     "data": {
      "text/plain": [
       "county_location                 0\n",
       "collision_time               3766\n",
       "population                      0\n",
       "alcohol_involved           380305\n",
       "weather_1                    2368\n",
       "lighting                     2915\n",
       "road_surface                 4196\n",
       "road_condition_1             3826\n",
       "state_highway_indicator        63\n",
       "type_of_collision            3969\n",
       "party_count                     0\n",
       "collision_severity              0\n",
       "dtype: int64"
      ]
     },
     "execution_count": 41,
     "metadata": {},
     "output_type": "execute_result"
    }
   ],
   "source": [
    "crashes.isna().sum()\n"
   ]
  },
  {
   "cell_type": "code",
   "execution_count": 42,
   "metadata": {},
   "outputs": [],
   "source": [
    "crashes = crashes[crashes['road_condition_1'] != 'other']\n",
    "crashes = crashes[crashes['weather_1'] != 'other']"
   ]
  },
  {
   "cell_type": "code",
   "execution_count": 43,
   "metadata": {
    "scrolled": false
   },
   "outputs": [],
   "source": [
    "crashes['alcohol_involved'] = crashes['alcohol_involved'].fillna(0)"
   ]
  },
  {
   "cell_type": "code",
   "execution_count": 44,
   "metadata": {},
   "outputs": [],
   "source": [
    "columns_to_encode = ['collision_severity', 'weather_1', 'state_highway_indicator',\n",
    "                     'lighting', 'road_surface', 'road_condition_1','population','type_of_collision']\n",
    "crashes_encoded = crashes.copy()\n",
    "def encodeCategorical(list_columns):\n",
    "    labelencoder = LabelEncoder()\n",
    "    for col in list_columns:\n",
    "        #drop na in original as well\n",
    "        crashes.dropna(subset=[col], inplace=True)\n",
    "        \n",
    "        crashes_encoded.dropna(subset=[col], inplace=True)\n",
    "        di = {}\n",
    "        for i in np.arange(len(crashes_encoded[col].unique())):\n",
    "            di[crashes_encoded[col].unique()[i]] = i \n",
    "        crashes_encoded.replace({col: di},inplace=True)\n",
    "            \n",
    "        #crashes_encoded[col] = labelencoder.fit_transform(crashes_encoded[col])\n",
    "encodeCategorical(columns_to_encode)"
   ]
  },
  {
   "cell_type": "code",
   "execution_count": 45,
   "metadata": {},
   "outputs": [],
   "source": [
    "#get hour out of collision time\n",
    "crashes.dropna(subset=['collision_time'], inplace=True)\n",
    "crashes_encoded.dropna(subset=['collision_time'], inplace=True)\n",
    "\n",
    "#crashes_encoded.dropna(subset=['collision_time'], inplace=True)\n",
    "times = []\n",
    "for full_time in crashes.collision_time:\n",
    "    times.append(int(full_time[:2]))\n",
    "crashes.collision_time = times\n",
    "crashes_encoded.collision_time = times\n",
    "    \n"
   ]
  },
  {
   "cell_type": "code",
   "execution_count": 46,
   "metadata": {},
   "outputs": [
    {
     "data": {
      "text/html": [
       "<div>\n",
       "<style scoped>\n",
       "    .dataframe tbody tr th:only-of-type {\n",
       "        vertical-align: middle;\n",
       "    }\n",
       "\n",
       "    .dataframe tbody tr th {\n",
       "        vertical-align: top;\n",
       "    }\n",
       "\n",
       "    .dataframe thead th {\n",
       "        text-align: right;\n",
       "    }\n",
       "</style>\n",
       "<table border=\"1\" class=\"dataframe\">\n",
       "  <thead>\n",
       "    <tr style=\"text-align: right;\">\n",
       "      <th></th>\n",
       "      <th>county_location</th>\n",
       "      <th>collision_time</th>\n",
       "      <th>population</th>\n",
       "      <th>alcohol_involved</th>\n",
       "      <th>weather_1</th>\n",
       "      <th>lighting</th>\n",
       "      <th>road_surface</th>\n",
       "      <th>road_condition_1</th>\n",
       "      <th>state_highway_indicator</th>\n",
       "      <th>type_of_collision</th>\n",
       "      <th>party_count</th>\n",
       "      <th>collision_severity</th>\n",
       "    </tr>\n",
       "  </thead>\n",
       "  <tbody>\n",
       "    <tr>\n",
       "      <th>0</th>\n",
       "      <td>fresno</td>\n",
       "      <td>17</td>\n",
       "      <td>0</td>\n",
       "      <td>0.0</td>\n",
       "      <td>0</td>\n",
       "      <td>0</td>\n",
       "      <td>0</td>\n",
       "      <td>0</td>\n",
       "      <td>0.0</td>\n",
       "      <td>0</td>\n",
       "      <td>2</td>\n",
       "      <td>0</td>\n",
       "    </tr>\n",
       "    <tr>\n",
       "      <th>1</th>\n",
       "      <td>del norte</td>\n",
       "      <td>1</td>\n",
       "      <td>1</td>\n",
       "      <td>0.0</td>\n",
       "      <td>0</td>\n",
       "      <td>1</td>\n",
       "      <td>0</td>\n",
       "      <td>0</td>\n",
       "      <td>1.0</td>\n",
       "      <td>1</td>\n",
       "      <td>1</td>\n",
       "      <td>0</td>\n",
       "    </tr>\n",
       "    <tr>\n",
       "      <th>2</th>\n",
       "      <td>los angeles</td>\n",
       "      <td>10</td>\n",
       "      <td>0</td>\n",
       "      <td>0.0</td>\n",
       "      <td>1</td>\n",
       "      <td>0</td>\n",
       "      <td>1</td>\n",
       "      <td>0</td>\n",
       "      <td>1.0</td>\n",
       "      <td>2</td>\n",
       "      <td>2</td>\n",
       "      <td>0</td>\n",
       "    </tr>\n",
       "    <tr>\n",
       "      <th>3</th>\n",
       "      <td>los angeles</td>\n",
       "      <td>15</td>\n",
       "      <td>0</td>\n",
       "      <td>0.0</td>\n",
       "      <td>0</td>\n",
       "      <td>0</td>\n",
       "      <td>0</td>\n",
       "      <td>0</td>\n",
       "      <td>1.0</td>\n",
       "      <td>2</td>\n",
       "      <td>3</td>\n",
       "      <td>0</td>\n",
       "    </tr>\n",
       "    <tr>\n",
       "      <th>4</th>\n",
       "      <td>los angeles</td>\n",
       "      <td>17</td>\n",
       "      <td>2</td>\n",
       "      <td>0.0</td>\n",
       "      <td>2</td>\n",
       "      <td>2</td>\n",
       "      <td>0</td>\n",
       "      <td>0</td>\n",
       "      <td>1.0</td>\n",
       "      <td>0</td>\n",
       "      <td>3</td>\n",
       "      <td>0</td>\n",
       "    </tr>\n",
       "  </tbody>\n",
       "</table>\n",
       "</div>"
      ],
      "text/plain": [
       "  county_location  collision_time  population  alcohol_involved  weather_1  \\\n",
       "0          fresno              17           0               0.0          0   \n",
       "1       del norte               1           1               0.0          0   \n",
       "2     los angeles              10           0               0.0          1   \n",
       "3     los angeles              15           0               0.0          0   \n",
       "4     los angeles              17           2               0.0          2   \n",
       "\n",
       "   lighting  road_surface  road_condition_1  state_highway_indicator  \\\n",
       "0         0             0                 0                      0.0   \n",
       "1         1             0                 0                      1.0   \n",
       "2         0             1                 0                      1.0   \n",
       "3         0             0                 0                      1.0   \n",
       "4         2             0                 0                      1.0   \n",
       "\n",
       "   type_of_collision  party_count  collision_severity  \n",
       "0                  0            2                   0  \n",
       "1                  1            1                   0  \n",
       "2                  2            2                   0  \n",
       "3                  2            3                   0  \n",
       "4                  0            3                   0  "
      ]
     },
     "execution_count": 46,
     "metadata": {},
     "output_type": "execute_result"
    }
   ],
   "source": [
    "crashes_encoded.head()"
   ]
  },
  {
   "cell_type": "code",
   "execution_count": 47,
   "metadata": {},
   "outputs": [
    {
     "data": {
      "text/html": [
       "<div>\n",
       "<style scoped>\n",
       "    .dataframe tbody tr th:only-of-type {\n",
       "        vertical-align: middle;\n",
       "    }\n",
       "\n",
       "    .dataframe tbody tr th {\n",
       "        vertical-align: top;\n",
       "    }\n",
       "\n",
       "    .dataframe thead th {\n",
       "        text-align: right;\n",
       "    }\n",
       "</style>\n",
       "<table border=\"1\" class=\"dataframe\">\n",
       "  <thead>\n",
       "    <tr style=\"text-align: right;\">\n",
       "      <th></th>\n",
       "      <th>county_location</th>\n",
       "      <th>collision_time</th>\n",
       "      <th>population</th>\n",
       "      <th>alcohol_involved</th>\n",
       "      <th>weather_1</th>\n",
       "      <th>lighting</th>\n",
       "      <th>road_surface</th>\n",
       "      <th>road_condition_1</th>\n",
       "      <th>state_highway_indicator</th>\n",
       "      <th>type_of_collision</th>\n",
       "      <th>party_count</th>\n",
       "      <th>collision_severity</th>\n",
       "    </tr>\n",
       "  </thead>\n",
       "  <tbody>\n",
       "    <tr>\n",
       "      <th>0</th>\n",
       "      <td>fresno</td>\n",
       "      <td>17</td>\n",
       "      <td>&gt;250000</td>\n",
       "      <td>0.0</td>\n",
       "      <td>clear</td>\n",
       "      <td>daylight</td>\n",
       "      <td>dry</td>\n",
       "      <td>normal</td>\n",
       "      <td>0.0</td>\n",
       "      <td>rear end</td>\n",
       "      <td>2</td>\n",
       "      <td>property damage only</td>\n",
       "    </tr>\n",
       "    <tr>\n",
       "      <th>1</th>\n",
       "      <td>del norte</td>\n",
       "      <td>1</td>\n",
       "      <td>2500 to 10000</td>\n",
       "      <td>0.0</td>\n",
       "      <td>clear</td>\n",
       "      <td>dark with no street lights</td>\n",
       "      <td>dry</td>\n",
       "      <td>normal</td>\n",
       "      <td>1.0</td>\n",
       "      <td>hit object</td>\n",
       "      <td>1</td>\n",
       "      <td>property damage only</td>\n",
       "    </tr>\n",
       "    <tr>\n",
       "      <th>2</th>\n",
       "      <td>los angeles</td>\n",
       "      <td>10</td>\n",
       "      <td>&gt;250000</td>\n",
       "      <td>0.0</td>\n",
       "      <td>raining</td>\n",
       "      <td>daylight</td>\n",
       "      <td>wet</td>\n",
       "      <td>normal</td>\n",
       "      <td>1.0</td>\n",
       "      <td>sideswipe</td>\n",
       "      <td>2</td>\n",
       "      <td>property damage only</td>\n",
       "    </tr>\n",
       "    <tr>\n",
       "      <th>3</th>\n",
       "      <td>los angeles</td>\n",
       "      <td>15</td>\n",
       "      <td>&gt;250000</td>\n",
       "      <td>0.0</td>\n",
       "      <td>clear</td>\n",
       "      <td>daylight</td>\n",
       "      <td>dry</td>\n",
       "      <td>normal</td>\n",
       "      <td>1.0</td>\n",
       "      <td>sideswipe</td>\n",
       "      <td>3</td>\n",
       "      <td>property damage only</td>\n",
       "    </tr>\n",
       "    <tr>\n",
       "      <th>4</th>\n",
       "      <td>los angeles</td>\n",
       "      <td>17</td>\n",
       "      <td>25000 to 50000</td>\n",
       "      <td>0.0</td>\n",
       "      <td>cloudy</td>\n",
       "      <td>dusk or dawn</td>\n",
       "      <td>dry</td>\n",
       "      <td>normal</td>\n",
       "      <td>1.0</td>\n",
       "      <td>rear end</td>\n",
       "      <td>3</td>\n",
       "      <td>property damage only</td>\n",
       "    </tr>\n",
       "  </tbody>\n",
       "</table>\n",
       "</div>"
      ],
      "text/plain": [
       "  county_location  collision_time      population  alcohol_involved weather_1  \\\n",
       "0          fresno              17         >250000               0.0     clear   \n",
       "1       del norte               1   2500 to 10000               0.0     clear   \n",
       "2     los angeles              10         >250000               0.0   raining   \n",
       "3     los angeles              15         >250000               0.0     clear   \n",
       "4     los angeles              17  25000 to 50000               0.0    cloudy   \n",
       "\n",
       "                     lighting road_surface road_condition_1  \\\n",
       "0                    daylight          dry           normal   \n",
       "1  dark with no street lights          dry           normal   \n",
       "2                    daylight          wet           normal   \n",
       "3                    daylight          dry           normal   \n",
       "4                dusk or dawn          dry           normal   \n",
       "\n",
       "   state_highway_indicator type_of_collision  party_count  \\\n",
       "0                      0.0          rear end            2   \n",
       "1                      1.0        hit object            1   \n",
       "2                      1.0         sideswipe            2   \n",
       "3                      1.0         sideswipe            3   \n",
       "4                      1.0          rear end            3   \n",
       "\n",
       "     collision_severity  \n",
       "0  property damage only  \n",
       "1  property damage only  \n",
       "2  property damage only  \n",
       "3  property damage only  \n",
       "4  property damage only  "
      ]
     },
     "execution_count": 47,
     "metadata": {},
     "output_type": "execute_result"
    }
   ],
   "source": [
    "crashes.head()"
   ]
  },
  {
   "cell_type": "code",
   "execution_count": null,
   "metadata": {},
   "outputs": [],
   "source": []
  },
  {
   "cell_type": "code",
   "execution_count": 48,
   "metadata": {},
   "outputs": [
    {
     "data": {
      "text/plain": [
       "array(['property damage only', 'pain', 'severe injury', 'other injury',\n",
       "       'fatal'], dtype=object)"
      ]
     },
     "execution_count": 48,
     "metadata": {},
     "output_type": "execute_result"
    }
   ],
   "source": [
    "#wet = 4, dry = 0\n",
    "crashes['collision_severity'].unique()"
   ]
  },
  {
   "cell_type": "code",
   "execution_count": 49,
   "metadata": {},
   "outputs": [
    {
     "data": {
      "text/plain": [
       "array([0, 1, 2, 3, 4], dtype=int64)"
      ]
     },
     "execution_count": 49,
     "metadata": {},
     "output_type": "execute_result"
    }
   ],
   "source": [
    "crashes_encoded['collision_severity'].unique()"
   ]
  },
  {
   "cell_type": "code",
   "execution_count": 50,
   "metadata": {
    "scrolled": false
   },
   "outputs": [
    {
     "data": {
      "text/plain": [
       "county_location            0\n",
       "collision_time             0\n",
       "population                 0\n",
       "alcohol_involved           0\n",
       "weather_1                  0\n",
       "lighting                   0\n",
       "road_surface               0\n",
       "road_condition_1           0\n",
       "state_highway_indicator    0\n",
       "type_of_collision          0\n",
       "party_count                0\n",
       "collision_severity         0\n",
       "dtype: int64"
      ]
     },
     "execution_count": 50,
     "metadata": {},
     "output_type": "execute_result"
    }
   ],
   "source": [
    "crashes.isna().sum()"
   ]
  },
  {
   "cell_type": "code",
   "execution_count": 51,
   "metadata": {},
   "outputs": [
    {
     "data": {
      "text/plain": [
       "county_location            0\n",
       "collision_time             0\n",
       "population                 0\n",
       "alcohol_involved           0\n",
       "weather_1                  0\n",
       "lighting                   0\n",
       "road_surface               0\n",
       "road_condition_1           0\n",
       "state_highway_indicator    0\n",
       "type_of_collision          0\n",
       "party_count                0\n",
       "collision_severity         0\n",
       "dtype: int64"
      ]
     },
     "execution_count": 51,
     "metadata": {},
     "output_type": "execute_result"
    }
   ],
   "source": [
    "crashes_encoded.isna().sum()"
   ]
  },
  {
   "cell_type": "markdown",
   "metadata": {},
   "source": [
    "# Data Exploration\n",
    "- Proportion of severe injuries\n",
    "   - when alcohol is involved\n",
    "   - when weather is raining/cloudy\n",
    "   - when lighting is dark with no street lights\n",
    "   - when road_surface is wet"
   ]
  },
  {
   "cell_type": "code",
   "execution_count": 22,
   "metadata": {
    "scrolled": true
   },
   "outputs": [
    {
     "data": {
      "text/html": [
       "<div>\n",
       "<style scoped>\n",
       "    .dataframe tbody tr th:only-of-type {\n",
       "        vertical-align: middle;\n",
       "    }\n",
       "\n",
       "    .dataframe tbody tr th {\n",
       "        vertical-align: top;\n",
       "    }\n",
       "\n",
       "    .dataframe thead th {\n",
       "        text-align: right;\n",
       "    }\n",
       "</style>\n",
       "<table border=\"1\" class=\"dataframe\">\n",
       "  <thead>\n",
       "    <tr style=\"text-align: right;\">\n",
       "      <th></th>\n",
       "      <th>county_location</th>\n",
       "      <th>collision_time</th>\n",
       "      <th>population</th>\n",
       "      <th>alcohol_involved</th>\n",
       "      <th>weather_1</th>\n",
       "      <th>lighting</th>\n",
       "      <th>road_surface</th>\n",
       "      <th>road_condition_1</th>\n",
       "      <th>state_highway_indicator</th>\n",
       "      <th>type_of_collision</th>\n",
       "      <th>party_count</th>\n",
       "      <th>collision_severity</th>\n",
       "    </tr>\n",
       "  </thead>\n",
       "  <tbody>\n",
       "    <tr>\n",
       "      <th>0</th>\n",
       "      <td>fresno</td>\n",
       "      <td>17</td>\n",
       "      <td>&gt;250000</td>\n",
       "      <td>0.0</td>\n",
       "      <td>clear</td>\n",
       "      <td>daylight</td>\n",
       "      <td>dry</td>\n",
       "      <td>normal</td>\n",
       "      <td>0.0</td>\n",
       "      <td>rear end</td>\n",
       "      <td>2</td>\n",
       "      <td>property damage only</td>\n",
       "    </tr>\n",
       "    <tr>\n",
       "      <th>1</th>\n",
       "      <td>del norte</td>\n",
       "      <td>1</td>\n",
       "      <td>2500 to 10000</td>\n",
       "      <td>0.0</td>\n",
       "      <td>clear</td>\n",
       "      <td>dark with no street lights</td>\n",
       "      <td>dry</td>\n",
       "      <td>normal</td>\n",
       "      <td>1.0</td>\n",
       "      <td>hit object</td>\n",
       "      <td>1</td>\n",
       "      <td>property damage only</td>\n",
       "    </tr>\n",
       "    <tr>\n",
       "      <th>2</th>\n",
       "      <td>los angeles</td>\n",
       "      <td>10</td>\n",
       "      <td>&gt;250000</td>\n",
       "      <td>0.0</td>\n",
       "      <td>raining</td>\n",
       "      <td>daylight</td>\n",
       "      <td>wet</td>\n",
       "      <td>normal</td>\n",
       "      <td>1.0</td>\n",
       "      <td>sideswipe</td>\n",
       "      <td>2</td>\n",
       "      <td>property damage only</td>\n",
       "    </tr>\n",
       "    <tr>\n",
       "      <th>3</th>\n",
       "      <td>los angeles</td>\n",
       "      <td>15</td>\n",
       "      <td>&gt;250000</td>\n",
       "      <td>0.0</td>\n",
       "      <td>clear</td>\n",
       "      <td>daylight</td>\n",
       "      <td>dry</td>\n",
       "      <td>normal</td>\n",
       "      <td>1.0</td>\n",
       "      <td>sideswipe</td>\n",
       "      <td>3</td>\n",
       "      <td>property damage only</td>\n",
       "    </tr>\n",
       "    <tr>\n",
       "      <th>4</th>\n",
       "      <td>los angeles</td>\n",
       "      <td>17</td>\n",
       "      <td>25000 to 50000</td>\n",
       "      <td>0.0</td>\n",
       "      <td>cloudy</td>\n",
       "      <td>dusk or dawn</td>\n",
       "      <td>dry</td>\n",
       "      <td>normal</td>\n",
       "      <td>1.0</td>\n",
       "      <td>rear end</td>\n",
       "      <td>3</td>\n",
       "      <td>property damage only</td>\n",
       "    </tr>\n",
       "  </tbody>\n",
       "</table>\n",
       "</div>"
      ],
      "text/plain": [
       "  county_location  collision_time      population  alcohol_involved weather_1  \\\n",
       "0          fresno              17         >250000               0.0     clear   \n",
       "1       del norte               1   2500 to 10000               0.0     clear   \n",
       "2     los angeles              10         >250000               0.0   raining   \n",
       "3     los angeles              15         >250000               0.0     clear   \n",
       "4     los angeles              17  25000 to 50000               0.0    cloudy   \n",
       "\n",
       "                     lighting road_surface road_condition_1  \\\n",
       "0                    daylight          dry           normal   \n",
       "1  dark with no street lights          dry           normal   \n",
       "2                    daylight          wet           normal   \n",
       "3                    daylight          dry           normal   \n",
       "4                dusk or dawn          dry           normal   \n",
       "\n",
       "   state_highway_indicator type_of_collision  party_count  \\\n",
       "0                      0.0          rear end            2   \n",
       "1                      1.0        hit object            1   \n",
       "2                      1.0         sideswipe            2   \n",
       "3                      1.0         sideswipe            3   \n",
       "4                      1.0          rear end            3   \n",
       "\n",
       "     collision_severity  \n",
       "0  property damage only  \n",
       "1  property damage only  \n",
       "2  property damage only  \n",
       "3  property damage only  \n",
       "4  property damage only  "
      ]
     },
     "execution_count": 22,
     "metadata": {},
     "output_type": "execute_result"
    }
   ],
   "source": [
    "crashes.head()"
   ]
  },
  {
   "cell_type": "code",
   "execution_count": 23,
   "metadata": {
    "scrolled": true
   },
   "outputs": [
    {
     "data": {
      "text/plain": [
       "0    249379\n",
       "1    100257\n",
       "3     49301\n",
       "2      9053\n",
       "4      2723\n",
       "Name: collision_severity, dtype: int64"
      ]
     },
     "execution_count": 23,
     "metadata": {},
     "output_type": "execute_result"
    }
   ],
   "source": [
    "crashes_encoded['collision_severity'].value_counts()"
   ]
  },
  {
   "cell_type": "code",
   "execution_count": null,
   "metadata": {},
   "outputs": [],
   "source": [
    "crashes.collision_severity"
   ]
  },
  {
   "cell_type": "code",
   "execution_count": 24,
   "metadata": {},
   "outputs": [
    {
     "data": {
      "image/png": "[encoded data removed]",
      "text/plain": [
       "<Figure size 432x288 with 1 Axes>"
      ]
     },
     "metadata": {
      "needs_background": "light"
     },
     "output_type": "display_data"
    }
   ],
   "source": [
    "crashes.collision_severity.value_counts().plot(kind='bar', title=\"collision severity frequency\");"
   ]
  },
  {
   "cell_type": "code",
   "execution_count": 79,
   "metadata": {},
   "outputs": [],
   "source": [
    "\n",
    "new_ranks = []\n",
    "crashes_encoded_severity = crashes_encoded.copy()\n",
    "for rank in crashes_encoded.collision_severity:\n",
    "    if (rank==1):\n",
    "        new_ranks.append(1)\n",
    "    elif (rank==3):\n",
    "        new_ranks.append(1)\n",
    "    elif (rank==2):\n",
    "        new_ranks.append(2)\n",
    "    elif (rank==4):\n",
    "        new_ranks.append(2)\n",
    "    else:\n",
    "        new_ranks.append(0)\n"
   ]
  },
  {
   "cell_type": "code",
   "execution_count": 80,
   "metadata": {},
   "outputs": [
    {
     "data": {
      "text/plain": [
       "array([0, 1, 2], dtype=int64)"
      ]
     },
     "execution_count": 80,
     "metadata": {},
     "output_type": "execute_result"
    }
   ],
   "source": [
    "crashes_encoded_severity.collision_severity = new_ranks\n",
    "crashes_encoded_severity.collision_severity.unique()"
   ]
  },
  {
   "cell_type": "code",
   "execution_count": 81,
   "metadata": {},
   "outputs": [
    {
     "data": {
      "image/png": "[encoded data removed]",
      "text/plain": [
       "<Figure size 432x288 with 1 Axes>"
      ]
     },
     "metadata": {
      "needs_background": "light"
     },
     "output_type": "display_data"
    }
   ],
   "source": [
    "crashes_encoded_severity.collision_severity.value_counts().plot(kind='bar', title=\"collision severity frequency\");"
   ]
  },
  {
   "cell_type": "code",
   "execution_count": 28,
   "metadata": {},
   "outputs": [
    {
     "data": {
      "text/html": [
       "<div>\n",
       "<style scoped>\n",
       "    .dataframe tbody tr th:only-of-type {\n",
       "        vertical-align: middle;\n",
       "    }\n",
       "\n",
       "    .dataframe tbody tr th {\n",
       "        vertical-align: top;\n",
       "    }\n",
       "\n",
       "    .dataframe thead th {\n",
       "        text-align: right;\n",
       "    }\n",
       "</style>\n",
       "<table border=\"1\" class=\"dataframe\">\n",
       "  <thead>\n",
       "    <tr style=\"text-align: right;\">\n",
       "      <th></th>\n",
       "      <th>county_location</th>\n",
       "      <th>collision_time</th>\n",
       "      <th>population</th>\n",
       "      <th>alcohol_involved</th>\n",
       "      <th>weather_1</th>\n",
       "      <th>lighting</th>\n",
       "      <th>road_surface</th>\n",
       "      <th>road_condition_1</th>\n",
       "      <th>state_highway_indicator</th>\n",
       "      <th>type_of_collision</th>\n",
       "      <th>party_count</th>\n",
       "      <th>collision_severity</th>\n",
       "    </tr>\n",
       "  </thead>\n",
       "  <tbody>\n",
       "    <tr>\n",
       "      <th>0</th>\n",
       "      <td>fresno</td>\n",
       "      <td>17</td>\n",
       "      <td>0</td>\n",
       "      <td>0.0</td>\n",
       "      <td>0</td>\n",
       "      <td>0</td>\n",
       "      <td>0</td>\n",
       "      <td>0</td>\n",
       "      <td>0.0</td>\n",
       "      <td>0</td>\n",
       "      <td>2</td>\n",
       "      <td>0</td>\n",
       "    </tr>\n",
       "    <tr>\n",
       "      <th>1</th>\n",
       "      <td>del norte</td>\n",
       "      <td>1</td>\n",
       "      <td>1</td>\n",
       "      <td>0.0</td>\n",
       "      <td>0</td>\n",
       "      <td>1</td>\n",
       "      <td>0</td>\n",
       "      <td>0</td>\n",
       "      <td>1.0</td>\n",
       "      <td>1</td>\n",
       "      <td>1</td>\n",
       "      <td>0</td>\n",
       "    </tr>\n",
       "    <tr>\n",
       "      <th>2</th>\n",
       "      <td>los angeles</td>\n",
       "      <td>10</td>\n",
       "      <td>0</td>\n",
       "      <td>0.0</td>\n",
       "      <td>1</td>\n",
       "      <td>0</td>\n",
       "      <td>1</td>\n",
       "      <td>0</td>\n",
       "      <td>1.0</td>\n",
       "      <td>2</td>\n",
       "      <td>2</td>\n",
       "      <td>0</td>\n",
       "    </tr>\n",
       "    <tr>\n",
       "      <th>3</th>\n",
       "      <td>los angeles</td>\n",
       "      <td>15</td>\n",
       "      <td>0</td>\n",
       "      <td>0.0</td>\n",
       "      <td>0</td>\n",
       "      <td>0</td>\n",
       "      <td>0</td>\n",
       "      <td>0</td>\n",
       "      <td>1.0</td>\n",
       "      <td>2</td>\n",
       "      <td>3</td>\n",
       "      <td>0</td>\n",
       "    </tr>\n",
       "    <tr>\n",
       "      <th>4</th>\n",
       "      <td>los angeles</td>\n",
       "      <td>17</td>\n",
       "      <td>2</td>\n",
       "      <td>0.0</td>\n",
       "      <td>2</td>\n",
       "      <td>2</td>\n",
       "      <td>0</td>\n",
       "      <td>0</td>\n",
       "      <td>1.0</td>\n",
       "      <td>0</td>\n",
       "      <td>3</td>\n",
       "      <td>0</td>\n",
       "    </tr>\n",
       "  </tbody>\n",
       "</table>\n",
       "</div>"
      ],
      "text/plain": [
       "  county_location  collision_time  population  alcohol_involved  weather_1  \\\n",
       "0          fresno              17           0               0.0          0   \n",
       "1       del norte               1           1               0.0          0   \n",
       "2     los angeles              10           0               0.0          1   \n",
       "3     los angeles              15           0               0.0          0   \n",
       "4     los angeles              17           2               0.0          2   \n",
       "\n",
       "   lighting  road_surface  road_condition_1  state_highway_indicator  \\\n",
       "0         0             0                 0                      0.0   \n",
       "1         1             0                 0                      1.0   \n",
       "2         0             1                 0                      1.0   \n",
       "3         0             0                 0                      1.0   \n",
       "4         2             0                 0                      1.0   \n",
       "\n",
       "   type_of_collision  party_count  collision_severity  \n",
       "0                  0            2                   0  \n",
       "1                  1            1                   0  \n",
       "2                  2            2                   0  \n",
       "3                  2            3                   0  \n",
       "4                  0            3                   0  "
      ]
     },
     "execution_count": 28,
     "metadata": {},
     "output_type": "execute_result"
    }
   ],
   "source": [
    "crashes_encoded.head()"
   ]
  },
  {
   "cell_type": "code",
   "execution_count": 29,
   "metadata": {},
   "outputs": [
    {
     "data": {
      "text/html": [
       "<div>\n",
       "<style scoped>\n",
       "    .dataframe tbody tr th:only-of-type {\n",
       "        vertical-align: middle;\n",
       "    }\n",
       "\n",
       "    .dataframe tbody tr th {\n",
       "        vertical-align: top;\n",
       "    }\n",
       "\n",
       "    .dataframe thead th {\n",
       "        text-align: right;\n",
       "    }\n",
       "</style>\n",
       "<table border=\"1\" class=\"dataframe\">\n",
       "  <thead>\n",
       "    <tr style=\"text-align: right;\">\n",
       "      <th></th>\n",
       "      <th>county_location</th>\n",
       "      <th>collision_time</th>\n",
       "      <th>population</th>\n",
       "      <th>alcohol_involved</th>\n",
       "      <th>weather_1</th>\n",
       "      <th>lighting</th>\n",
       "      <th>road_surface</th>\n",
       "      <th>road_condition_1</th>\n",
       "      <th>state_highway_indicator</th>\n",
       "      <th>type_of_collision</th>\n",
       "      <th>party_count</th>\n",
       "      <th>collision_severity</th>\n",
       "    </tr>\n",
       "  </thead>\n",
       "  <tbody>\n",
       "    <tr>\n",
       "      <th>25</th>\n",
       "      <td>los angeles</td>\n",
       "      <td>15</td>\n",
       "      <td>3</td>\n",
       "      <td>1.0</td>\n",
       "      <td>0</td>\n",
       "      <td>0</td>\n",
       "      <td>0</td>\n",
       "      <td>0</td>\n",
       "      <td>0.0</td>\n",
       "      <td>4</td>\n",
       "      <td>4</td>\n",
       "      <td>2</td>\n",
       "    </tr>\n",
       "    <tr>\n",
       "      <th>30</th>\n",
       "      <td>los angeles</td>\n",
       "      <td>13</td>\n",
       "      <td>0</td>\n",
       "      <td>0.0</td>\n",
       "      <td>0</td>\n",
       "      <td>0</td>\n",
       "      <td>0</td>\n",
       "      <td>0</td>\n",
       "      <td>1.0</td>\n",
       "      <td>1</td>\n",
       "      <td>1</td>\n",
       "      <td>3</td>\n",
       "    </tr>\n",
       "    <tr>\n",
       "      <th>72</th>\n",
       "      <td>los angeles</td>\n",
       "      <td>17</td>\n",
       "      <td>5</td>\n",
       "      <td>1.0</td>\n",
       "      <td>0</td>\n",
       "      <td>0</td>\n",
       "      <td>0</td>\n",
       "      <td>0</td>\n",
       "      <td>0.0</td>\n",
       "      <td>4</td>\n",
       "      <td>2</td>\n",
       "      <td>2</td>\n",
       "    </tr>\n",
       "    <tr>\n",
       "      <th>78</th>\n",
       "      <td>los angeles</td>\n",
       "      <td>8</td>\n",
       "      <td>5</td>\n",
       "      <td>0.0</td>\n",
       "      <td>0</td>\n",
       "      <td>0</td>\n",
       "      <td>0</td>\n",
       "      <td>0</td>\n",
       "      <td>0.0</td>\n",
       "      <td>4</td>\n",
       "      <td>2</td>\n",
       "      <td>3</td>\n",
       "    </tr>\n",
       "    <tr>\n",
       "      <th>93</th>\n",
       "      <td>los angeles</td>\n",
       "      <td>18</td>\n",
       "      <td>5</td>\n",
       "      <td>0.0</td>\n",
       "      <td>0</td>\n",
       "      <td>3</td>\n",
       "      <td>0</td>\n",
       "      <td>0</td>\n",
       "      <td>0.0</td>\n",
       "      <td>4</td>\n",
       "      <td>2</td>\n",
       "      <td>3</td>\n",
       "    </tr>\n",
       "    <tr>\n",
       "      <th>...</th>\n",
       "      <td>...</td>\n",
       "      <td>...</td>\n",
       "      <td>...</td>\n",
       "      <td>...</td>\n",
       "      <td>...</td>\n",
       "      <td>...</td>\n",
       "      <td>...</td>\n",
       "      <td>...</td>\n",
       "      <td>...</td>\n",
       "      <td>...</td>\n",
       "      <td>...</td>\n",
       "      <td>...</td>\n",
       "    </tr>\n",
       "    <tr>\n",
       "      <th>426209</th>\n",
       "      <td>san bernardino</td>\n",
       "      <td>18</td>\n",
       "      <td>5</td>\n",
       "      <td>1.0</td>\n",
       "      <td>0</td>\n",
       "      <td>3</td>\n",
       "      <td>0</td>\n",
       "      <td>0</td>\n",
       "      <td>0.0</td>\n",
       "      <td>4</td>\n",
       "      <td>2</td>\n",
       "      <td>3</td>\n",
       "    </tr>\n",
       "    <tr>\n",
       "      <th>426212</th>\n",
       "      <td>san bernardino</td>\n",
       "      <td>7</td>\n",
       "      <td>5</td>\n",
       "      <td>0.0</td>\n",
       "      <td>2</td>\n",
       "      <td>0</td>\n",
       "      <td>1</td>\n",
       "      <td>0</td>\n",
       "      <td>1.0</td>\n",
       "      <td>1</td>\n",
       "      <td>1</td>\n",
       "      <td>2</td>\n",
       "    </tr>\n",
       "    <tr>\n",
       "      <th>426213</th>\n",
       "      <td>san bernardino</td>\n",
       "      <td>18</td>\n",
       "      <td>5</td>\n",
       "      <td>0.0</td>\n",
       "      <td>0</td>\n",
       "      <td>3</td>\n",
       "      <td>0</td>\n",
       "      <td>0</td>\n",
       "      <td>0.0</td>\n",
       "      <td>3</td>\n",
       "      <td>2</td>\n",
       "      <td>2</td>\n",
       "    </tr>\n",
       "    <tr>\n",
       "      <th>426215</th>\n",
       "      <td>mendocino</td>\n",
       "      <td>11</td>\n",
       "      <td>1</td>\n",
       "      <td>0.0</td>\n",
       "      <td>0</td>\n",
       "      <td>0</td>\n",
       "      <td>0</td>\n",
       "      <td>0</td>\n",
       "      <td>1.0</td>\n",
       "      <td>4</td>\n",
       "      <td>2</td>\n",
       "      <td>3</td>\n",
       "    </tr>\n",
       "    <tr>\n",
       "      <th>426225</th>\n",
       "      <td>san bernardino</td>\n",
       "      <td>9</td>\n",
       "      <td>5</td>\n",
       "      <td>0.0</td>\n",
       "      <td>0</td>\n",
       "      <td>0</td>\n",
       "      <td>0</td>\n",
       "      <td>0</td>\n",
       "      <td>0.0</td>\n",
       "      <td>0</td>\n",
       "      <td>3</td>\n",
       "      <td>3</td>\n",
       "    </tr>\n",
       "  </tbody>\n",
       "</table>\n",
       "<p>61077 rows × 12 columns</p>\n",
       "</div>"
      ],
      "text/plain": [
       "       county_location  collision_time  population  alcohol_involved  \\\n",
       "25         los angeles              15           3               1.0   \n",
       "30         los angeles              13           0               0.0   \n",
       "72         los angeles              17           5               1.0   \n",
       "78         los angeles               8           5               0.0   \n",
       "93         los angeles              18           5               0.0   \n",
       "...                ...             ...         ...               ...   \n",
       "426209  san bernardino              18           5               1.0   \n",
       "426212  san bernardino               7           5               0.0   \n",
       "426213  san bernardino              18           5               0.0   \n",
       "426215       mendocino              11           1               0.0   \n",
       "426225  san bernardino               9           5               0.0   \n",
       "\n",
       "        weather_1  lighting  road_surface  road_condition_1  \\\n",
       "25              0         0             0                 0   \n",
       "30              0         0             0                 0   \n",
       "72              0         0             0                 0   \n",
       "78              0         0             0                 0   \n",
       "93              0         3             0                 0   \n",
       "...           ...       ...           ...               ...   \n",
       "426209          0         3             0                 0   \n",
       "426212          2         0             1                 0   \n",
       "426213          0         3             0                 0   \n",
       "426215          0         0             0                 0   \n",
       "426225          0         0             0                 0   \n",
       "\n",
       "        state_highway_indicator  type_of_collision  party_count  \\\n",
       "25                          0.0                  4            4   \n",
       "30                          1.0                  1            1   \n",
       "72                          0.0                  4            2   \n",
       "78                          0.0                  4            2   \n",
       "93                          0.0                  4            2   \n",
       "...                         ...                ...          ...   \n",
       "426209                      0.0                  4            2   \n",
       "426212                      1.0                  1            1   \n",
       "426213                      0.0                  3            2   \n",
       "426215                      1.0                  4            2   \n",
       "426225                      0.0                  0            3   \n",
       "\n",
       "        collision_severity  \n",
       "25                       2  \n",
       "30                       3  \n",
       "72                       2  \n",
       "78                       3  \n",
       "93                       3  \n",
       "...                    ...  \n",
       "426209                   3  \n",
       "426212                   2  \n",
       "426213                   2  \n",
       "426215                   3  \n",
       "426225                   3  \n",
       "\n",
       "[61077 rows x 12 columns]"
      ]
     },
     "execution_count": 29,
     "metadata": {},
     "output_type": "execute_result"
    }
   ],
   "source": [
    "crashes_severe = crashes_encoded[crashes_encoded['collision_severity']>1]\n",
    "crashes_severe"
   ]
  },
  {
   "cell_type": "code",
   "execution_count": 30,
   "metadata": {},
   "outputs": [
    {
     "data": {
      "text/plain": [
       "alcohol_involved\n",
       "0.0    49446\n",
       "1.0    11631\n",
       "Name: alcohol_involved, dtype: int64"
      ]
     },
     "execution_count": 30,
     "metadata": {},
     "output_type": "execute_result"
    }
   ],
   "source": [
    "crashes_alc_severe = crashes_severe.groupby(['alcohol_involved'])['alcohol_involved'].count()\n",
    "crashes_alc_severe"
   ]
  },
  {
   "cell_type": "code",
   "execution_count": 31,
   "metadata": {},
   "outputs": [
    {
     "name": "stdout",
     "output_type": "stream",
     "text": [
      "percent of severe accidents involving alcohol : 0.24%\n"
     ]
    },
    {
     "data": {
      "image/png": "[encoded data removed]",
      "text/plain": [
       "<Figure size 432x288 with 1 Axes>"
      ]
     },
     "metadata": {
      "needs_background": "light"
     },
     "output_type": "display_data"
    }
   ],
   "source": [
    "crashes_alc_severe.plot(kind='bar', title='Amount of severe crashes : Alcohol involvement');\n",
    "plt.ylabel('Frequency');\n",
    "print('percent of severe accidents involving alcohol : '\n",
    "      + str(round(crashes_alc_severe[1]/crashes_alc_severe[0], 2)) + '%')"
   ]
  },
  {
   "cell_type": "code",
   "execution_count": 32,
   "metadata": {
    "scrolled": true
   },
   "outputs": [
    {
     "data": {
      "text/html": [
       "<div>\n",
       "<style scoped>\n",
       "    .dataframe tbody tr th:only-of-type {\n",
       "        vertical-align: middle;\n",
       "    }\n",
       "\n",
       "    .dataframe tbody tr th {\n",
       "        vertical-align: top;\n",
       "    }\n",
       "\n",
       "    .dataframe thead th {\n",
       "        text-align: right;\n",
       "    }\n",
       "</style>\n",
       "<table border=\"1\" class=\"dataframe\">\n",
       "  <thead>\n",
       "    <tr style=\"text-align: right;\">\n",
       "      <th></th>\n",
       "      <th>county_location</th>\n",
       "      <th>collision_time</th>\n",
       "      <th>population</th>\n",
       "      <th>alcohol_involved</th>\n",
       "      <th>weather_1</th>\n",
       "      <th>lighting</th>\n",
       "      <th>road_surface</th>\n",
       "      <th>road_condition_1</th>\n",
       "      <th>state_highway_indicator</th>\n",
       "      <th>type_of_collision</th>\n",
       "      <th>party_count</th>\n",
       "      <th>collision_severity</th>\n",
       "    </tr>\n",
       "  </thead>\n",
       "  <tbody>\n",
       "    <tr>\n",
       "      <th>30</th>\n",
       "      <td>los angeles</td>\n",
       "      <td>13</td>\n",
       "      <td>0</td>\n",
       "      <td>0.0</td>\n",
       "      <td>0</td>\n",
       "      <td>0</td>\n",
       "      <td>0</td>\n",
       "      <td>0</td>\n",
       "      <td>1.0</td>\n",
       "      <td>1</td>\n",
       "      <td>1</td>\n",
       "      <td>3</td>\n",
       "    </tr>\n",
       "    <tr>\n",
       "      <th>99</th>\n",
       "      <td>san diego</td>\n",
       "      <td>5</td>\n",
       "      <td>3</td>\n",
       "      <td>1.0</td>\n",
       "      <td>0</td>\n",
       "      <td>1</td>\n",
       "      <td>0</td>\n",
       "      <td>0</td>\n",
       "      <td>1.0</td>\n",
       "      <td>7</td>\n",
       "      <td>1</td>\n",
       "      <td>3</td>\n",
       "    </tr>\n",
       "    <tr>\n",
       "      <th>121</th>\n",
       "      <td>san bernardino</td>\n",
       "      <td>2</td>\n",
       "      <td>5</td>\n",
       "      <td>1.0</td>\n",
       "      <td>0</td>\n",
       "      <td>3</td>\n",
       "      <td>0</td>\n",
       "      <td>0</td>\n",
       "      <td>1.0</td>\n",
       "      <td>1</td>\n",
       "      <td>1</td>\n",
       "      <td>4</td>\n",
       "    </tr>\n",
       "    <tr>\n",
       "      <th>123</th>\n",
       "      <td>san bernardino</td>\n",
       "      <td>13</td>\n",
       "      <td>5</td>\n",
       "      <td>0.0</td>\n",
       "      <td>0</td>\n",
       "      <td>0</td>\n",
       "      <td>0</td>\n",
       "      <td>0</td>\n",
       "      <td>1.0</td>\n",
       "      <td>1</td>\n",
       "      <td>2</td>\n",
       "      <td>4</td>\n",
       "    </tr>\n",
       "    <tr>\n",
       "      <th>126</th>\n",
       "      <td>sacramento</td>\n",
       "      <td>11</td>\n",
       "      <td>3</td>\n",
       "      <td>0.0</td>\n",
       "      <td>0</td>\n",
       "      <td>0</td>\n",
       "      <td>0</td>\n",
       "      <td>0</td>\n",
       "      <td>1.0</td>\n",
       "      <td>1</td>\n",
       "      <td>1</td>\n",
       "      <td>4</td>\n",
       "    </tr>\n",
       "    <tr>\n",
       "      <th>...</th>\n",
       "      <td>...</td>\n",
       "      <td>...</td>\n",
       "      <td>...</td>\n",
       "      <td>...</td>\n",
       "      <td>...</td>\n",
       "      <td>...</td>\n",
       "      <td>...</td>\n",
       "      <td>...</td>\n",
       "      <td>...</td>\n",
       "      <td>...</td>\n",
       "      <td>...</td>\n",
       "      <td>...</td>\n",
       "    </tr>\n",
       "    <tr>\n",
       "      <th>425852</th>\n",
       "      <td>san bernardino</td>\n",
       "      <td>13</td>\n",
       "      <td>5</td>\n",
       "      <td>0.0</td>\n",
       "      <td>2</td>\n",
       "      <td>0</td>\n",
       "      <td>1</td>\n",
       "      <td>0</td>\n",
       "      <td>1.0</td>\n",
       "      <td>7</td>\n",
       "      <td>1</td>\n",
       "      <td>3</td>\n",
       "    </tr>\n",
       "    <tr>\n",
       "      <th>425888</th>\n",
       "      <td>fresno</td>\n",
       "      <td>8</td>\n",
       "      <td>1</td>\n",
       "      <td>0.0</td>\n",
       "      <td>2</td>\n",
       "      <td>0</td>\n",
       "      <td>2</td>\n",
       "      <td>0</td>\n",
       "      <td>1.0</td>\n",
       "      <td>0</td>\n",
       "      <td>2</td>\n",
       "      <td>3</td>\n",
       "    </tr>\n",
       "    <tr>\n",
       "      <th>426053</th>\n",
       "      <td>san joaquin</td>\n",
       "      <td>9</td>\n",
       "      <td>5</td>\n",
       "      <td>0.0</td>\n",
       "      <td>0</td>\n",
       "      <td>0</td>\n",
       "      <td>0</td>\n",
       "      <td>0</td>\n",
       "      <td>1.0</td>\n",
       "      <td>4</td>\n",
       "      <td>3</td>\n",
       "      <td>3</td>\n",
       "    </tr>\n",
       "    <tr>\n",
       "      <th>426212</th>\n",
       "      <td>san bernardino</td>\n",
       "      <td>7</td>\n",
       "      <td>5</td>\n",
       "      <td>0.0</td>\n",
       "      <td>2</td>\n",
       "      <td>0</td>\n",
       "      <td>1</td>\n",
       "      <td>0</td>\n",
       "      <td>1.0</td>\n",
       "      <td>1</td>\n",
       "      <td>1</td>\n",
       "      <td>2</td>\n",
       "    </tr>\n",
       "    <tr>\n",
       "      <th>426215</th>\n",
       "      <td>mendocino</td>\n",
       "      <td>11</td>\n",
       "      <td>1</td>\n",
       "      <td>0.0</td>\n",
       "      <td>0</td>\n",
       "      <td>0</td>\n",
       "      <td>0</td>\n",
       "      <td>0</td>\n",
       "      <td>1.0</td>\n",
       "      <td>4</td>\n",
       "      <td>2</td>\n",
       "      <td>3</td>\n",
       "    </tr>\n",
       "  </tbody>\n",
       "</table>\n",
       "<p>19509 rows × 12 columns</p>\n",
       "</div>"
      ],
      "text/plain": [
       "       county_location  collision_time  population  alcohol_involved  \\\n",
       "30         los angeles              13           0               0.0   \n",
       "99           san diego               5           3               1.0   \n",
       "121     san bernardino               2           5               1.0   \n",
       "123     san bernardino              13           5               0.0   \n",
       "126         sacramento              11           3               0.0   \n",
       "...                ...             ...         ...               ...   \n",
       "425852  san bernardino              13           5               0.0   \n",
       "425888          fresno               8           1               0.0   \n",
       "426053     san joaquin               9           5               0.0   \n",
       "426212  san bernardino               7           5               0.0   \n",
       "426215       mendocino              11           1               0.0   \n",
       "\n",
       "        weather_1  lighting  road_surface  road_condition_1  \\\n",
       "30              0         0             0                 0   \n",
       "99              0         1             0                 0   \n",
       "121             0         3             0                 0   \n",
       "123             0         0             0                 0   \n",
       "126             0         0             0                 0   \n",
       "...           ...       ...           ...               ...   \n",
       "425852          2         0             1                 0   \n",
       "425888          2         0             2                 0   \n",
       "426053          0         0             0                 0   \n",
       "426212          2         0             1                 0   \n",
       "426215          0         0             0                 0   \n",
       "\n",
       "        state_highway_indicator  type_of_collision  party_count  \\\n",
       "30                          1.0                  1            1   \n",
       "99                          1.0                  7            1   \n",
       "121                         1.0                  1            1   \n",
       "123                         1.0                  1            2   \n",
       "126                         1.0                  1            1   \n",
       "...                         ...                ...          ...   \n",
       "425852                      1.0                  7            1   \n",
       "425888                      1.0                  0            2   \n",
       "426053                      1.0                  4            3   \n",
       "426212                      1.0                  1            1   \n",
       "426215                      1.0                  4            2   \n",
       "\n",
       "        collision_severity  \n",
       "30                       3  \n",
       "99                       3  \n",
       "121                      4  \n",
       "123                      4  \n",
       "126                      4  \n",
       "...                    ...  \n",
       "425852                   3  \n",
       "425888                   3  \n",
       "426053                   3  \n",
       "426212                   2  \n",
       "426215                   3  \n",
       "\n",
       "[19509 rows x 12 columns]"
      ]
     },
     "execution_count": 32,
     "metadata": {},
     "output_type": "execute_result"
    }
   ],
   "source": [
    "crashes_sh_severe = crashes_severe[crashes_severe['state_highway_indicator']==1]\n",
    "crashes_sh_severe"
   ]
  },
  {
   "cell_type": "code",
   "execution_count": 33,
   "metadata": {},
   "outputs": [
    {
     "data": {
      "text/plain": [
       "state_highway_indicator\n",
       "0.0    41568\n",
       "1.0    19509\n",
       "Name: state_highway_indicator, dtype: int64"
      ]
     },
     "execution_count": 33,
     "metadata": {},
     "output_type": "execute_result"
    }
   ],
   "source": [
    "crashes_sh_severe = crashes_severe.groupby(['state_highway_indicator'])['state_highway_indicator'].count()\n",
    "crashes_sh_severe"
   ]
  },
  {
   "cell_type": "code",
   "execution_count": 34,
   "metadata": {},
   "outputs": [
    {
     "name": "stdout",
     "output_type": "stream",
     "text": [
      "percent of severe accidents on State Highways : 0.47%\n"
     ]
    },
    {
     "data": {
      "image/png": "[encoded data removed]",
      "text/plain": [
       "<Figure size 432x288 with 1 Axes>"
      ]
     },
     "metadata": {
      "needs_background": "light"
     },
     "output_type": "display_data"
    }
   ],
   "source": [
    "crashes_sh_severe.plot(kind='bar', title='Amount of severe crashes : State Highway');\n",
    "print('percent of severe accidents on State Highways : '\n",
    "      + str(round(crashes_sh_severe[1]/crashes_sh_severe[0], 2)) + '%')"
   ]
  },
  {
   "cell_type": "code",
   "execution_count": 35,
   "metadata": {
    "scrolled": true
   },
   "outputs": [
    {
     "name": "stdout",
     "output_type": "stream",
     "text": [
      "['clear' 'raining' 'cloudy' 'fog' 'snowing' 'wind' 'other']\n"
     ]
    },
    {
     "data": {
      "image/png": "[encoded data removed]",
      "text/plain": [
       "<Figure size 432x288 with 1 Axes>"
      ]
     },
     "metadata": {
      "needs_background": "light"
     },
     "output_type": "display_data"
    }
   ],
   "source": [
    "#shows the most prevelant weather conditions during severe injuries are : rain and cloudy\n",
    "crashes_severe['weather_1'].value_counts().plot(kind='bar', title='Weather Conditions');\n",
    "print(crashes.weather_1.unique())"
   ]
  },
  {
   "cell_type": "code",
   "execution_count": 50,
   "metadata": {},
   "outputs": [
    {
     "data": {
      "text/plain": [
       "0.39602156495056257"
      ]
     },
     "execution_count": 50,
     "metadata": {},
     "output_type": "execute_result"
    }
   ],
   "source": [
    "(late_night_crashes['collision_severity'].value_counts()[1] + late_night_crashes['collision_severity'].value_counts()[2]) / late_night_crashes['collision_severity'].value_counts().sum()"
   ]
  },
  {
   "cell_type": "code",
   "execution_count": 54,
   "metadata": {},
   "outputs": [
    {
     "name": "stdout",
     "output_type": "stream",
     "text": [
      "percent of high rank accidents at night (after 7pm) : 40.0%\n"
     ]
    },
    {
     "data": {
      "image/png": "[encoded data removed]",
      "text/plain": [
       "<Figure size 432x288 with 1 Axes>"
      ]
     },
     "metadata": {
      "needs_background": "light"
     },
     "output_type": "display_data"
    }
   ],
   "source": [
    "late_night_crashes = crashes_encoded_severity[crashes_encoded_severity['collision_time'] >=18]\n",
    "late_night_crashes['collision_severity'].value_counts().plot(kind='bar', title='Night Crashes')\n",
    "print('percent of high rank accidents at night (after 7pm) : '\n",
    "      + str(round((late_night_crashes['collision_severity'].value_counts()[1] \n",
    "                   + late_night_crashes['collision_severity'].value_counts()[2]) \n",
    "                  / late_night_crashes['collision_severity'].value_counts().sum(), 2)*100) + '%')"
   ]
  },
  {
   "cell_type": "markdown",
   "metadata": {},
   "source": [
    "# Modeling\n",
    "-Random Forest"
   ]
  },
  {
   "cell_type": "code",
   "execution_count": 82,
   "metadata": {
    "scrolled": false
   },
   "outputs": [
    {
     "data": {
      "text/html": [
       "<div>\n",
       "<style scoped>\n",
       "    .dataframe tbody tr th:only-of-type {\n",
       "        vertical-align: middle;\n",
       "    }\n",
       "\n",
       "    .dataframe tbody tr th {\n",
       "        vertical-align: top;\n",
       "    }\n",
       "\n",
       "    .dataframe thead th {\n",
       "        text-align: right;\n",
       "    }\n",
       "</style>\n",
       "<table border=\"1\" class=\"dataframe\">\n",
       "  <thead>\n",
       "    <tr style=\"text-align: right;\">\n",
       "      <th></th>\n",
       "      <th>county_location</th>\n",
       "      <th>collision_time</th>\n",
       "      <th>population</th>\n",
       "      <th>alcohol_involved</th>\n",
       "      <th>weather_1</th>\n",
       "      <th>lighting</th>\n",
       "      <th>road_surface</th>\n",
       "      <th>road_condition_1</th>\n",
       "      <th>state_highway_indicator</th>\n",
       "      <th>type_of_collision</th>\n",
       "      <th>party_count</th>\n",
       "      <th>collision_severity</th>\n",
       "    </tr>\n",
       "  </thead>\n",
       "  <tbody>\n",
       "    <tr>\n",
       "      <th>0</th>\n",
       "      <td>fresno</td>\n",
       "      <td>17</td>\n",
       "      <td>0</td>\n",
       "      <td>0.0</td>\n",
       "      <td>0</td>\n",
       "      <td>0</td>\n",
       "      <td>0</td>\n",
       "      <td>0</td>\n",
       "      <td>0.0</td>\n",
       "      <td>0</td>\n",
       "      <td>2</td>\n",
       "      <td>0</td>\n",
       "    </tr>\n",
       "    <tr>\n",
       "      <th>1</th>\n",
       "      <td>del norte</td>\n",
       "      <td>1</td>\n",
       "      <td>1</td>\n",
       "      <td>0.0</td>\n",
       "      <td>0</td>\n",
       "      <td>1</td>\n",
       "      <td>0</td>\n",
       "      <td>0</td>\n",
       "      <td>1.0</td>\n",
       "      <td>1</td>\n",
       "      <td>1</td>\n",
       "      <td>0</td>\n",
       "    </tr>\n",
       "    <tr>\n",
       "      <th>2</th>\n",
       "      <td>los angeles</td>\n",
       "      <td>10</td>\n",
       "      <td>0</td>\n",
       "      <td>0.0</td>\n",
       "      <td>1</td>\n",
       "      <td>0</td>\n",
       "      <td>1</td>\n",
       "      <td>0</td>\n",
       "      <td>1.0</td>\n",
       "      <td>2</td>\n",
       "      <td>2</td>\n",
       "      <td>0</td>\n",
       "    </tr>\n",
       "    <tr>\n",
       "      <th>3</th>\n",
       "      <td>los angeles</td>\n",
       "      <td>15</td>\n",
       "      <td>0</td>\n",
       "      <td>0.0</td>\n",
       "      <td>0</td>\n",
       "      <td>0</td>\n",
       "      <td>0</td>\n",
       "      <td>0</td>\n",
       "      <td>1.0</td>\n",
       "      <td>2</td>\n",
       "      <td>3</td>\n",
       "      <td>0</td>\n",
       "    </tr>\n",
       "    <tr>\n",
       "      <th>4</th>\n",
       "      <td>los angeles</td>\n",
       "      <td>17</td>\n",
       "      <td>2</td>\n",
       "      <td>0.0</td>\n",
       "      <td>2</td>\n",
       "      <td>2</td>\n",
       "      <td>0</td>\n",
       "      <td>0</td>\n",
       "      <td>1.0</td>\n",
       "      <td>0</td>\n",
       "      <td>3</td>\n",
       "      <td>0</td>\n",
       "    </tr>\n",
       "    <tr>\n",
       "      <th>...</th>\n",
       "      <td>...</td>\n",
       "      <td>...</td>\n",
       "      <td>...</td>\n",
       "      <td>...</td>\n",
       "      <td>...</td>\n",
       "      <td>...</td>\n",
       "      <td>...</td>\n",
       "      <td>...</td>\n",
       "      <td>...</td>\n",
       "      <td>...</td>\n",
       "      <td>...</td>\n",
       "      <td>...</td>\n",
       "    </tr>\n",
       "    <tr>\n",
       "      <th>426223</th>\n",
       "      <td>san bernardino</td>\n",
       "      <td>8</td>\n",
       "      <td>5</td>\n",
       "      <td>0.0</td>\n",
       "      <td>2</td>\n",
       "      <td>0</td>\n",
       "      <td>0</td>\n",
       "      <td>0</td>\n",
       "      <td>0.0</td>\n",
       "      <td>0</td>\n",
       "      <td>2</td>\n",
       "      <td>1</td>\n",
       "    </tr>\n",
       "    <tr>\n",
       "      <th>426224</th>\n",
       "      <td>san bernardino</td>\n",
       "      <td>16</td>\n",
       "      <td>5</td>\n",
       "      <td>0.0</td>\n",
       "      <td>2</td>\n",
       "      <td>2</td>\n",
       "      <td>0</td>\n",
       "      <td>0</td>\n",
       "      <td>0.0</td>\n",
       "      <td>0</td>\n",
       "      <td>3</td>\n",
       "      <td>1</td>\n",
       "    </tr>\n",
       "    <tr>\n",
       "      <th>426225</th>\n",
       "      <td>san bernardino</td>\n",
       "      <td>9</td>\n",
       "      <td>5</td>\n",
       "      <td>0.0</td>\n",
       "      <td>0</td>\n",
       "      <td>0</td>\n",
       "      <td>0</td>\n",
       "      <td>0</td>\n",
       "      <td>0.0</td>\n",
       "      <td>0</td>\n",
       "      <td>3</td>\n",
       "      <td>1</td>\n",
       "    </tr>\n",
       "    <tr>\n",
       "      <th>426226</th>\n",
       "      <td>san bernardino</td>\n",
       "      <td>19</td>\n",
       "      <td>5</td>\n",
       "      <td>0.0</td>\n",
       "      <td>0</td>\n",
       "      <td>3</td>\n",
       "      <td>0</td>\n",
       "      <td>0</td>\n",
       "      <td>0.0</td>\n",
       "      <td>4</td>\n",
       "      <td>2</td>\n",
       "      <td>0</td>\n",
       "    </tr>\n",
       "    <tr>\n",
       "      <th>426227</th>\n",
       "      <td>san bernardino</td>\n",
       "      <td>11</td>\n",
       "      <td>5</td>\n",
       "      <td>0.0</td>\n",
       "      <td>0</td>\n",
       "      <td>0</td>\n",
       "      <td>0</td>\n",
       "      <td>0</td>\n",
       "      <td>0.0</td>\n",
       "      <td>0</td>\n",
       "      <td>2</td>\n",
       "      <td>0</td>\n",
       "    </tr>\n",
       "  </tbody>\n",
       "</table>\n",
       "<p>408816 rows × 12 columns</p>\n",
       "</div>"
      ],
      "text/plain": [
       "       county_location  collision_time  population  alcohol_involved  \\\n",
       "0               fresno              17           0               0.0   \n",
       "1            del norte               1           1               0.0   \n",
       "2          los angeles              10           0               0.0   \n",
       "3          los angeles              15           0               0.0   \n",
       "4          los angeles              17           2               0.0   \n",
       "...                ...             ...         ...               ...   \n",
       "426223  san bernardino               8           5               0.0   \n",
       "426224  san bernardino              16           5               0.0   \n",
       "426225  san bernardino               9           5               0.0   \n",
       "426226  san bernardino              19           5               0.0   \n",
       "426227  san bernardino              11           5               0.0   \n",
       "\n",
       "        weather_1  lighting  road_surface  road_condition_1  \\\n",
       "0               0         0             0                 0   \n",
       "1               0         1             0                 0   \n",
       "2               1         0             1                 0   \n",
       "3               0         0             0                 0   \n",
       "4               2         2             0                 0   \n",
       "...           ...       ...           ...               ...   \n",
       "426223          2         0             0                 0   \n",
       "426224          2         2             0                 0   \n",
       "426225          0         0             0                 0   \n",
       "426226          0         3             0                 0   \n",
       "426227          0         0             0                 0   \n",
       "\n",
       "        state_highway_indicator  type_of_collision  party_count  \\\n",
       "0                           0.0                  0            2   \n",
       "1                           1.0                  1            1   \n",
       "2                           1.0                  2            2   \n",
       "3                           1.0                  2            3   \n",
       "4                           1.0                  0            3   \n",
       "...                         ...                ...          ...   \n",
       "426223                      0.0                  0            2   \n",
       "426224                      0.0                  0            3   \n",
       "426225                      0.0                  0            3   \n",
       "426226                      0.0                  4            2   \n",
       "426227                      0.0                  0            2   \n",
       "\n",
       "        collision_severity  \n",
       "0                        0  \n",
       "1                        0  \n",
       "2                        0  \n",
       "3                        0  \n",
       "4                        0  \n",
       "...                    ...  \n",
       "426223                   1  \n",
       "426224                   1  \n",
       "426225                   1  \n",
       "426226                   0  \n",
       "426227                   0  \n",
       "\n",
       "[408816 rows x 12 columns]"
      ]
     },
     "execution_count": 82,
     "metadata": {},
     "output_type": "execute_result"
    }
   ],
   "source": [
    "crashes_encoded_severity"
   ]
  },
  {
   "cell_type": "code",
   "execution_count": 26,
   "metadata": {},
   "outputs": [],
   "source": [
    "#add: intersection, motor_vehicle_involved_with , side_of_highway , \n",
    "#add: location_type(contains intersection)\n",
    "crashes_model = df[[\"county_location\", \"collision_time\",\"population\",  'alcohol_involved',\"weather_1\", \"lighting\", \"road_surface\", \"road_condition_1\", \"state_highway_indicator\",\"type_of_collision\", \"party_count\", \"collision_severity\"]]\n"
   ]
  },
  {
   "cell_type": "code",
   "execution_count": 27,
   "metadata": {},
   "outputs": [
    {
     "name": "stderr",
     "output_type": "stream",
     "text": [
      "C:\\Users\\oband\\anaconda3\\lib\\site-packages\\ipykernel_launcher.py:1: SettingWithCopyWarning: \n",
      "A value is trying to be set on a copy of a slice from a DataFrame.\n",
      "Try using .loc[row_indexer,col_indexer] = value instead\n",
      "\n",
      "See the caveats in the documentation: https://pandas.pydata.org/pandas-docs/stable/user_guide/indexing.html#returning-a-view-versus-a-copy\n",
      "  \"\"\"Entry point for launching an IPython kernel.\n"
     ]
    }
   ],
   "source": [
    "crashes_model['alcohol_involved'] = crashes_model['alcohol_involved'].fillna(0)"
   ]
  },
  {
   "cell_type": "code",
   "execution_count": 28,
   "metadata": {},
   "outputs": [
    {
     "name": "stderr",
     "output_type": "stream",
     "text": [
      "C:\\Users\\oband\\anaconda3\\lib\\site-packages\\ipykernel_launcher.py:7: SettingWithCopyWarning: \n",
      "A value is trying to be set on a copy of a slice from a DataFrame\n",
      "\n",
      "See the caveats in the documentation: https://pandas.pydata.org/pandas-docs/stable/user_guide/indexing.html#returning-a-view-versus-a-copy\n",
      "  import sys\n"
     ]
    }
   ],
   "source": [
    "columns_to_encode = ['collision_severity','state_highway_indicator','population','type_of_collision']\n",
    "crashes_model_encoded = crashes_model.copy()\n",
    "def encodeCategorical(list_columns):\n",
    "    labelencoder = LabelEncoder()\n",
    "    for col in list_columns:\n",
    "        #drop na in original as well\n",
    "        crashes_model.dropna(subset=[col], inplace=True)\n",
    "        \n",
    "        crashes_model_encoded.dropna(subset=[col], inplace=True)\n",
    "        di = {}\n",
    "        for i in np.arange(len(crashes_model_encoded[col].unique())):\n",
    "            di[crashes_model_encoded[col].unique()[i]] = i \n",
    "        crashes_model_encoded.replace({col: di},inplace=True)\n",
    "            \n",
    "        #crashes_encoded[col] = labelencoder.fit_transform(crashes_encoded[col])\n",
    "encodeCategorical(columns_to_encode)"
   ]
  },
  {
   "cell_type": "code",
   "execution_count": 174,
   "metadata": {},
   "outputs": [
    {
     "name": "stderr",
     "output_type": "stream",
     "text": [
      "C:\\Users\\oband\\anaconda3\\lib\\site-packages\\ipykernel_launcher.py:2: SettingWithCopyWarning: \n",
      "A value is trying to be set on a copy of a slice from a DataFrame\n",
      "\n",
      "See the caveats in the documentation: https://pandas.pydata.org/pandas-docs/stable/user_guide/indexing.html#returning-a-view-versus-a-copy\n",
      "  \n",
      "C:\\Users\\oband\\anaconda3\\lib\\site-packages\\pandas\\core\\generic.py:5303: SettingWithCopyWarning: \n",
      "A value is trying to be set on a copy of a slice from a DataFrame.\n",
      "Try using .loc[row_indexer,col_indexer] = value instead\n",
      "\n",
      "See the caveats in the documentation: https://pandas.pydata.org/pandas-docs/stable/user_guide/indexing.html#returning-a-view-versus-a-copy\n",
      "  self[name] = value\n"
     ]
    }
   ],
   "source": [
    "#get hour out of collision time\n",
    "crashes_model.dropna(subset=['collision_time'], inplace=True)\n",
    "crashes_model_encoded.dropna(subset=['collision_time'], inplace=True)\n",
    "\n",
    "#crashes_encoded.dropna(subset=['collision_time'], inplace=True)\n",
    "times = []\n",
    "for full_time in crashes_model.collision_time:\n",
    "    times.append(int(full_time[:2]))\n",
    "crashes_model.collision_time = times\n",
    "crashes_model_encoded.collision_time = times\n",
    "    \n"
   ]
  },
  {
   "cell_type": "code",
   "execution_count": 175,
   "metadata": {
    "scrolled": true
   },
   "outputs": [
    {
     "data": {
      "text/plain": [
       "county_location               0\n",
       "collision_time                0\n",
       "population                    0\n",
       "alcohol_involved              0\n",
       "weather_1                  2040\n",
       "lighting                   2479\n",
       "road_surface               3774\n",
       "road_condition_1           3452\n",
       "state_highway_indicator       0\n",
       "type_of_collision             0\n",
       "party_count                   0\n",
       "collision_severity            0\n",
       "dtype: int64"
      ]
     },
     "execution_count": 175,
     "metadata": {},
     "output_type": "execute_result"
    }
   ],
   "source": [
    "crashes_model_encoded.isna().sum()"
   ]
  },
  {
   "cell_type": "code",
   "execution_count": 176,
   "metadata": {},
   "outputs": [
    {
     "name": "stderr",
     "output_type": "stream",
     "text": [
      "C:\\Users\\oband\\anaconda3\\lib\\site-packages\\ipykernel_launcher.py:3: SettingWithCopyWarning: \n",
      "A value is trying to be set on a copy of a slice from a DataFrame\n",
      "\n",
      "See the caveats in the documentation: https://pandas.pydata.org/pandas-docs/stable/user_guide/indexing.html#returning-a-view-versus-a-copy\n",
      "  This is separate from the ipykernel package so we can avoid doing imports until\n"
     ]
    },
    {
     "data": {
      "text/plain": [
       "county_location            0\n",
       "collision_time             0\n",
       "population                 0\n",
       "alcohol_involved           0\n",
       "weather_1                  0\n",
       "lighting                   0\n",
       "road_surface               0\n",
       "road_condition_1           0\n",
       "state_highway_indicator    0\n",
       "type_of_collision          0\n",
       "party_count                0\n",
       "collision_severity         0\n",
       "dtype: int64"
      ]
     },
     "execution_count": 176,
     "metadata": {},
     "output_type": "execute_result"
    }
   ],
   "source": [
    "drop_na_col = ['weather_1', 'lighting', 'road_surface', 'road_condition_1']\n",
    "for col in drop_na_col:\n",
    "    crashes_model.dropna(subset=[col], inplace=True)\n",
    "    crashes_model_encoded.dropna(subset=[col], inplace=True)\n",
    "crashes_model_encoded.isna().sum()"
   ]
  },
  {
   "cell_type": "code",
   "execution_count": 177,
   "metadata": {},
   "outputs": [
    {
     "data": {
      "text/plain": [
       "array([0, 1, 2], dtype=int64)"
      ]
     },
     "execution_count": 177,
     "metadata": {},
     "output_type": "execute_result"
    }
   ],
   "source": [
    "\n",
    "new_ranks = []\n",
    "crashes_model_encoded_severity = crashes_model_encoded.copy()\n",
    "for rank in crashes_model_encoded.collision_severity:\n",
    "    if (rank==1):\n",
    "        new_ranks.append(1)\n",
    "    elif (rank==2):\n",
    "        new_ranks.append(1)\n",
    "    elif (rank==3):\n",
    "        new_ranks.append(2)\n",
    "    elif (rank==4):\n",
    "        new_ranks.append(2)\n",
    "    else:\n",
    "        new_ranks.append(0)\n",
    "crashes_model_encoded_severity.collision_severity = new_ranks\n",
    "crashes_model_encoded_severity.collision_severity.unique()"
   ]
  },
  {
   "cell_type": "code",
   "execution_count": 38,
   "metadata": {},
   "outputs": [
    {
     "ename": "NameError",
     "evalue": "name 'crashes_model_encoded_severity' is not defined",
     "output_type": "error",
     "traceback": [
      "\u001b[1;31m---------------------------------------------------------------------------\u001b[0m",
      "\u001b[1;31mNameError\u001b[0m                                 Traceback (most recent call last)",
      "\u001b[1;32m<ipython-input-38-3f6e0f591764>\u001b[0m in \u001b[0;36m<module>\u001b[1;34m\u001b[0m\n\u001b[1;32m----> 1\u001b[1;33m \u001b[0mcrashes_model_encoded_severity\u001b[0m \u001b[1;33m=\u001b[0m \u001b[0mcrashes_model_encoded_severity\u001b[0m\u001b[1;33m[\u001b[0m\u001b[0mcrashes_model_encoded_severity\u001b[0m\u001b[1;33m[\u001b[0m\u001b[1;34m'road_condition_1'\u001b[0m\u001b[1;33m]\u001b[0m \u001b[1;33m!=\u001b[0m \u001b[1;34m'other'\u001b[0m\u001b[1;33m]\u001b[0m\u001b[1;33m\u001b[0m\u001b[1;33m\u001b[0m\u001b[0m\n\u001b[0m\u001b[0;32m      2\u001b[0m \u001b[0mcrashes_model_encoded_severity\u001b[0m \u001b[1;33m=\u001b[0m \u001b[0mcrashes_model_encoded_severity\u001b[0m\u001b[1;33m[\u001b[0m\u001b[0mcrashes_model_encoded_severity\u001b[0m\u001b[1;33m[\u001b[0m\u001b[1;34m'weather_1'\u001b[0m\u001b[1;33m]\u001b[0m \u001b[1;33m!=\u001b[0m \u001b[1;34m'other'\u001b[0m\u001b[1;33m]\u001b[0m\u001b[1;33m\u001b[0m\u001b[1;33m\u001b[0m\u001b[0m\n",
      "\u001b[1;31mNameError\u001b[0m: name 'crashes_model_encoded_severity' is not defined"
     ]
    }
   ],
   "source": [
    "crashes_model_encoded_severity = crashes_model_encoded_severity[crashes_model_encoded_severity['road_condition_1'] != 'other']\n",
    "crashes_model_encoded_severity = crashes_model_encoded_severity[crashes_model_encoded_severity['weather_1'] != 'other']"
   ]
  },
  {
   "cell_type": "code",
   "execution_count": 188,
   "metadata": {
    "scrolled": true
   },
   "outputs": [
    {
     "data": {
      "text/html": [
       "<div>\n",
       "<style scoped>\n",
       "    .dataframe tbody tr th:only-of-type {\n",
       "        vertical-align: middle;\n",
       "    }\n",
       "\n",
       "    .dataframe tbody tr th {\n",
       "        vertical-align: top;\n",
       "    }\n",
       "\n",
       "    .dataframe thead th {\n",
       "        text-align: right;\n",
       "    }\n",
       "</style>\n",
       "<table border=\"1\" class=\"dataframe\">\n",
       "  <thead>\n",
       "    <tr style=\"text-align: right;\">\n",
       "      <th></th>\n",
       "      <th>county_location</th>\n",
       "      <th>collision_time</th>\n",
       "      <th>population</th>\n",
       "      <th>alcohol_involved</th>\n",
       "      <th>weather_1</th>\n",
       "      <th>lighting</th>\n",
       "      <th>road_surface</th>\n",
       "      <th>road_condition_1</th>\n",
       "      <th>state_highway_indicator</th>\n",
       "      <th>type_of_collision</th>\n",
       "      <th>party_count</th>\n",
       "      <th>collision_severity</th>\n",
       "    </tr>\n",
       "  </thead>\n",
       "  <tbody>\n",
       "    <tr>\n",
       "      <th>0</th>\n",
       "      <td>fresno</td>\n",
       "      <td>17</td>\n",
       "      <td>0</td>\n",
       "      <td>0.0</td>\n",
       "      <td>clear</td>\n",
       "      <td>daylight</td>\n",
       "      <td>dry</td>\n",
       "      <td>normal</td>\n",
       "      <td>0.0</td>\n",
       "      <td>0</td>\n",
       "      <td>2</td>\n",
       "      <td>0</td>\n",
       "    </tr>\n",
       "    <tr>\n",
       "      <th>1</th>\n",
       "      <td>del norte</td>\n",
       "      <td>1</td>\n",
       "      <td>1</td>\n",
       "      <td>0.0</td>\n",
       "      <td>clear</td>\n",
       "      <td>dark with no street lights</td>\n",
       "      <td>dry</td>\n",
       "      <td>normal</td>\n",
       "      <td>1.0</td>\n",
       "      <td>1</td>\n",
       "      <td>1</td>\n",
       "      <td>0</td>\n",
       "    </tr>\n",
       "    <tr>\n",
       "      <th>2</th>\n",
       "      <td>los angeles</td>\n",
       "      <td>10</td>\n",
       "      <td>0</td>\n",
       "      <td>0.0</td>\n",
       "      <td>raining</td>\n",
       "      <td>daylight</td>\n",
       "      <td>wet</td>\n",
       "      <td>normal</td>\n",
       "      <td>1.0</td>\n",
       "      <td>2</td>\n",
       "      <td>2</td>\n",
       "      <td>0</td>\n",
       "    </tr>\n",
       "    <tr>\n",
       "      <th>3</th>\n",
       "      <td>los angeles</td>\n",
       "      <td>15</td>\n",
       "      <td>0</td>\n",
       "      <td>0.0</td>\n",
       "      <td>clear</td>\n",
       "      <td>daylight</td>\n",
       "      <td>dry</td>\n",
       "      <td>normal</td>\n",
       "      <td>1.0</td>\n",
       "      <td>2</td>\n",
       "      <td>3</td>\n",
       "      <td>0</td>\n",
       "    </tr>\n",
       "    <tr>\n",
       "      <th>4</th>\n",
       "      <td>los angeles</td>\n",
       "      <td>17</td>\n",
       "      <td>2</td>\n",
       "      <td>0.0</td>\n",
       "      <td>cloudy</td>\n",
       "      <td>dusk or dawn</td>\n",
       "      <td>dry</td>\n",
       "      <td>normal</td>\n",
       "      <td>1.0</td>\n",
       "      <td>0</td>\n",
       "      <td>3</td>\n",
       "      <td>0</td>\n",
       "    </tr>\n",
       "    <tr>\n",
       "      <th>...</th>\n",
       "      <td>...</td>\n",
       "      <td>...</td>\n",
       "      <td>...</td>\n",
       "      <td>...</td>\n",
       "      <td>...</td>\n",
       "      <td>...</td>\n",
       "      <td>...</td>\n",
       "      <td>...</td>\n",
       "      <td>...</td>\n",
       "      <td>...</td>\n",
       "      <td>...</td>\n",
       "      <td>...</td>\n",
       "    </tr>\n",
       "    <tr>\n",
       "      <th>426223</th>\n",
       "      <td>san bernardino</td>\n",
       "      <td>8</td>\n",
       "      <td>5</td>\n",
       "      <td>0.0</td>\n",
       "      <td>cloudy</td>\n",
       "      <td>daylight</td>\n",
       "      <td>dry</td>\n",
       "      <td>normal</td>\n",
       "      <td>0.0</td>\n",
       "      <td>0</td>\n",
       "      <td>2</td>\n",
       "      <td>1</td>\n",
       "    </tr>\n",
       "    <tr>\n",
       "      <th>426224</th>\n",
       "      <td>san bernardino</td>\n",
       "      <td>16</td>\n",
       "      <td>5</td>\n",
       "      <td>0.0</td>\n",
       "      <td>cloudy</td>\n",
       "      <td>dusk or dawn</td>\n",
       "      <td>dry</td>\n",
       "      <td>normal</td>\n",
       "      <td>0.0</td>\n",
       "      <td>0</td>\n",
       "      <td>3</td>\n",
       "      <td>1</td>\n",
       "    </tr>\n",
       "    <tr>\n",
       "      <th>426225</th>\n",
       "      <td>san bernardino</td>\n",
       "      <td>9</td>\n",
       "      <td>5</td>\n",
       "      <td>0.0</td>\n",
       "      <td>clear</td>\n",
       "      <td>daylight</td>\n",
       "      <td>dry</td>\n",
       "      <td>normal</td>\n",
       "      <td>0.0</td>\n",
       "      <td>0</td>\n",
       "      <td>3</td>\n",
       "      <td>2</td>\n",
       "    </tr>\n",
       "    <tr>\n",
       "      <th>426226</th>\n",
       "      <td>san bernardino</td>\n",
       "      <td>19</td>\n",
       "      <td>5</td>\n",
       "      <td>0.0</td>\n",
       "      <td>clear</td>\n",
       "      <td>dark with street lights</td>\n",
       "      <td>dry</td>\n",
       "      <td>normal</td>\n",
       "      <td>0.0</td>\n",
       "      <td>4</td>\n",
       "      <td>2</td>\n",
       "      <td>0</td>\n",
       "    </tr>\n",
       "    <tr>\n",
       "      <th>426227</th>\n",
       "      <td>san bernardino</td>\n",
       "      <td>11</td>\n",
       "      <td>5</td>\n",
       "      <td>0.0</td>\n",
       "      <td>clear</td>\n",
       "      <td>daylight</td>\n",
       "      <td>dry</td>\n",
       "      <td>normal</td>\n",
       "      <td>0.0</td>\n",
       "      <td>0</td>\n",
       "      <td>2</td>\n",
       "      <td>0</td>\n",
       "    </tr>\n",
       "  </tbody>\n",
       "</table>\n",
       "<p>408816 rows × 12 columns</p>\n",
       "</div>"
      ],
      "text/plain": [
       "       county_location  collision_time  population  alcohol_involved  \\\n",
       "0               fresno              17           0               0.0   \n",
       "1            del norte               1           1               0.0   \n",
       "2          los angeles              10           0               0.0   \n",
       "3          los angeles              15           0               0.0   \n",
       "4          los angeles              17           2               0.0   \n",
       "...                ...             ...         ...               ...   \n",
       "426223  san bernardino               8           5               0.0   \n",
       "426224  san bernardino              16           5               0.0   \n",
       "426225  san bernardino               9           5               0.0   \n",
       "426226  san bernardino              19           5               0.0   \n",
       "426227  san bernardino              11           5               0.0   \n",
       "\n",
       "       weather_1                    lighting road_surface road_condition_1  \\\n",
       "0          clear                    daylight          dry           normal   \n",
       "1          clear  dark with no street lights          dry           normal   \n",
       "2        raining                    daylight          wet           normal   \n",
       "3          clear                    daylight          dry           normal   \n",
       "4         cloudy                dusk or dawn          dry           normal   \n",
       "...          ...                         ...          ...              ...   \n",
       "426223    cloudy                    daylight          dry           normal   \n",
       "426224    cloudy                dusk or dawn          dry           normal   \n",
       "426225     clear                    daylight          dry           normal   \n",
       "426226     clear     dark with street lights          dry           normal   \n",
       "426227     clear                    daylight          dry           normal   \n",
       "\n",
       "        state_highway_indicator  type_of_collision  party_count  \\\n",
       "0                           0.0                  0            2   \n",
       "1                           1.0                  1            1   \n",
       "2                           1.0                  2            2   \n",
       "3                           1.0                  2            3   \n",
       "4                           1.0                  0            3   \n",
       "...                         ...                ...          ...   \n",
       "426223                      0.0                  0            2   \n",
       "426224                      0.0                  0            3   \n",
       "426225                      0.0                  0            3   \n",
       "426226                      0.0                  4            2   \n",
       "426227                      0.0                  0            2   \n",
       "\n",
       "        collision_severity  \n",
       "0                        0  \n",
       "1                        0  \n",
       "2                        0  \n",
       "3                        0  \n",
       "4                        0  \n",
       "...                    ...  \n",
       "426223                   1  \n",
       "426224                   1  \n",
       "426225                   2  \n",
       "426226                   0  \n",
       "426227                   0  \n",
       "\n",
       "[408816 rows x 12 columns]"
      ]
     },
     "execution_count": 188,
     "metadata": {},
     "output_type": "execute_result"
    }
   ],
   "source": [
    "crashes_model_encoded_severity_ohe"
   ]
  },
  {
   "cell_type": "code",
   "execution_count": 191,
   "metadata": {},
   "outputs": [],
   "source": [
    "weather_ohe = pd.get_dummies(crashes_model_encoded_severity['weather_1'], prefix='weather')\n",
    "lighting_ohe = pd.get_dummies(crashes_model_encoded_severity['lighting'], prefix='lighting')\n",
    "road_surface_ohe = pd.get_dummies(crashes_model_encoded_severity['road_surface'], prefix='road_surface')\n",
    "road_condition_ohe = pd.get_dummies(crashes_model_encoded_severity['road_condition_1'], prefix='road_condition_1')\n",
    "county_location_ohe = pd.get_dummies(crashes_model_encoded_severity['county_location'], prefix='county_location')\n",
    "\n",
    "crashes_model_encoded_severity_ohe = pd.concat([crashes_model_encoded_severity, weather_ohe], axis=1)\n",
    "crashes_model_encoded_severity_ohe = pd.concat([crashes_model_encoded_severity_ohe, lighting_ohe], axis=1)\n",
    "crashes_model_encoded_severity_ohe = pd.concat([crashes_model_encoded_severity_ohe, road_surface_ohe], axis=1)\n",
    "crashes_model_encoded_severity_ohe = pd.concat([crashes_model_encoded_severity_ohe, road_condition_ohe], axis=1)\n",
    "crashes_model_encoded_severity_ohe = pd.concat([crashes_model_encoded_severity_ohe, county_location_ohe], axis=1)\n"
   ]
  },
  {
   "cell_type": "code",
   "execution_count": 193,
   "metadata": {
    "scrolled": true
   },
   "outputs": [
    {
     "data": {
      "text/html": [
       "<div>\n",
       "<style scoped>\n",
       "    .dataframe tbody tr th:only-of-type {\n",
       "        vertical-align: middle;\n",
       "    }\n",
       "\n",
       "    .dataframe tbody tr th {\n",
       "        vertical-align: top;\n",
       "    }\n",
       "\n",
       "    .dataframe thead th {\n",
       "        text-align: right;\n",
       "    }\n",
       "</style>\n",
       "<table border=\"1\" class=\"dataframe\">\n",
       "  <thead>\n",
       "    <tr style=\"text-align: right;\">\n",
       "      <th></th>\n",
       "      <th>collision_time</th>\n",
       "      <th>population</th>\n",
       "      <th>alcohol_involved</th>\n",
       "      <th>state_highway_indicator</th>\n",
       "      <th>type_of_collision</th>\n",
       "      <th>party_count</th>\n",
       "      <th>collision_severity</th>\n",
       "      <th>weather_clear</th>\n",
       "      <th>weather_cloudy</th>\n",
       "      <th>weather_fog</th>\n",
       "      <th>...</th>\n",
       "      <th>county_location_sonoma</th>\n",
       "      <th>county_location_stanislaus</th>\n",
       "      <th>county_location_sutter</th>\n",
       "      <th>county_location_tehama</th>\n",
       "      <th>county_location_trinity</th>\n",
       "      <th>county_location_tulare</th>\n",
       "      <th>county_location_tuolumne</th>\n",
       "      <th>county_location_ventura</th>\n",
       "      <th>county_location_yolo</th>\n",
       "      <th>county_location_yuba</th>\n",
       "    </tr>\n",
       "  </thead>\n",
       "  <tbody>\n",
       "    <tr>\n",
       "      <th>0</th>\n",
       "      <td>17</td>\n",
       "      <td>0</td>\n",
       "      <td>0.0</td>\n",
       "      <td>0.0</td>\n",
       "      <td>0</td>\n",
       "      <td>2</td>\n",
       "      <td>0</td>\n",
       "      <td>1</td>\n",
       "      <td>0</td>\n",
       "      <td>0</td>\n",
       "      <td>...</td>\n",
       "      <td>0</td>\n",
       "      <td>0</td>\n",
       "      <td>0</td>\n",
       "      <td>0</td>\n",
       "      <td>0</td>\n",
       "      <td>0</td>\n",
       "      <td>0</td>\n",
       "      <td>0</td>\n",
       "      <td>0</td>\n",
       "      <td>0</td>\n",
       "    </tr>\n",
       "    <tr>\n",
       "      <th>1</th>\n",
       "      <td>1</td>\n",
       "      <td>1</td>\n",
       "      <td>0.0</td>\n",
       "      <td>1.0</td>\n",
       "      <td>1</td>\n",
       "      <td>1</td>\n",
       "      <td>0</td>\n",
       "      <td>1</td>\n",
       "      <td>0</td>\n",
       "      <td>0</td>\n",
       "      <td>...</td>\n",
       "      <td>0</td>\n",
       "      <td>0</td>\n",
       "      <td>0</td>\n",
       "      <td>0</td>\n",
       "      <td>0</td>\n",
       "      <td>0</td>\n",
       "      <td>0</td>\n",
       "      <td>0</td>\n",
       "      <td>0</td>\n",
       "      <td>0</td>\n",
       "    </tr>\n",
       "    <tr>\n",
       "      <th>2</th>\n",
       "      <td>10</td>\n",
       "      <td>0</td>\n",
       "      <td>0.0</td>\n",
       "      <td>1.0</td>\n",
       "      <td>2</td>\n",
       "      <td>2</td>\n",
       "      <td>0</td>\n",
       "      <td>0</td>\n",
       "      <td>0</td>\n",
       "      <td>0</td>\n",
       "      <td>...</td>\n",
       "      <td>0</td>\n",
       "      <td>0</td>\n",
       "      <td>0</td>\n",
       "      <td>0</td>\n",
       "      <td>0</td>\n",
       "      <td>0</td>\n",
       "      <td>0</td>\n",
       "      <td>0</td>\n",
       "      <td>0</td>\n",
       "      <td>0</td>\n",
       "    </tr>\n",
       "    <tr>\n",
       "      <th>3</th>\n",
       "      <td>15</td>\n",
       "      <td>0</td>\n",
       "      <td>0.0</td>\n",
       "      <td>1.0</td>\n",
       "      <td>2</td>\n",
       "      <td>3</td>\n",
       "      <td>0</td>\n",
       "      <td>1</td>\n",
       "      <td>0</td>\n",
       "      <td>0</td>\n",
       "      <td>...</td>\n",
       "      <td>0</td>\n",
       "      <td>0</td>\n",
       "      <td>0</td>\n",
       "      <td>0</td>\n",
       "      <td>0</td>\n",
       "      <td>0</td>\n",
       "      <td>0</td>\n",
       "      <td>0</td>\n",
       "      <td>0</td>\n",
       "      <td>0</td>\n",
       "    </tr>\n",
       "    <tr>\n",
       "      <th>4</th>\n",
       "      <td>17</td>\n",
       "      <td>2</td>\n",
       "      <td>0.0</td>\n",
       "      <td>1.0</td>\n",
       "      <td>0</td>\n",
       "      <td>3</td>\n",
       "      <td>0</td>\n",
       "      <td>0</td>\n",
       "      <td>1</td>\n",
       "      <td>0</td>\n",
       "      <td>...</td>\n",
       "      <td>0</td>\n",
       "      <td>0</td>\n",
       "      <td>0</td>\n",
       "      <td>0</td>\n",
       "      <td>0</td>\n",
       "      <td>0</td>\n",
       "      <td>0</td>\n",
       "      <td>0</td>\n",
       "      <td>0</td>\n",
       "      <td>0</td>\n",
       "    </tr>\n",
       "    <tr>\n",
       "      <th>...</th>\n",
       "      <td>...</td>\n",
       "      <td>...</td>\n",
       "      <td>...</td>\n",
       "      <td>...</td>\n",
       "      <td>...</td>\n",
       "      <td>...</td>\n",
       "      <td>...</td>\n",
       "      <td>...</td>\n",
       "      <td>...</td>\n",
       "      <td>...</td>\n",
       "      <td>...</td>\n",
       "      <td>...</td>\n",
       "      <td>...</td>\n",
       "      <td>...</td>\n",
       "      <td>...</td>\n",
       "      <td>...</td>\n",
       "      <td>...</td>\n",
       "      <td>...</td>\n",
       "      <td>...</td>\n",
       "      <td>...</td>\n",
       "      <td>...</td>\n",
       "    </tr>\n",
       "    <tr>\n",
       "      <th>426223</th>\n",
       "      <td>8</td>\n",
       "      <td>5</td>\n",
       "      <td>0.0</td>\n",
       "      <td>0.0</td>\n",
       "      <td>0</td>\n",
       "      <td>2</td>\n",
       "      <td>1</td>\n",
       "      <td>0</td>\n",
       "      <td>1</td>\n",
       "      <td>0</td>\n",
       "      <td>...</td>\n",
       "      <td>0</td>\n",
       "      <td>0</td>\n",
       "      <td>0</td>\n",
       "      <td>0</td>\n",
       "      <td>0</td>\n",
       "      <td>0</td>\n",
       "      <td>0</td>\n",
       "      <td>0</td>\n",
       "      <td>0</td>\n",
       "      <td>0</td>\n",
       "    </tr>\n",
       "    <tr>\n",
       "      <th>426224</th>\n",
       "      <td>16</td>\n",
       "      <td>5</td>\n",
       "      <td>0.0</td>\n",
       "      <td>0.0</td>\n",
       "      <td>0</td>\n",
       "      <td>3</td>\n",
       "      <td>1</td>\n",
       "      <td>0</td>\n",
       "      <td>1</td>\n",
       "      <td>0</td>\n",
       "      <td>...</td>\n",
       "      <td>0</td>\n",
       "      <td>0</td>\n",
       "      <td>0</td>\n",
       "      <td>0</td>\n",
       "      <td>0</td>\n",
       "      <td>0</td>\n",
       "      <td>0</td>\n",
       "      <td>0</td>\n",
       "      <td>0</td>\n",
       "      <td>0</td>\n",
       "    </tr>\n",
       "    <tr>\n",
       "      <th>426225</th>\n",
       "      <td>9</td>\n",
       "      <td>5</td>\n",
       "      <td>0.0</td>\n",
       "      <td>0.0</td>\n",
       "      <td>0</td>\n",
       "      <td>3</td>\n",
       "      <td>2</td>\n",
       "      <td>1</td>\n",
       "      <td>0</td>\n",
       "      <td>0</td>\n",
       "      <td>...</td>\n",
       "      <td>0</td>\n",
       "      <td>0</td>\n",
       "      <td>0</td>\n",
       "      <td>0</td>\n",
       "      <td>0</td>\n",
       "      <td>0</td>\n",
       "      <td>0</td>\n",
       "      <td>0</td>\n",
       "      <td>0</td>\n",
       "      <td>0</td>\n",
       "    </tr>\n",
       "    <tr>\n",
       "      <th>426226</th>\n",
       "      <td>19</td>\n",
       "      <td>5</td>\n",
       "      <td>0.0</td>\n",
       "      <td>0.0</td>\n",
       "      <td>4</td>\n",
       "      <td>2</td>\n",
       "      <td>0</td>\n",
       "      <td>1</td>\n",
       "      <td>0</td>\n",
       "      <td>0</td>\n",
       "      <td>...</td>\n",
       "      <td>0</td>\n",
       "      <td>0</td>\n",
       "      <td>0</td>\n",
       "      <td>0</td>\n",
       "      <td>0</td>\n",
       "      <td>0</td>\n",
       "      <td>0</td>\n",
       "      <td>0</td>\n",
       "      <td>0</td>\n",
       "      <td>0</td>\n",
       "    </tr>\n",
       "    <tr>\n",
       "      <th>426227</th>\n",
       "      <td>11</td>\n",
       "      <td>5</td>\n",
       "      <td>0.0</td>\n",
       "      <td>0.0</td>\n",
       "      <td>0</td>\n",
       "      <td>2</td>\n",
       "      <td>0</td>\n",
       "      <td>1</td>\n",
       "      <td>0</td>\n",
       "      <td>0</td>\n",
       "      <td>...</td>\n",
       "      <td>0</td>\n",
       "      <td>0</td>\n",
       "      <td>0</td>\n",
       "      <td>0</td>\n",
       "      <td>0</td>\n",
       "      <td>0</td>\n",
       "      <td>0</td>\n",
       "      <td>0</td>\n",
       "      <td>0</td>\n",
       "      <td>0</td>\n",
       "    </tr>\n",
       "  </tbody>\n",
       "</table>\n",
       "<p>408816 rows × 87 columns</p>\n",
       "</div>"
      ],
      "text/plain": [
       "        collision_time  population  alcohol_involved  state_highway_indicator  \\\n",
       "0                   17           0               0.0                      0.0   \n",
       "1                    1           1               0.0                      1.0   \n",
       "2                   10           0               0.0                      1.0   \n",
       "3                   15           0               0.0                      1.0   \n",
       "4                   17           2               0.0                      1.0   \n",
       "...                ...         ...               ...                      ...   \n",
       "426223               8           5               0.0                      0.0   \n",
       "426224              16           5               0.0                      0.0   \n",
       "426225               9           5               0.0                      0.0   \n",
       "426226              19           5               0.0                      0.0   \n",
       "426227              11           5               0.0                      0.0   \n",
       "\n",
       "        type_of_collision  party_count  collision_severity  weather_clear  \\\n",
       "0                       0            2                   0              1   \n",
       "1                       1            1                   0              1   \n",
       "2                       2            2                   0              0   \n",
       "3                       2            3                   0              1   \n",
       "4                       0            3                   0              0   \n",
       "...                   ...          ...                 ...            ...   \n",
       "426223                  0            2                   1              0   \n",
       "426224                  0            3                   1              0   \n",
       "426225                  0            3                   2              1   \n",
       "426226                  4            2                   0              1   \n",
       "426227                  0            2                   0              1   \n",
       "\n",
       "        weather_cloudy  weather_fog  ...  county_location_sonoma  \\\n",
       "0                    0            0  ...                       0   \n",
       "1                    0            0  ...                       0   \n",
       "2                    0            0  ...                       0   \n",
       "3                    0            0  ...                       0   \n",
       "4                    1            0  ...                       0   \n",
       "...                ...          ...  ...                     ...   \n",
       "426223               1            0  ...                       0   \n",
       "426224               1            0  ...                       0   \n",
       "426225               0            0  ...                       0   \n",
       "426226               0            0  ...                       0   \n",
       "426227               0            0  ...                       0   \n",
       "\n",
       "        county_location_stanislaus  county_location_sutter  \\\n",
       "0                                0                       0   \n",
       "1                                0                       0   \n",
       "2                                0                       0   \n",
       "3                                0                       0   \n",
       "4                                0                       0   \n",
       "...                            ...                     ...   \n",
       "426223                           0                       0   \n",
       "426224                           0                       0   \n",
       "426225                           0                       0   \n",
       "426226                           0                       0   \n",
       "426227                           0                       0   \n",
       "\n",
       "        county_location_tehama  county_location_trinity  \\\n",
       "0                            0                        0   \n",
       "1                            0                        0   \n",
       "2                            0                        0   \n",
       "3                            0                        0   \n",
       "4                            0                        0   \n",
       "...                        ...                      ...   \n",
       "426223                       0                        0   \n",
       "426224                       0                        0   \n",
       "426225                       0                        0   \n",
       "426226                       0                        0   \n",
       "426227                       0                        0   \n",
       "\n",
       "        county_location_tulare  county_location_tuolumne  \\\n",
       "0                            0                         0   \n",
       "1                            0                         0   \n",
       "2                            0                         0   \n",
       "3                            0                         0   \n",
       "4                            0                         0   \n",
       "...                        ...                       ...   \n",
       "426223                       0                         0   \n",
       "426224                       0                         0   \n",
       "426225                       0                         0   \n",
       "426226                       0                         0   \n",
       "426227                       0                         0   \n",
       "\n",
       "        county_location_ventura  county_location_yolo  county_location_yuba  \n",
       "0                             0                     0                     0  \n",
       "1                             0                     0                     0  \n",
       "2                             0                     0                     0  \n",
       "3                             0                     0                     0  \n",
       "4                             0                     0                     0  \n",
       "...                         ...                   ...                   ...  \n",
       "426223                        0                     0                     0  \n",
       "426224                        0                     0                     0  \n",
       "426225                        0                     0                     0  \n",
       "426226                        0                     0                     0  \n",
       "426227                        0                     0                     0  \n",
       "\n",
       "[408816 rows x 87 columns]"
      ]
     },
     "execution_count": 193,
     "metadata": {},
     "output_type": "execute_result"
    }
   ],
   "source": [
    "crashes_model_encoded_severity_ohe.drop(columns=['county_location', 'weather_1', 'lighting', 'road_surface', 'road_condition_1'], inplace=True)\n",
    "crashes_model_encoded_severity_ohe"
   ]
  },
  {
   "cell_type": "code",
   "execution_count": 71,
   "metadata": {},
   "outputs": [
    {
     "data": {
      "text/plain": [
       "property damage only    248250\n",
       "pain                     99850\n",
       "other injury             49024\n",
       "severe injury             8986\n",
       "fatal                     2706\n",
       "Name: collision_severity, dtype: int64"
      ]
     },
     "execution_count": 71,
     "metadata": {},
     "output_type": "execute_result"
    }
   ],
   "source": [
    "crashes.collision_severity.value_counts()"
   ]
  },
  {
   "cell_type": "code",
   "execution_count": 19,
   "metadata": {},
   "outputs": [],
   "source": [
    "import pandas as pd\n",
    "from sklearn import datasets, linear_model\n",
    "from sklearn.model_selection import train_test_split\n",
    "from matplotlib import pyplot as plt\n",
    "from sklearn.neural_network import MLPClassifier\n",
    "from sklearn.ensemble import RandomForestClassifier\n",
    "from sklearn.metrics import classification_report, confusion_matrix\n",
    "from sklearn.metrics import accuracy_score\n",
    "from sklearn import preprocessing"
   ]
  },
  {
   "cell_type": "code",
   "execution_count": 83,
   "metadata": {
    "scrolled": true
   },
   "outputs": [
    {
     "data": {
      "text/html": [
       "<div>\n",
       "<style scoped>\n",
       "    .dataframe tbody tr th:only-of-type {\n",
       "        vertical-align: middle;\n",
       "    }\n",
       "\n",
       "    .dataframe tbody tr th {\n",
       "        vertical-align: top;\n",
       "    }\n",
       "\n",
       "    .dataframe thead th {\n",
       "        text-align: right;\n",
       "    }\n",
       "</style>\n",
       "<table border=\"1\" class=\"dataframe\">\n",
       "  <thead>\n",
       "    <tr style=\"text-align: right;\">\n",
       "      <th></th>\n",
       "      <th>county_location</th>\n",
       "      <th>collision_time</th>\n",
       "      <th>population</th>\n",
       "      <th>alcohol_involved</th>\n",
       "      <th>weather_1</th>\n",
       "      <th>lighting</th>\n",
       "      <th>road_surface</th>\n",
       "      <th>road_condition_1</th>\n",
       "      <th>state_highway_indicator</th>\n",
       "      <th>type_of_collision</th>\n",
       "      <th>party_count</th>\n",
       "      <th>collision_severity</th>\n",
       "    </tr>\n",
       "  </thead>\n",
       "  <tbody>\n",
       "    <tr>\n",
       "      <th>2</th>\n",
       "      <td>los angeles</td>\n",
       "      <td>10</td>\n",
       "      <td>0</td>\n",
       "      <td>0.0</td>\n",
       "      <td>1</td>\n",
       "      <td>0</td>\n",
       "      <td>1</td>\n",
       "      <td>0</td>\n",
       "      <td>1.0</td>\n",
       "      <td>2</td>\n",
       "      <td>2</td>\n",
       "      <td>0</td>\n",
       "    </tr>\n",
       "    <tr>\n",
       "      <th>3</th>\n",
       "      <td>los angeles</td>\n",
       "      <td>15</td>\n",
       "      <td>0</td>\n",
       "      <td>0.0</td>\n",
       "      <td>0</td>\n",
       "      <td>0</td>\n",
       "      <td>0</td>\n",
       "      <td>0</td>\n",
       "      <td>1.0</td>\n",
       "      <td>2</td>\n",
       "      <td>3</td>\n",
       "      <td>0</td>\n",
       "    </tr>\n",
       "    <tr>\n",
       "      <th>4</th>\n",
       "      <td>los angeles</td>\n",
       "      <td>17</td>\n",
       "      <td>2</td>\n",
       "      <td>0.0</td>\n",
       "      <td>2</td>\n",
       "      <td>2</td>\n",
       "      <td>0</td>\n",
       "      <td>0</td>\n",
       "      <td>1.0</td>\n",
       "      <td>0</td>\n",
       "      <td>3</td>\n",
       "      <td>0</td>\n",
       "    </tr>\n",
       "    <tr>\n",
       "      <th>5</th>\n",
       "      <td>los angeles</td>\n",
       "      <td>21</td>\n",
       "      <td>0</td>\n",
       "      <td>0.0</td>\n",
       "      <td>0</td>\n",
       "      <td>1</td>\n",
       "      <td>0</td>\n",
       "      <td>0</td>\n",
       "      <td>1.0</td>\n",
       "      <td>0</td>\n",
       "      <td>2</td>\n",
       "      <td>0</td>\n",
       "    </tr>\n",
       "    <tr>\n",
       "      <th>6</th>\n",
       "      <td>los angeles</td>\n",
       "      <td>20</td>\n",
       "      <td>0</td>\n",
       "      <td>0.0</td>\n",
       "      <td>0</td>\n",
       "      <td>1</td>\n",
       "      <td>0</td>\n",
       "      <td>0</td>\n",
       "      <td>1.0</td>\n",
       "      <td>0</td>\n",
       "      <td>2</td>\n",
       "      <td>1</td>\n",
       "    </tr>\n",
       "  </tbody>\n",
       "</table>\n",
       "</div>"
      ],
      "text/plain": [
       "  county_location  collision_time  population  alcohol_involved  weather_1  \\\n",
       "2     los angeles              10           0               0.0          1   \n",
       "3     los angeles              15           0               0.0          0   \n",
       "4     los angeles              17           2               0.0          2   \n",
       "5     los angeles              21           0               0.0          0   \n",
       "6     los angeles              20           0               0.0          0   \n",
       "\n",
       "   lighting  road_surface  road_condition_1  state_highway_indicator  \\\n",
       "2         0             1                 0                      1.0   \n",
       "3         0             0                 0                      1.0   \n",
       "4         2             0                 0                      1.0   \n",
       "5         1             0                 0                      1.0   \n",
       "6         1             0                 0                      1.0   \n",
       "\n",
       "   type_of_collision  party_count  collision_severity  \n",
       "2                  2            2                   0  \n",
       "3                  2            3                   0  \n",
       "4                  0            3                   0  \n",
       "5                  0            2                   0  \n",
       "6                  0            2                   1  "
      ]
     },
     "execution_count": 83,
     "metadata": {},
     "output_type": "execute_result"
    }
   ],
   "source": [
    "la_crashes_encoded = crashes_encoded_severity[crashes_encoded_severity.county_location == 'los angeles']\n",
    "la_crashes_encoded.head()"
   ]
  },
  {
   "cell_type": "code",
   "execution_count": 84,
   "metadata": {},
   "outputs": [
    {
     "data": {
      "text/plain": [
       "0.6648890325360913"
      ]
     },
     "execution_count": 84,
     "metadata": {},
     "output_type": "execute_result"
    }
   ],
   "source": [
    "y = la_crashes_encoded.collision_severity\n",
    "la_model = la_crashes_encoded.drop(columns=['collision_severity', 'county_location'])\n",
    "X_train, X_test, y_train, y_test = train_test_split(la_model, y, test_size=0.3)\n",
    "\n",
    "# Create a Random forest Classifier\n",
    "rf_clf = RandomForestClassifier(n_estimators = 100, random_state=42)\n",
    "# Train the model using the training sets\n",
    "rf_clf.fit(X_train, y_train)\n",
    "\n",
    "Y_pred_rf = rf_clf.predict(X_test)\n",
    "\n",
    "from sklearn.metrics import confusion_matrix, f1_score, accuracy_score\n",
    "# Display accuracy score\n",
    "accuracy_score(y_test, Y_pred_rf)"
   ]
  },
  {
   "cell_type": "code",
   "execution_count": 91,
   "metadata": {
    "scrolled": true
   },
   "outputs": [
    {
     "data": {
      "text/plain": [
       "0    248250\n",
       "1     99850\n",
       "3     49024\n",
       "2      8986\n",
       "4      2706\n",
       "Name: collision_severity, dtype: int64"
      ]
     },
     "execution_count": 91,
     "metadata": {},
     "output_type": "execute_result"
    }
   ],
   "source": [
    "crashes_encoded.collision_severity.value_counts()"
   ]
  },
  {
   "cell_type": "code",
   "execution_count": 94,
   "metadata": {},
   "outputs": [
    {
     "data": {
      "text/plain": [
       "0    348100\n",
       "1     60716\n",
       "Name: collision_severity, dtype: int64"
      ]
     },
     "execution_count": 94,
     "metadata": {},
     "output_type": "execute_result"
    }
   ],
   "source": [
    "crashes_encoded_2 = crashes_encoded.copy()\n",
    "new_rank = []\n",
    "for val in crashes_encoded.collision_severity:\n",
    "    if val == 0:\n",
    "        new_rank.append(0)\n",
    "    elif val == 1:\n",
    "        new_rank.append(0)\n",
    "    elif val == 2:\n",
    "        new_rank.append(1)\n",
    "    elif val == 3:\n",
    "        new_rank.append(1)\n",
    "    elif val == 4:\n",
    "        new_rank.append(1)\n",
    "crashes_encoded_2.collision_severity = new_rank\n",
    "crashes_encoded_2.collision_severity.value_counts()\n",
    "        "
   ]
  },
  {
   "cell_type": "code",
   "execution_count": 99,
   "metadata": {
    "scrolled": true
   },
   "outputs": [
    {
     "data": {
      "image/png": "[encoded data removed]",
      "text/plain": [
       "<Figure size 432x288 with 1 Axes>"
      ]
     },
     "metadata": {
      "needs_background": "light"
     },
     "output_type": "display_data"
    }
   ],
   "source": [
    "crashes_encoded_2.collision_severity.value_counts().plot(kind='bar', title='Class Imbalance');"
   ]
  },
  {
   "cell_type": "code",
   "execution_count": 95,
   "metadata": {
    "scrolled": true
   },
   "outputs": [
    {
     "data": {
      "text/html": [
       "<div>\n",
       "<style scoped>\n",
       "    .dataframe tbody tr th:only-of-type {\n",
       "        vertical-align: middle;\n",
       "    }\n",
       "\n",
       "    .dataframe tbody tr th {\n",
       "        vertical-align: top;\n",
       "    }\n",
       "\n",
       "    .dataframe thead th {\n",
       "        text-align: right;\n",
       "    }\n",
       "</style>\n",
       "<table border=\"1\" class=\"dataframe\">\n",
       "  <thead>\n",
       "    <tr style=\"text-align: right;\">\n",
       "      <th></th>\n",
       "      <th>county_location</th>\n",
       "      <th>collision_time</th>\n",
       "      <th>population</th>\n",
       "      <th>alcohol_involved</th>\n",
       "      <th>weather_1</th>\n",
       "      <th>lighting</th>\n",
       "      <th>road_surface</th>\n",
       "      <th>road_condition_1</th>\n",
       "      <th>state_highway_indicator</th>\n",
       "      <th>type_of_collision</th>\n",
       "      <th>party_count</th>\n",
       "      <th>collision_severity</th>\n",
       "    </tr>\n",
       "  </thead>\n",
       "  <tbody>\n",
       "    <tr>\n",
       "      <th>2</th>\n",
       "      <td>los angeles</td>\n",
       "      <td>10</td>\n",
       "      <td>0</td>\n",
       "      <td>0.0</td>\n",
       "      <td>1</td>\n",
       "      <td>0</td>\n",
       "      <td>1</td>\n",
       "      <td>0</td>\n",
       "      <td>1.0</td>\n",
       "      <td>2</td>\n",
       "      <td>2</td>\n",
       "      <td>0</td>\n",
       "    </tr>\n",
       "    <tr>\n",
       "      <th>3</th>\n",
       "      <td>los angeles</td>\n",
       "      <td>15</td>\n",
       "      <td>0</td>\n",
       "      <td>0.0</td>\n",
       "      <td>0</td>\n",
       "      <td>0</td>\n",
       "      <td>0</td>\n",
       "      <td>0</td>\n",
       "      <td>1.0</td>\n",
       "      <td>2</td>\n",
       "      <td>3</td>\n",
       "      <td>0</td>\n",
       "    </tr>\n",
       "    <tr>\n",
       "      <th>4</th>\n",
       "      <td>los angeles</td>\n",
       "      <td>17</td>\n",
       "      <td>2</td>\n",
       "      <td>0.0</td>\n",
       "      <td>2</td>\n",
       "      <td>2</td>\n",
       "      <td>0</td>\n",
       "      <td>0</td>\n",
       "      <td>1.0</td>\n",
       "      <td>0</td>\n",
       "      <td>3</td>\n",
       "      <td>0</td>\n",
       "    </tr>\n",
       "    <tr>\n",
       "      <th>5</th>\n",
       "      <td>los angeles</td>\n",
       "      <td>21</td>\n",
       "      <td>0</td>\n",
       "      <td>0.0</td>\n",
       "      <td>0</td>\n",
       "      <td>1</td>\n",
       "      <td>0</td>\n",
       "      <td>0</td>\n",
       "      <td>1.0</td>\n",
       "      <td>0</td>\n",
       "      <td>2</td>\n",
       "      <td>0</td>\n",
       "    </tr>\n",
       "    <tr>\n",
       "      <th>6</th>\n",
       "      <td>los angeles</td>\n",
       "      <td>20</td>\n",
       "      <td>0</td>\n",
       "      <td>0.0</td>\n",
       "      <td>0</td>\n",
       "      <td>1</td>\n",
       "      <td>0</td>\n",
       "      <td>0</td>\n",
       "      <td>1.0</td>\n",
       "      <td>0</td>\n",
       "      <td>2</td>\n",
       "      <td>0</td>\n",
       "    </tr>\n",
       "  </tbody>\n",
       "</table>\n",
       "</div>"
      ],
      "text/plain": [
       "  county_location  collision_time  population  alcohol_involved  weather_1  \\\n",
       "2     los angeles              10           0               0.0          1   \n",
       "3     los angeles              15           0               0.0          0   \n",
       "4     los angeles              17           2               0.0          2   \n",
       "5     los angeles              21           0               0.0          0   \n",
       "6     los angeles              20           0               0.0          0   \n",
       "\n",
       "   lighting  road_surface  road_condition_1  state_highway_indicator  \\\n",
       "2         0             1                 0                      1.0   \n",
       "3         0             0                 0                      1.0   \n",
       "4         2             0                 0                      1.0   \n",
       "5         1             0                 0                      1.0   \n",
       "6         1             0                 0                      1.0   \n",
       "\n",
       "   type_of_collision  party_count  collision_severity  \n",
       "2                  2            2                   0  \n",
       "3                  2            3                   0  \n",
       "4                  0            3                   0  \n",
       "5                  0            2                   0  \n",
       "6                  0            2                   0  "
      ]
     },
     "execution_count": 95,
     "metadata": {},
     "output_type": "execute_result"
    }
   ],
   "source": [
    "la_crashes_encoded_2 = crashes_encoded_2[crashes_encoded_severity.county_location == 'los angeles']\n",
    "la_crashes_encoded_2.head()"
   ]
  },
  {
   "cell_type": "code",
   "execution_count": 144,
   "metadata": {},
   "outputs": [
    {
     "data": {
      "text/plain": [
       "0    106245\n",
       "1     17515\n",
       "Name: collision_severity, dtype: int64"
      ]
     },
     "execution_count": 144,
     "metadata": {},
     "output_type": "execute_result"
    }
   ],
   "source": [
    "la_crashes_encoded_2.collision_severity.value_counts()"
   ]
  },
  {
   "cell_type": "code",
   "execution_count": 141,
   "metadata": {},
   "outputs": [
    {
     "data": {
      "text/plain": [
       "0.8501131221719457"
      ]
     },
     "execution_count": 141,
     "metadata": {},
     "output_type": "execute_result"
    }
   ],
   "source": [
    "y = la_crashes_encoded_2.collision_severity\n",
    "la_model_2 = la_crashes_encoded_2.drop(columns=['collision_severity', 'county_location'])\n",
    "X_train, X_test, y_train, y_test = train_test_split(la_model_2, y, test_size=0.3)\n",
    "\n",
    "# Create a Random forest Classifier\n",
    "rf_clf = RandomForestClassifier(n_estimators = 100, random_state=42)\n",
    "# Train the model using the training sets\n",
    "rf_clf.fit(X_train, y_train)\n",
    "\n",
    "Y_pred_rf = rf_clf.predict(X_test)\n",
    "\n",
    "from sklearn.metrics import confusion_matrix, f1_score, accuracy_score\n",
    "# Display accuracy score\n",
    "accuracy_score(y_test, Y_pred_rf)"
   ]
  },
  {
   "cell_type": "code",
   "execution_count": 142,
   "metadata": {
    "scrolled": false
   },
   "outputs": [
    {
     "data": {
      "text/plain": [
       "(0.2085051912956905,\n",
       " array([[30830,  1067],\n",
       "        [ 4498,   733]], dtype=int64),\n",
       " 0.5533373745702113)"
      ]
     },
     "execution_count": 142,
     "metadata": {},
     "output_type": "execute_result"
    }
   ],
   "source": [
    "from sklearn.metrics import f1_score, accuracy_score, confusion_matrix\n",
    "conf_m = confusion_matrix(y_test, Y_pred_rf)\n",
    "f1_score(y_test, Y_pred_rf), confusion_matrix(y_test, Y_pred_rf), roc_auc_score(y_test, Y_pred_rf)"
   ]
  },
  {
   "cell_type": "code",
   "execution_count": 143,
   "metadata": {},
   "outputs": [
    {
     "data": {
      "image/png": "[encoded data removed]",
      "text/plain": [
       "<Figure size 432x288 with 1 Axes>"
      ]
     },
     "metadata": {
      "needs_background": "light"
     },
     "output_type": "display_data"
    }
   ],
   "source": [
    "from mlxtend.plotting import plot_confusion_matrix\n",
    "import matplotlib.pyplot as plt\n",
    "import numpy as np\n",
    "\n",
    "conf_m = confusion_matrix(y_test, Y_pred_rf)\n",
    "\n",
    "fig, ax = plot_confusion_matrix(conf_mat=conf_m)\n",
    "plt.show()"
   ]
  },
  {
   "cell_type": "code",
   "execution_count": 121,
   "metadata": {},
   "outputs": [
    {
     "data": {
      "image/png": "[encoded data removed]",
      "text/plain": [
       "<Figure size 432x288 with 1 Axes>"
      ]
     },
     "metadata": {
      "needs_background": "light"
     },
     "output_type": "display_data"
    }
   ],
   "source": [
    "from sklearn import metrics\n",
    "import matplotlib.pyplot as plt\n",
    "#define metrics\n",
    "fpr, tpr, _ = metrics.roc_curve(y_test,  Y_pred_rf)\n",
    "\n",
    "#create ROC curve\n",
    "plt.plot(fpr,tpr)\n",
    "plt.ylabel('True Positive Rate')\n",
    "plt.xlabel('False Positive Rate')\n",
    "plt.show()"
   ]
  },
  {
   "cell_type": "code",
   "execution_count": 102,
   "metadata": {
    "scrolled": true
   },
   "outputs": [
    {
     "data": {
      "image/png": "[encoded data removed]",
      "text/plain": [
       "<Figure size 432x288 with 1 Axes>"
      ]
     },
     "metadata": {
      "needs_background": "light"
     },
     "output_type": "display_data"
    }
   ],
   "source": [
    "la_crashes_encoded_2.collision_severity.value_counts().plot(kind='bar', title='Class Imbalance');"
   ]
  },
  {
   "cell_type": "code",
   "execution_count": 107,
   "metadata": {},
   "outputs": [],
   "source": [
    "class_count_0, class_count_1  = la_crashes_encoded_2.collision_severity.value_counts()"
   ]
  },
  {
   "cell_type": "code",
   "execution_count": 108,
   "metadata": {},
   "outputs": [
    {
     "name": "stdout",
     "output_type": "stream",
     "text": [
      "class 0: (106245, 12)\n",
      "class 1: (17515, 12)\n"
     ]
    }
   ],
   "source": [
    "class_0 = la_crashes_encoded_2[la_crashes_encoded_2.collision_severity==0]\n",
    "class_1 = la_crashes_encoded_2[la_crashes_encoded_2.collision_severity==1]\n",
    "print('class 0:', class_0.shape)\n",
    "print('class 1:', class_1.shape)"
   ]
  },
  {
   "cell_type": "code",
   "execution_count": 123,
   "metadata": {},
   "outputs": [
    {
     "name": "stdout",
     "output_type": "stream",
     "text": [
      "total class of 1 and 0: 1    17515\n",
      "0    17515\n",
      "Name: collision_severity, dtype: int64\n"
     ]
    },
    {
     "data": {
      "text/plain": [
       "<matplotlib.axes._subplots.AxesSubplot at 0x2a34dfa0e08>"
      ]
     },
     "execution_count": 123,
     "metadata": {},
     "output_type": "execute_result"
    },
    {
     "data": {
      "image/png": "[encoded data removed]",
      "text/plain": [
       "<Figure size 432x288 with 1 Axes>"
      ]
     },
     "metadata": {
      "needs_background": "light"
     },
     "output_type": "display_data"
    }
   ],
   "source": [
    "class_1_over = class_1.sample(class_count_0, replace=True)\n",
    "\n",
    "test_over = pd.concat([class_1_over, class_0], axis=0)\n",
    "\n",
    "print(\"total class of 1 and 0:\",test_under['collision_severity'].value_counts())# plot the count after under-sampeling\n",
    "test_over['collision_severity'].value_counts().plot(kind='bar', title='count (target)')"
   ]
  },
  {
   "cell_type": "code",
   "execution_count": 148,
   "metadata": {},
   "outputs": [
    {
     "data": {
      "text/plain": [
       "0.7468743627151082"
      ]
     },
     "execution_count": 148,
     "metadata": {},
     "output_type": "execute_result"
    }
   ],
   "source": [
    "y = test_over.collision_severity\n",
    "la_model_3 = test_over.drop(columns=['collision_severity', 'county_location'])\n",
    "X_train, X_test, y_train, y_test = train_test_split(la_model_3, y, test_size=0.3)\n",
    "\n",
    "# Create a Random forest Classifier\n",
    "rf_clf = RandomForestClassifier(n_estimators = 100, random_state=42)\n",
    "# Train the model using the training sets\n",
    "rf_clf.fit(X_train, y_train)\n",
    "\n",
    "Y_pred_rf = rf_clf.predict(X_test)\n",
    "\n",
    "from sklearn.metrics import confusion_matrix, f1_score, accuracy_score\n",
    "# Display accuracy score\n",
    "accuracy_score(y_test, Y_pred_rf)"
   ]
  },
  {
   "cell_type": "code",
   "execution_count": 150,
   "metadata": {},
   "outputs": [
    {
     "data": {
      "text/plain": [
       "(0.7562758662356885,\n",
       " array([[22576,  9224],\n",
       "        [ 6912, 25035]], dtype=int64))"
      ]
     },
     "execution_count": 150,
     "metadata": {},
     "output_type": "execute_result"
    }
   ],
   "source": [
    "f1_score(y_test, Y_pred_rf), confusion_matrix(y_test, Y_pred_rf)"
   ]
  },
  {
   "cell_type": "code",
   "execution_count": 151,
   "metadata": {},
   "outputs": [
    {
     "data": {
      "text/plain": [
       "0.7467893817059031"
      ]
     },
     "execution_count": 151,
     "metadata": {},
     "output_type": "execute_result"
    }
   ],
   "source": [
    "from sklearn.metrics import roc_auc_score\n",
    "roc_auc_score(y_test, Y_pred_rf)"
   ]
  },
  {
   "cell_type": "code",
   "execution_count": 140,
   "metadata": {},
   "outputs": [
    {
     "data": {
      "image/png": "[encoded data removed]",
      "text/plain": [
       "<Figure size 432x288 with 1 Axes>"
      ]
     },
     "metadata": {
      "needs_background": "light"
     },
     "output_type": "display_data"
    }
   ],
   "source": [
    "from mlxtend.plotting import plot_confusion_matrix\n",
    "import matplotlib.pyplot as plt\n",
    "import numpy as np\n",
    "\n",
    "conf_m = confusion_matrix(y_test, Y_pred_rf)\n",
    "\n",
    "fig, ax = plot_confusion_matrix(conf_mat=conf_m)\n",
    "plt.show()"
   ]
  },
  {
   "cell_type": "code",
   "execution_count": 129,
   "metadata": {},
   "outputs": [
    {
     "data": {
      "image/png": "[encoded data removed]",
      "text/plain": [
       "<Figure size 432x288 with 1 Axes>"
      ]
     },
     "metadata": {
      "needs_background": "light"
     },
     "output_type": "display_data"
    }
   ],
   "source": [
    "from sklearn import metrics\n",
    "import matplotlib.pyplot as plt\n",
    "#define metrics\n",
    "fpr, tpr, _ = metrics.roc_curve(y_test,  Y_pred_rf)\n",
    "\n",
    "#create ROC curve\n",
    "plt.plot(fpr,tpr)\n",
    "plt.ylabel('True Positive Rate')\n",
    "plt.xlabel('False Positive Rate')\n",
    "plt.show()"
   ]
  },
  {
   "cell_type": "markdown",
   "metadata": {
    "tags": []
   },
   "source": [
    "# GeoPandas\n",
    "- heatmap of crash_severity per county"
   ]
  },
  {
   "cell_type": "code",
   "execution_count": null,
   "metadata": {},
   "outputs": [],
   "source": [
    "!pip install plotly"
   ]
  },
  {
   "cell_type": "code",
   "execution_count": null,
   "metadata": {},
   "outputs": [],
   "source": [
    "import pandas as pd\n",
    "import numpy as np\n",
    "import plotly.express as px\n"
   ]
  },
  {
   "cell_type": "code",
   "execution_count": null,
   "metadata": {},
   "outputs": [],
   "source": [
    "crashes_encoded.head()"
   ]
  },
  {
   "cell_type": "code",
   "execution_count": null,
   "metadata": {},
   "outputs": [],
   "source": [
    "import requests\n",
    "new_cali = requests.get(\n",
    "    \"https://raw.githubusercontent.com/codeforgermany/click_that_hood/main/public/data/california-counties.geojson\"\n",
    ").json()"
   ]
  },
  {
   "cell_type": "code",
   "execution_count": null,
   "metadata": {},
   "outputs": [],
   "source": [
    "for feature in new_cali['features']:\n",
    "    feature['properties']['name'] = feature['properties']['name'].lower()"
   ]
  },
  {
   "cell_type": "code",
   "execution_count": null,
   "metadata": {},
   "outputs": [],
   "source": [
    "#crash_severity heatmap\n",
    "fig = px.choropleth(crashes_encoded_severity, featureidkey='properties.name', locations='county_location', geojson=new_cali, color='collision_severity')\n",
    "fig.update_layout(margin={\"r\":0,\"t\":0,\"l\":0,\"b\":0})\n",
    "fig.update_geos(fitbounds=\"locations\", visible=True)\n",
    "fig.show()"
   ]
  },
  {
   "cell_type": "markdown",
   "metadata": {},
   "source": [
    "# Trying to map with fips\n"
   ]
  },
  {
   "cell_type": "code",
   "execution_count": null,
   "metadata": {},
   "outputs": [],
   "source": [
    "#didnt show clearly\n",
    "fig = px.density_mapbox(crashes_cords, lat='latitude', lon='longitude', z='collision_severity',\n",
    "                        mapbox_style=\"stamen-terrain\")\n",
    " \n",
    "fig"
   ]
  },
  {
   "cell_type": "code",
   "execution_count": null,
   "metadata": {},
   "outputs": [],
   "source": [
    "#import geopandas\n",
    "import pandas as pd\n",
    "#get fip ids for county in the U.S\n",
    "df_fips = pd.read_csv(\"https://raw.githubusercontent.com/kjhealy/fips-codes/master/state_and_county_fips_master.csv\",\n",
    "                   dtype={\"fips\": str})\n",
    "df_fips.head()\n",
    "\n"
   ]
  },
  {
   "cell_type": "code",
   "execution_count": null,
   "metadata": {},
   "outputs": [],
   "source": [
    "#only need fips for California counties\n",
    "cal_fips = df_fips[df_fips['state'] == 'CA']\n",
    "cal_fips['name'] = cal_fips['name']\n",
    "cal_fips = cal_fips.reset_index().drop(['index'], axis=1)\n",
    "cal_fips.head()\n"
   ]
  },
  {
   "cell_type": "code",
   "execution_count": null,
   "metadata": {},
   "outputs": [],
   "source": [
    "separator = ' County'\n",
    "cal_fips['name'] = [county.split(separator, 1)[0].lower() for county in cal_fips['name']] \n",
    "cal_fips['fips'] = [('0'+ fip) for fip in  cal_fips['fips'] ]\n",
    "cal_fips.head()"
   ]
  },
  {
   "cell_type": "code",
   "execution_count": null,
   "metadata": {},
   "outputs": [],
   "source": [
    "crashes_fips = pd.merge(crashes, cal_fips, on='county_location', how='outer')"
   ]
  },
  {
   "cell_type": "code",
   "execution_count": null,
   "metadata": {},
   "outputs": [],
   "source": []
  }
 ],
 "metadata": {
  "kernelspec": {
   "display_name": "Python 3",
   "language": "python",
   "name": "python3"
  },
  "language_info": {
   "codemirror_mode": {
    "name": "ipython",
    "version": 3
   },
   "file_extension": ".py",
   "mimetype": "text/x-python",
   "name": "python",
   "nbconvert_exporter": "python",
   "pygments_lexer": "ipython3",
   "version": "3.7.6"
  }
 },
 "nbformat": 4,
 "nbformat_minor": 5
}
